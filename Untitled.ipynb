{
 "cells": [
  {
   "cell_type": "code",
   "execution_count": 1,
   "id": "475af823-1729-48d7-92e7-0dd96fd594d0",
   "metadata": {},
   "outputs": [],
   "source": [
    "import pandas as pd\n",
    "from datasets import load_dataset\n",
    "import re\n",
    "import string\n",
    "\n",
    "from transformers import AutoTokenizer\n",
    "\n",
    "import math\n",
    "\n",
    "import torch\n",
    "import torch.nn as nn\n",
    "\n",
    "from torch.utils.data import Dataset, DataLoader\n",
    "\n",
    "from torch.utils.tensorboard import SummaryWriter\n",
    "from tqdm.notebook import tqdm\n",
    "from torch.optim import Adam\n",
    "import torch.nn.functional as F\n",
    "from torch.optim.lr_scheduler import LambdaLR\n",
    "\n",
    "import evaluate \n",
    "\n",
    "import os"
   ]
  },
  {
   "cell_type": "code",
   "execution_count": 2,
   "id": "b3074e50-04df-45a7-9f6c-6255461dc646",
   "metadata": {},
   "outputs": [],
   "source": [
    "ja_tokenizer = AutoTokenizer.from_pretrained('cl-tohoku/bert-base-japanese')\n",
    "en_tokenizer = AutoTokenizer.from_pretrained('bert-base-uncased')"
   ]
  },
  {
   "cell_type": "code",
   "execution_count": 3,
   "id": "66fe6ae5-5a8e-4c91-b17c-06768e38915f",
   "metadata": {},
   "outputs": [],
   "source": [
    "sos_id = en_tokenizer.cls_token_id\n",
    "eos_id = en_tokenizer.sep_token_id"
   ]
  },
  {
   "cell_type": "code",
   "execution_count": 4,
   "id": "c1c5d901-d846-425b-a02f-0ef3ca2e814c",
   "metadata": {},
   "outputs": [],
   "source": [
    "ja_punct = ['。', '、', '（', '）', '[', ']', '{',  '}', '【 ', '】', '〔', '〕', '<', '>', '，', '゠', '＝', '…', '‥', '『', '』', '〝', '〟',\n",
    "           '⟨', '⟩', '〜', '：', '！', '♪', '〖', '〗', '〘', '〙', '※', '〇', '│', '│']"
   ]
  },
  {
   "cell_type": "code",
   "execution_count": 5,
   "id": "20079641-a09b-4080-b454-7a1cefca40ee",
   "metadata": {},
   "outputs": [],
   "source": [
    "zenkaku = ['０', '１', '２', '３', '４', '５', '６', '７', '８', '９', '1', '2', '3', '4', '5', '6', '7', '8', '9', '0', \n",
    "           '（', '）', '＊', '「', '」', '［', '］', '【', '】', '＜', '＞', '？', '・', '＃', '＠', '＄', '％', '＝']"
   ]
  },
  {
   "cell_type": "code",
   "execution_count": 6,
   "id": "96bc1bcb-ecbf-4262-8b38-7a1d9f69ecd3",
   "metadata": {},
   "outputs": [],
   "source": [
    "raw_data = load_dataset(\"Verah/JParaCrawl-Filtered-English-Japanese-Parallel-Corpus\")"
   ]
  },
  {
   "cell_type": "code",
   "execution_count": 7,
   "id": "c129b5c9-d88a-4b23-91d5-247d88bfdaef",
   "metadata": {},
   "outputs": [],
   "source": [
    "ja_en = pd.DataFrame.from_dict(raw_data[\"train\"][2:38000])\n",
    "ja_en = ja_en[[\"japanese\", \"english\"]].drop_duplicates().reset_index(drop=True)"
   ]
  },
  {
   "cell_type": "code",
   "execution_count": 8,
   "id": "e254d511-f1df-44a5-b3bd-39bbe6e14f7d",
   "metadata": {},
   "outputs": [
    {
     "data": {
      "text/html": [
       "<div>\n",
       "<style scoped>\n",
       "    .dataframe tbody tr th:only-of-type {\n",
       "        vertical-align: middle;\n",
       "    }\n",
       "\n",
       "    .dataframe tbody tr th {\n",
       "        vertical-align: top;\n",
       "    }\n",
       "\n",
       "    .dataframe thead th {\n",
       "        text-align: right;\n",
       "    }\n",
       "</style>\n",
       "<table border=\"1\" class=\"dataframe\">\n",
       "  <thead>\n",
       "    <tr style=\"text-align: right;\">\n",
       "      <th></th>\n",
       "      <th>japanese</th>\n",
       "      <th>english</th>\n",
       "    </tr>\n",
       "  </thead>\n",
       "  <tbody>\n",
       "    <tr>\n",
       "      <th>0</th>\n",
       "      <td>スポンサードリンク この広告は一定期間更新がない場合に表示されます。</td>\n",
       "      <td>Sponsored link This advertisement is displayed...</td>\n",
       "    </tr>\n",
       "    <tr>\n",
       "      <th>1</th>\n",
       "      <td>また、 プレミアムユーザー になると常に非表示になります。</td>\n",
       "      <td>Also, it will always be hidden when becoming a...</td>\n",
       "    </tr>\n",
       "    <tr>\n",
       "      <th>2</th>\n",
       "      <td>コンテンツの更新が行われると非表示に戻ります。</td>\n",
       "      <td>It will return to non-display when content upd...</td>\n",
       "    </tr>\n",
       "    <tr>\n",
       "      <th>3</th>\n",
       "      <td>Youtubeを中心にミニマリストと言っている方の動画をたくさんみましたが、納得いくもののも...</td>\n",
       "      <td>It’s like you can enrich it and save money as ...</td>\n",
       "    </tr>\n",
       "    <tr>\n",
       "      <th>4</th>\n",
       "      <td>ffmpeg -i sample.mp4 -strict -2 video.webm まとめ...</td>\n",
       "      <td>Go to the original video hierarchy of the conv...</td>\n",
       "    </tr>\n",
       "  </tbody>\n",
       "</table>\n",
       "</div>"
      ],
      "text/plain": [
       "                                            japanese  \\\n",
       "0                 スポンサードリンク この広告は一定期間更新がない場合に表示されます。   \n",
       "1                      また、 プレミアムユーザー になると常に非表示になります。   \n",
       "2                            コンテンツの更新が行われると非表示に戻ります。   \n",
       "3  Youtubeを中心にミニマリストと言っている方の動画をたくさんみましたが、納得いくもののも...   \n",
       "4  ffmpeg -i sample.mp4 -strict -2 video.webm まとめ...   \n",
       "\n",
       "                                             english  \n",
       "0  Sponsored link This advertisement is displayed...  \n",
       "1  Also, it will always be hidden when becoming a...  \n",
       "2  It will return to non-display when content upd...  \n",
       "3  It’s like you can enrich it and save money as ...  \n",
       "4  Go to the original video hierarchy of the conv...  "
      ]
     },
     "execution_count": 8,
     "metadata": {},
     "output_type": "execute_result"
    }
   ],
   "source": [
    "ja_en.head()"
   ]
  },
  {
   "cell_type": "code",
   "execution_count": 9,
   "id": "7faa90d1-d374-482b-94cc-97f12070bed8",
   "metadata": {},
   "outputs": [
    {
     "data": {
      "text/html": [
       "<div>\n",
       "<style scoped>\n",
       "    .dataframe tbody tr th:only-of-type {\n",
       "        vertical-align: middle;\n",
       "    }\n",
       "\n",
       "    .dataframe tbody tr th {\n",
       "        vertical-align: top;\n",
       "    }\n",
       "\n",
       "    .dataframe thead th {\n",
       "        text-align: right;\n",
       "    }\n",
       "</style>\n",
       "<table border=\"1\" class=\"dataframe\">\n",
       "  <thead>\n",
       "    <tr style=\"text-align: right;\">\n",
       "      <th></th>\n",
       "      <th>japanese</th>\n",
       "      <th>english</th>\n",
       "    </tr>\n",
       "  </thead>\n",
       "  <tbody>\n",
       "    <tr>\n",
       "      <th>21101</th>\n",
       "      <td>桜 Exhibition 2010 参加 @moko_u からのツイート 代表作品 桜 Ex...</td>\n",
       "      <td>Sakura Exhibition 2010 @moko_u My Works Entry ...</td>\n",
       "    </tr>\n",
       "    <tr>\n",
       "      <th>21102</th>\n",
       "      <td>主な仕事実績として、育児・教育関係の雑誌・書籍のイラスト多数。</td>\n",
       "      <td>I have drawn a lot of illustrations for books ...</td>\n",
       "    </tr>\n",
       "    <tr>\n",
       "      <th>21103</th>\n",
       "      <td>ストーリー性のあるイラストを、水彩絵の具や、 Photoshopで描いています。 桜 Exh...</td>\n",
       "      <td>I draw a sweet and somewhat funny world with w...</td>\n",
       "    </tr>\n",
       "    <tr>\n",
       "      <th>21104</th>\n",
       "      <td>お仕事では書籍の表紙や、カードゲームイラストを描かせていただいています。 @simetta ...</td>\n",
       "      <td>I draw illustrations for book covers and card ...</td>\n",
       "    </tr>\n",
       "    <tr>\n",
       "      <th>21105</th>\n",
       "      <td>季節感を表現した情緒あふれる作風が持ち味です。</td>\n",
       "      <td>I like to add the sense of the seasons to my i...</td>\n",
       "    </tr>\n",
       "  </tbody>\n",
       "</table>\n",
       "</div>"
      ],
      "text/plain": [
       "                                                japanese  \\\n",
       "21101  桜 Exhibition 2010 参加 @moko_u からのツイート 代表作品 桜 Ex...   \n",
       "21102                    主な仕事実績として、育児・教育関係の雑誌・書籍のイラスト多数。   \n",
       "21103  ストーリー性のあるイラストを、水彩絵の具や、 Photoshopで描いています。 桜 Exh...   \n",
       "21104  お仕事では書籍の表紙や、カードゲームイラストを描かせていただいています。 @simetta ...   \n",
       "21105                            季節感を表現した情緒あふれる作風が持ち味です。   \n",
       "\n",
       "                                                 english  \n",
       "21101  Sakura Exhibition 2010 @moko_u My Works Entry ...  \n",
       "21102  I have drawn a lot of illustrations for books ...  \n",
       "21103  I draw a sweet and somewhat funny world with w...  \n",
       "21104  I draw illustrations for book covers and card ...  \n",
       "21105  I like to add the sense of the seasons to my i...  "
      ]
     },
     "execution_count": 9,
     "metadata": {},
     "output_type": "execute_result"
    }
   ],
   "source": [
    "ja_en.tail()"
   ]
  },
  {
   "cell_type": "code",
   "execution_count": 10,
   "id": "10ce0657-ec2f-4d81-8147-162706415afd",
   "metadata": {},
   "outputs": [
    {
     "data": {
      "text/plain": [
       "(21106, 2)"
      ]
     },
     "execution_count": 10,
     "metadata": {},
     "output_type": "execute_result"
    }
   ],
   "source": [
    "ja_en.shape"
   ]
  },
  {
   "cell_type": "code",
   "execution_count": 11,
   "id": "4b9a5ce3-b5d5-4207-9ed6-d0e20689ac72",
   "metadata": {},
   "outputs": [
    {
     "data": {
      "text/plain": [
       "np.int64(0)"
      ]
     },
     "execution_count": 11,
     "metadata": {},
     "output_type": "execute_result"
    }
   ],
   "source": [
    "ja_en['japanese'].isna().sum()"
   ]
  },
  {
   "cell_type": "code",
   "execution_count": 12,
   "id": "34a2e0cf-49cd-47cc-bc63-11a5df692cc2",
   "metadata": {},
   "outputs": [],
   "source": [
    "train_dataset = ja_en[2:19001]\n",
    "val_dataset = ja_en[19001::]"
   ]
  },
  {
   "cell_type": "code",
   "execution_count": 13,
   "id": "a5c2f8a8-f9e2-4b35-92ef-050bbeafe96f",
   "metadata": {},
   "outputs": [
    {
     "data": {
      "text/html": [
       "<div>\n",
       "<style scoped>\n",
       "    .dataframe tbody tr th:only-of-type {\n",
       "        vertical-align: middle;\n",
       "    }\n",
       "\n",
       "    .dataframe tbody tr th {\n",
       "        vertical-align: top;\n",
       "    }\n",
       "\n",
       "    .dataframe thead th {\n",
       "        text-align: right;\n",
       "    }\n",
       "</style>\n",
       "<table border=\"1\" class=\"dataframe\">\n",
       "  <thead>\n",
       "    <tr style=\"text-align: right;\">\n",
       "      <th></th>\n",
       "      <th>japanese</th>\n",
       "      <th>english</th>\n",
       "    </tr>\n",
       "  </thead>\n",
       "  <tbody>\n",
       "    <tr>\n",
       "      <th>2</th>\n",
       "      <td>コンテンツの更新が行われると非表示に戻ります。</td>\n",
       "      <td>It will return to non-display when content upd...</td>\n",
       "    </tr>\n",
       "    <tr>\n",
       "      <th>3</th>\n",
       "      <td>Youtubeを中心にミニマリストと言っている方の動画をたくさんみましたが、納得いくもののも...</td>\n",
       "      <td>It’s like you can enrich it and save money as ...</td>\n",
       "    </tr>\n",
       "    <tr>\n",
       "      <th>4</th>\n",
       "      <td>ffmpeg -i sample.mp4 -strict -2 video.webm まとめ...</td>\n",
       "      <td>Go to the original video hierarchy of the conv...</td>\n",
       "    </tr>\n",
       "    <tr>\n",
       "      <th>5</th>\n",
       "      <td>大企業と付き合っていると 、 「 安定」している認識になってしまいがちです。</td>\n",
       "      <td>When you’re dealing with a large corporation, ...</td>\n",
       "    </tr>\n",
       "    <tr>\n",
       "      <th>6</th>\n",
       "      <td>極端に古くなければだいたい大丈夫でしょう。</td>\n",
       "      <td>If it’s not too old, you should be able to use...</td>\n",
       "    </tr>\n",
       "    <tr>\n",
       "      <th>...</th>\n",
       "      <td>...</td>\n",
       "      <td>...</td>\n",
       "    </tr>\n",
       "    <tr>\n",
       "      <th>18996</th>\n",
       "      <td>東京生まれ。</td>\n",
       "      <td>Born in Tokyo.</td>\n",
       "    </tr>\n",
       "    <tr>\n",
       "      <th>18997</th>\n",
       "      <td>イラスト関係の 出版・イベント企画・展示会企画等、国内外で幅広く活動。</td>\n",
       "      <td>Running a gallery only for illustrations “12G”...</td>\n",
       "    </tr>\n",
       "    <tr>\n",
       "      <th>18998</th>\n",
       "      <td>イラストだけでなくデザインや音楽、詩など幅広い分野で活躍を目論んでます。</td>\n",
       "      <td>I aim to be active not only with drawing illus...</td>\n",
       "    </tr>\n",
       "    <tr>\n",
       "      <th>18999</th>\n",
       "      <td>しかし次第に父が画家であることにコンプレックスを感じるようになり、しばらく美術の世界から離れ...</td>\n",
       "      <td>However, I began to have an inferiority comple...</td>\n",
       "    </tr>\n",
       "    <tr>\n",
       "      <th>19000</th>\n",
       "      <td>幼い頃から絵に親しみ、大学を卒業後、関東への転居を機に活動を開始。</td>\n",
       "      <td>I have been spending most of my time drawing p...</td>\n",
       "    </tr>\n",
       "  </tbody>\n",
       "</table>\n",
       "<p>18999 rows × 2 columns</p>\n",
       "</div>"
      ],
      "text/plain": [
       "                                                japanese  \\\n",
       "2                                コンテンツの更新が行われると非表示に戻ります。   \n",
       "3      Youtubeを中心にミニマリストと言っている方の動画をたくさんみましたが、納得いくもののも...   \n",
       "4      ffmpeg -i sample.mp4 -strict -2 video.webm まとめ...   \n",
       "5                 大企業と付き合っていると 、 「 安定」している認識になってしまいがちです。   \n",
       "6                                  極端に古くなければだいたい大丈夫でしょう。   \n",
       "...                                                  ...   \n",
       "18996                                             東京生まれ。   \n",
       "18997                イラスト関係の 出版・イベント企画・展示会企画等、国内外で幅広く活動。   \n",
       "18998               イラストだけでなくデザインや音楽、詩など幅広い分野で活躍を目論んでます。   \n",
       "18999  しかし次第に父が画家であることにコンプレックスを感じるようになり、しばらく美術の世界から離れ...   \n",
       "19000                  幼い頃から絵に親しみ、大学を卒業後、関東への転居を機に活動を開始。   \n",
       "\n",
       "                                                 english  \n",
       "2      It will return to non-display when content upd...  \n",
       "3      It’s like you can enrich it and save money as ...  \n",
       "4      Go to the original video hierarchy of the conv...  \n",
       "5      When you’re dealing with a large corporation, ...  \n",
       "6      If it’s not too old, you should be able to use...  \n",
       "...                                                  ...  \n",
       "18996                                     Born in Tokyo.  \n",
       "18997  Running a gallery only for illustrations “12G”...  \n",
       "18998  I aim to be active not only with drawing illus...  \n",
       "18999  However, I began to have an inferiority comple...  \n",
       "19000  I have been spending most of my time drawing p...  \n",
       "\n",
       "[18999 rows x 2 columns]"
      ]
     },
     "execution_count": 13,
     "metadata": {},
     "output_type": "execute_result"
    }
   ],
   "source": [
    "train_dataset"
   ]
  },
  {
   "cell_type": "code",
   "execution_count": 14,
   "id": "c46a5393-6e52-45e8-819d-97699a17defe",
   "metadata": {},
   "outputs": [
    {
     "data": {
      "text/html": [
       "<div>\n",
       "<style scoped>\n",
       "    .dataframe tbody tr th:only-of-type {\n",
       "        vertical-align: middle;\n",
       "    }\n",
       "\n",
       "    .dataframe tbody tr th {\n",
       "        vertical-align: top;\n",
       "    }\n",
       "\n",
       "    .dataframe thead th {\n",
       "        text-align: right;\n",
       "    }\n",
       "</style>\n",
       "<table border=\"1\" class=\"dataframe\">\n",
       "  <thead>\n",
       "    <tr style=\"text-align: right;\">\n",
       "      <th></th>\n",
       "      <th>japanese</th>\n",
       "      <th>english</th>\n",
       "    </tr>\n",
       "  </thead>\n",
       "  <tbody>\n",
       "    <tr>\n",
       "      <th>19001</th>\n",
       "      <td>東洋美術学校卒業後、グラフィックデザイナー、webデザイナーなどを経て、イラストレーターとなる。</td>\n",
       "      <td>Became a graphic designer and a designer of we...</td>\n",
       "    </tr>\n",
       "    <tr>\n",
       "      <th>19002</th>\n",
       "      <td>コミティアやグループ展などで作品を発表しています。</td>\n",
       "      <td>I show my works at COMITIA and group exhibitions.</td>\n",
       "    </tr>\n",
       "    <tr>\n",
       "      <th>19003</th>\n",
       "      <td>12年間民族学校で学んだ後、様々なアルバイト経験を経てフリーの絵描きとして活動中。</td>\n",
       "      <td>After studying at a Korean school in Japan for...</td>\n",
       "    </tr>\n",
       "    <tr>\n",
       "      <th>19004</th>\n",
       "      <td>illustratorのベジェ曲線で描く、ファンタジックで可愛い、ダークでクール、そして妖艶...</td>\n",
       "      <td>I hope viewers will enjoy fantastic, cute, dar...</td>\n",
       "    </tr>\n",
       "    <tr>\n",
       "      <th>19005</th>\n",
       "      <td>2007年、カメラマン フルカワチヒロとの出会いをきっかけに創作活動を再開。</td>\n",
       "      <td>I started to create works again in 2007 after ...</td>\n",
       "    </tr>\n",
       "    <tr>\n",
       "      <th>...</th>\n",
       "      <td>...</td>\n",
       "      <td>...</td>\n",
       "    </tr>\n",
       "    <tr>\n",
       "      <th>21101</th>\n",
       "      <td>桜 Exhibition 2010 参加 @moko_u からのツイート 代表作品 桜 Ex...</td>\n",
       "      <td>Sakura Exhibition 2010 @moko_u My Works Entry ...</td>\n",
       "    </tr>\n",
       "    <tr>\n",
       "      <th>21102</th>\n",
       "      <td>主な仕事実績として、育児・教育関係の雑誌・書籍のイラスト多数。</td>\n",
       "      <td>I have drawn a lot of illustrations for books ...</td>\n",
       "    </tr>\n",
       "    <tr>\n",
       "      <th>21103</th>\n",
       "      <td>ストーリー性のあるイラストを、水彩絵の具や、 Photoshopで描いています。 桜 Exh...</td>\n",
       "      <td>I draw a sweet and somewhat funny world with w...</td>\n",
       "    </tr>\n",
       "    <tr>\n",
       "      <th>21104</th>\n",
       "      <td>お仕事では書籍の表紙や、カードゲームイラストを描かせていただいています。 @simetta ...</td>\n",
       "      <td>I draw illustrations for book covers and card ...</td>\n",
       "    </tr>\n",
       "    <tr>\n",
       "      <th>21105</th>\n",
       "      <td>季節感を表現した情緒あふれる作風が持ち味です。</td>\n",
       "      <td>I like to add the sense of the seasons to my i...</td>\n",
       "    </tr>\n",
       "  </tbody>\n",
       "</table>\n",
       "<p>2105 rows × 2 columns</p>\n",
       "</div>"
      ],
      "text/plain": [
       "                                                japanese  \\\n",
       "19001   東洋美術学校卒業後、グラフィックデザイナー、webデザイナーなどを経て、イラストレーターとなる。   \n",
       "19002                          コミティアやグループ展などで作品を発表しています。   \n",
       "19003          12年間民族学校で学んだ後、様々なアルバイト経験を経てフリーの絵描きとして活動中。   \n",
       "19004  illustratorのベジェ曲線で描く、ファンタジックで可愛い、ダークでクール、そして妖艶...   \n",
       "19005             2007年、カメラマン フルカワチヒロとの出会いをきっかけに創作活動を再開。   \n",
       "...                                                  ...   \n",
       "21101  桜 Exhibition 2010 参加 @moko_u からのツイート 代表作品 桜 Ex...   \n",
       "21102                    主な仕事実績として、育児・教育関係の雑誌・書籍のイラスト多数。   \n",
       "21103  ストーリー性のあるイラストを、水彩絵の具や、 Photoshopで描いています。 桜 Exh...   \n",
       "21104  お仕事では書籍の表紙や、カードゲームイラストを描かせていただいています。 @simetta ...   \n",
       "21105                            季節感を表現した情緒あふれる作風が持ち味です。   \n",
       "\n",
       "                                                 english  \n",
       "19001  Became a graphic designer and a designer of we...  \n",
       "19002  I show my works at COMITIA and group exhibitions.  \n",
       "19003  After studying at a Korean school in Japan for...  \n",
       "19004  I hope viewers will enjoy fantastic, cute, dar...  \n",
       "19005  I started to create works again in 2007 after ...  \n",
       "...                                                  ...  \n",
       "21101  Sakura Exhibition 2010 @moko_u My Works Entry ...  \n",
       "21102  I have drawn a lot of illustrations for books ...  \n",
       "21103  I draw a sweet and somewhat funny world with w...  \n",
       "21104  I draw illustrations for book covers and card ...  \n",
       "21105  I like to add the sense of the seasons to my i...  \n",
       "\n",
       "[2105 rows x 2 columns]"
      ]
     },
     "execution_count": 14,
     "metadata": {},
     "output_type": "execute_result"
    }
   ],
   "source": [
    "val_dataset"
   ]
  },
  {
   "cell_type": "code",
   "execution_count": 15,
   "id": "af3c66ad-c278-483a-9718-ccb9dd430f99",
   "metadata": {},
   "outputs": [],
   "source": [
    "def prepare_en_train_corpus(data):\n",
    "    train_data = data['train'][2:35000]\n",
    "    train_data = pd.DataFrame.from_dict(train_data)\n",
    "    train_data = train_data[['english', 'japanese']].reset_index(drop=True)\n",
    "    train_data.drop_duplicates(inplace=True)\n",
    "    en_corpus = train_data['english'].tolist()\n",
    "    return en_corpus"
   ]
  },
  {
   "cell_type": "code",
   "execution_count": 16,
   "id": "ceaa9a84-1aa7-47b9-8079-c4dcdde593da",
   "metadata": {},
   "outputs": [],
   "source": [
    "def preprocess_the_ja_text(text):\n",
    "    text = re.sub(r'(https?://[a-zA-Z0-9.-]*)', r'', text)\n",
    "    text = re.sub(r'(quote=\\w+\\s?\\w+;?\\w+)', r'', text)\n",
    "    text = re.sub(r'[^\\w\\s]|\\d+', r'', text)\n",
    "    \n",
    "    for z in zenkaku:\n",
    "        text = text.replace(z, '')\n",
    "        \n",
    "    for punct in ja_punct:\n",
    "        text = text.replace(punct, '')\n",
    "    return text.strip()"
   ]
  },
  {
   "cell_type": "code",
   "execution_count": 17,
   "id": "aa172b96-5ba6-424f-893e-9dcf55df3286",
   "metadata": {},
   "outputs": [],
   "source": [
    "def preprocess_the_en_text(text):\n",
    "    text = text.lower().strip()\n",
    "    text = re.sub(r'(https?://[a-zA-Z0-9.-]*)', r'', text)\n",
    "    text = re.sub(r'(quote=\\w+\\s?\\w+;?\\w+)', r'', text)\n",
    "    text = text.replace(\"'m\", ' am')\n",
    "    text = text.replace(\"'re\", \" are\")\n",
    "    text = text.replace(\"'ll\", \" will\")\n",
    "    text = text.replace(\"'ve\", \" have\")\n",
    "    text = text.replace(\"'d\", \" would\")\n",
    "    text = text.translate(str.maketrans(' ', ' ', string.punctuation))\n",
    "    return text.strip()"
   ]
  },
  {
   "cell_type": "code",
   "execution_count": 18,
   "id": "f49fefbe-94fe-49f8-838e-a9c8bb57e52c",
   "metadata": {},
   "outputs": [],
   "source": [
    "class TranslationDataset(Dataset):\n",
    "    def __init__(self, dataset, ja_tokenizer, en_tokenizer, max_len=80):\n",
    "        \n",
    "        self.ja_samples = [preprocess_the_ja_text(t) for t in dataset[\"japanese\"].to_list()]\n",
    "        self.en_samples = [preprocess_the_en_text(t) for t in dataset[\"english\"].to_list()]\n",
    "        \n",
    "        self.ja_tokenizer = ja_tokenizer\n",
    "        self.en_tokenizer = en_tokenizer\n",
    "        \n",
    "        self.max_len = max_len\n",
    "\n",
    "        self.ja_ids = [self.ja_tokenizer.encode(ja, \n",
    "                                                max_length=self.max_len, \n",
    "                                                padding=\"max_length\", \n",
    "                                                truncation=True, \n",
    "                                                return_tensors='pt').squeeze() for ja in self.ja_samples]\n",
    "        self.en_ids = [self.en_tokenizer.encode(en, \n",
    "                                                max_length=self.max_len, \n",
    "                                                padding=\"max_length\", \n",
    "                                                truncation=True, \n",
    "                                                return_tensors='pt', \n",
    "                                                add_special_tokens=True).squeeze() for en in self.en_samples]\n",
    "        self.ja_ids = torch.stack(self.ja_ids)\n",
    "        self.en_ids = torch.stack(self.en_ids)\n",
    "\n",
    "    def __getitem__(self, idx):\n",
    "        return self.ja_ids[idx], self.en_ids[idx]\n",
    "\n",
    "    def __len__(self):\n",
    "        return self.ja_ids.size(0)\n",
    "\n",
    "    def ja_vocab_size(self):\n",
    "        return len(self.ja_tokenizer)\n",
    "\n",
    "    def en_vocab_size(self):\n",
    "        return len(self.en_tokenizer)"
   ]
  },
  {
   "cell_type": "code",
   "execution_count": 19,
   "id": "115e1de2-cd57-4fdc-9147-e0a46132c6c8",
   "metadata": {},
   "outputs": [],
   "source": [
    "class PositionalEncoder(nn.Module):\n",
    "    def __init__(self, d_model, max_seq_len=80, dropout=0.1):\n",
    "        super().__init__()\n",
    "        self.d_model = d_model\n",
    "        self.dropout = nn.Dropout(dropout)\n",
    "        pe = torch.zeros(max_seq_len, d_model)\n",
    "        position = torch.arange(0, max_seq_len, dtype=torch.float).unsqueeze(1)\n",
    "        div_term = torch.exp(torch.arange(0, d_model, 2).float() * (-math.log(10000.0) / d_model))\n",
    "        pe[:, 0::2] = torch.sin(position * div_term)\n",
    "        pe[:, 1::2] = torch.cos(position * div_term)\n",
    "        pe = pe.unsqueeze(0)  \n",
    "        \n",
    "        self.register_buffer(\"pe\", pe)\n",
    "            \n",
    "    def forward(self, x):\n",
    "        seq_len = x.size(1)\n",
    "        x = x * math.sqrt(self.d_model)\n",
    "        x = x + self.pe[:, :seq_len, :].to(x.device)   \n",
    "        return self.dropout(x)"
   ]
  },
  {
   "cell_type": "code",
   "execution_count": 20,
   "id": "7fa8e864-30e6-4c35-ade5-b61dcb648359",
   "metadata": {},
   "outputs": [],
   "source": [
    "class MultiHeadAttention(nn.Module):\n",
    "    def __init__(self, d_model, n_heads, dropout=0.1):\n",
    "        super().__init__()\n",
    "        self.d_model = d_model\n",
    "        self.n_heads = n_heads\n",
    "        self.head_dim = d_model // n_heads\n",
    "\n",
    "        assert self.d_model % self.n_heads == 0, \"d_model has to be divisible by n_heads.\"\n",
    "        \n",
    "        self.w_q = nn.Linear(self.d_model, self.d_model)\n",
    "        self.w_k = nn.Linear(self.d_model, self.d_model)\n",
    "        self.w_v = nn.Linear(self.d_model, self.d_model)\n",
    "        self.out = nn.Linear(self.d_model, self.d_model)\n",
    "\n",
    "        self.dropout = nn.Dropout(dropout)\n",
    "        \n",
    "    def forward(self, q, k, v, mask=None):\n",
    "        batch_size = q.size(0)\n",
    "        q_len = q.size(1)\n",
    "        k_len = k.size(1)\n",
    "\n",
    "        q = self.w_q(q)\n",
    "        k = self.w_k(k)\n",
    "        v = self.w_v(v)\n",
    "\n",
    "        q = q.view(batch_size, q_len, self.n_heads, self.head_dim).permute(0, 2, 1, 3)\n",
    "        k = k.view(batch_size, k_len, self.n_heads, self.head_dim).permute(0, 2, 1, 3)\n",
    "        v = v.view(batch_size, k_len, self.n_heads, self.head_dim).permute(0, 2, 1, 3)\n",
    "\n",
    "        attention_weights = torch.matmul(q, k.transpose(-1, -2)) / math.sqrt(self.head_dim)\n",
    "        \n",
    "        if mask is not None:\n",
    "            attention_weights = attention_weights.masked_fill(mask == 0, float('-1e20'))\n",
    "            \n",
    "        attention_scores = F.softmax(attention_weights,dim=-1)\n",
    "        attention_scores = self.dropout(attention_scores)\n",
    "        context = torch.matmul(attention_scores, v)\n",
    "        concat = context.permute(0, 2, 1, 3).contiguous().view(batch_size, q_len, self.n_heads*self.head_dim)\n",
    "\n",
    "        x = self.out(concat)\n",
    "        return x"
   ]
  },
  {
   "cell_type": "code",
   "execution_count": 21,
   "id": "5680baae-7b70-442e-9d58-e665a414e30c",
   "metadata": {},
   "outputs": [],
   "source": [
    "class EncoderBlock(nn.Module):\n",
    "    def __init__(self, d_model, n_heads=8, dropout=0.1):\n",
    "        super().__init__()\n",
    "        self.attention = MultiHeadAttention(d_model, n_heads)\n",
    "        self.dropout1 = nn.Dropout(dropout)\n",
    "        self.norm1 = nn.LayerNorm(d_model)\n",
    "        self.feedforward = nn.Sequential(\n",
    "            nn.Linear(d_model, d_model*4),\n",
    "            nn.ReLU(),\n",
    "            nn.Dropout(dropout),\n",
    "            nn.Linear(d_model*4, d_model)\n",
    "        )\n",
    "        self.dropout2 = nn.Dropout(dropout)\n",
    "        self.norm2 = nn.LayerNorm(d_model)\n",
    "        \n",
    "    def forward(self, x, mask=None):\n",
    "        attention_out = self.attention(x, x, x, mask)\n",
    "        attention_residual_out = self.dropout1(attention_out) + x\n",
    "        norm1_out = self.norm1(attention_residual_out)\n",
    "        feedfwd_out = self.feedforward(norm1_out)\n",
    "        feedfwd_residual_out = self.dropout2(feedfwd_out) + norm1_out\n",
    "        output = self.norm2(feedfwd_residual_out)\n",
    "        \n",
    "        return output"
   ]
  },
  {
   "cell_type": "code",
   "execution_count": 22,
   "id": "b72b55c4-b245-4b60-82e8-b2dba5684b56",
   "metadata": {},
   "outputs": [],
   "source": [
    "class Encoder(nn.Module):\n",
    "    def __init__(self, d_model, n_heads=8, dropout=0.1, n_layers=6):\n",
    "        super().__init__()\n",
    "        self.n_layers = n_layers\n",
    "        self.layers = nn.ModuleList([\n",
    "            EncoderBlock(d_model, n_heads, dropout=dropout)\n",
    "            for i in range(n_layers)\n",
    "        ])\n",
    "        \n",
    "    def forward(self, x, ja_mask=None):\n",
    "        for layer in self.layers:\n",
    "            x = layer(x, ja_mask)\n",
    "        return x"
   ]
  },
  {
   "cell_type": "code",
   "execution_count": 23,
   "id": "b9dc69a3-3378-472c-b3d1-adb57721b652",
   "metadata": {},
   "outputs": [],
   "source": [
    "class DecoderBlock(nn.Module):\n",
    "    def __init__(self, d_model, n_heads=8, dropout=0.1, mask=None):\n",
    "        super().__init__()\n",
    "        self.masked_attention = MultiHeadAttention(d_model, n_heads)\n",
    "        self.dropout1 = nn.Dropout(dropout)\n",
    "        self.norm1 = nn.LayerNorm(d_model)\n",
    "        \n",
    "        self.attention = MultiHeadAttention(d_model, n_heads)\n",
    "        self.dropout2 = nn.Dropout(dropout)\n",
    "        self.norm2 = nn.LayerNorm(d_model)\n",
    "        \n",
    "        self.feedforward = nn.Sequential(\n",
    "            nn.Linear(d_model, d_model*4), \n",
    "            nn.ReLU(),\n",
    "            nn.Linear(d_model*4, d_model)\n",
    "        )\n",
    "        self.dropout3 = nn.Dropout(dropout)\n",
    "        self.norm3 = nn.LayerNorm(d_model)\n",
    "        \n",
    "    def forward(self, x, enc_out, ja_mask=None, en_mask=None):\n",
    "        masked_attention_out = self.masked_attention(x, x, x, mask=en_mask)\n",
    "        masked_attention_residual_out = self.dropout1(masked_attention_out) + x\n",
    "        norm1_out = self.norm1(masked_attention_residual_out) \n",
    "        \n",
    "        attention_out = self.attention(norm1_out, enc_out, enc_out, mask=ja_mask)\n",
    "        attention_residual_out = self.dropout2(attention_out) + norm1_out\n",
    "        norm2_out = self.norm2(attention_residual_out)\n",
    "        \n",
    "        feedfwd_out = self.feedforward(norm2_out)\n",
    "        feedfwd_residual_out = self.dropout3(feedfwd_out) + norm2_out\n",
    "        output = self.norm3(feedfwd_residual_out)\n",
    "        \n",
    "        return output"
   ]
  },
  {
   "cell_type": "code",
   "execution_count": 24,
   "id": "34319d8a-9f8c-4e14-99e6-b30fc0f64087",
   "metadata": {},
   "outputs": [],
   "source": [
    "class Decoder(nn.Module):\n",
    "    def __init__(self, d_model, n_heads=8, dropout=0.1, n_layers=6):\n",
    "        super().__init__()\n",
    "        self.n_layers = n_layers\n",
    "        self.layers = nn.ModuleList([\n",
    "            DecoderBlock(d_model, n_heads, dropout=dropout)\n",
    "            for i in range(n_layers)\n",
    "        ])\n",
    "    def forward(self, x, enc_out, en_mask=None, ja_mask=None):\n",
    "        for layer in self.layers:\n",
    "            x = layer(x, enc_out, en_mask=en_mask, ja_mask=ja_mask)\n",
    "        return x"
   ]
  },
  {
   "cell_type": "code",
   "execution_count": 25,
   "id": "012a85a8-6896-40df-ac11-b07751e47bd4",
   "metadata": {},
   "outputs": [],
   "source": [
    "class Transformer(nn.Module):\n",
    "    def __init__(self, d_model, ja_vocab_size, en_vocab_size, max_seq_len=80, n_heads=8, dropout=0.1, n_layers=6):\n",
    "        super().__init__()\n",
    "        self.d_model = d_model\n",
    "        self.ja_embedding = nn.Embedding(ja_vocab_size, d_model)\n",
    "        self.en_embedding = nn.Embedding(en_vocab_size, d_model)\n",
    "        \n",
    "        self.positional_encoder = PositionalEncoder(d_model, max_seq_len)\n",
    "\n",
    "        self.dropout = nn.Dropout(dropout)\n",
    "        \n",
    "        self.encoder = Encoder(d_model=d_model, n_heads=n_heads, dropout=dropout, n_layers=n_layers)\n",
    "        self.decoder = Decoder(d_model=d_model, n_heads=n_heads, dropout=dropout, n_layers=n_layers)\n",
    "        \n",
    "        self.out_proj = nn.Linear(d_model, en_vocab_size)\n",
    "        \n",
    "    def generate_mask(self, ja_ids, dec_input, device):\n",
    "        device = dec_input.device\n",
    "        ja_mask = (ja_ids != 0).unsqueeze(1).unsqueeze(2)\n",
    "        en_mask =  (dec_input != 0).unsqueeze(1).unsqueeze(2)\n",
    "        seq_len = dec_input.size(1)\n",
    "        causal_mask = torch.triu(torch.ones((seq_len, seq_len), device=device), diagonal=1).bool()\n",
    "        causal_mask = ~causal_mask\n",
    "        causal_mask = causal_mask.unsqueeze(0).unsqueeze(1)\n",
    "        en_mask = en_mask & causal_mask\n",
    "        return ja_mask, en_mask\n",
    "        \n",
    "    def forward(self, ja_ids, dec_input, ja_mask=None, en_mask=None):\n",
    "        ja_mask, en_mask = self.generate_mask(ja_ids, dec_input, device)\n",
    "        ja_embedding = self.dropout(self.positional_encoder(self.ja_embedding(ja_ids)))\n",
    "        en_embedding = self.dropout(self.positional_encoder(self.en_embedding(dec_input)))\n",
    "        encoder_out = self.encoder(ja_embedding, ja_mask)\n",
    "        decoder_out = self.decoder(en_embedding, encoder_out, en_mask=en_mask, ja_mask=ja_mask)\n",
    "        out = self.out_proj(decoder_out)\n",
    "        return out"
   ]
  },
  {
   "cell_type": "code",
   "execution_count": 26,
   "id": "0da01577-c145-4e15-9bd0-606a1223d151",
   "metadata": {},
   "outputs": [],
   "source": [
    "train_data = TranslationDataset(train_dataset,ja_tokenizer, en_tokenizer, max_len=80)\n",
    "val_data = TranslationDataset(val_dataset,ja_tokenizer, en_tokenizer, max_len=80)\n",
    "\n",
    "train_loader = DataLoader(train_data, batch_size=32, num_workers=0, shuffle=True, drop_last=False)\n",
    "val_loader = DataLoader(val_data, batch_size=32, num_workers=0, shuffle=True, drop_last=False)"
   ]
  },
  {
   "cell_type": "code",
   "execution_count": 27,
   "id": "4273340f-84d1-4518-8611-add24b429f51",
   "metadata": {},
   "outputs": [],
   "source": [
    "JA_VOCAB_SIZE = train_data.ja_vocab_size()\n",
    "EN_VOCAB_SIZE = train_data.en_vocab_size()\n",
    "D_MODEL = 512\n",
    "N_HEADS = 8\n",
    "N_LAYERS = 6\n",
    "MAX_SEQ_LEN = 80\n",
    "DROPOUT = 0.1\n",
    "N_EPOCHS = 200\n",
    "SAVE_EPOCH = 10\n",
    "LR = 1e-4\n",
    "device = torch.device(\"cuda\" if torch.cuda.is_available() else \"cpu\")"
   ]
  },
  {
   "cell_type": "code",
   "execution_count": 28,
   "id": "556aca26-c2b8-40b0-9071-1106eba39be5",
   "metadata": {},
   "outputs": [],
   "source": [
    "CHECKPOINT_DIR = \"./checkpoints\"\n",
    "os.makedirs(CHECKPOINT_DIR, exist_ok=True)"
   ]
  },
  {
   "cell_type": "code",
   "execution_count": 29,
   "id": "9b6b6303-865f-4609-89a6-f7c52593ce3b",
   "metadata": {},
   "outputs": [
    {
     "name": "stdout",
     "output_type": "stream",
     "text": [
      "32000, 30522\n",
      "18999\n"
     ]
    }
   ],
   "source": [
    "print(str(JA_VOCAB_SIZE) + \",\", EN_VOCAB_SIZE)\n",
    "print(len(train_dataset))"
   ]
  },
  {
   "cell_type": "code",
   "execution_count": 30,
   "id": "64b74843-fdbd-415e-95cb-4c4046966c71",
   "metadata": {},
   "outputs": [],
   "source": [
    "def save_checkpoint(epoch, model, optimizer, loss, path):\n",
    "    checkpoint = {\n",
    "        \"epoch\" : epoch,\n",
    "        \"model_state\" : model.state_dict(),\n",
    "        \"optimizer_state\" : optimizer.state_dict(),\n",
    "        \"loss\" : loss\n",
    "    }\n",
    "    torch.save(checkpoint, path)\n",
    "    print(f\"Saved checkpoint: {path}\")"
   ]
  },
  {
   "cell_type": "code",
   "execution_count": 31,
   "id": "eba58c5d-0d63-484c-86ef-448d2005ac77",
   "metadata": {},
   "outputs": [],
   "source": [
    "def load_checkpoint(path, model, optimizer=None, device=\"cpu\"):\n",
    "    checkpoint = torch.load(path, map_location=device)\n",
    "    model.load_state_dict(checkpoint[\"model_state\"])\n",
    "    if optimizer is not None and \"optimizer_state\" in checkpoint:\n",
    "        optimizer.load_state_dict(checkpoint[\"optimizer_state\"])\n",
    "    print(f\"Loaded checkpoint from epoch {checkpoint['epoch']} with loss {checkpoint['loss']:.4f}\")\n",
    "    return checkpoint[\"epoch\"], checkpoint[\"loss\"]"
   ]
  },
  {
   "cell_type": "code",
   "execution_count": 32,
   "id": "e926e1aa-ecd5-4f05-bfea-222bd396b0ba",
   "metadata": {},
   "outputs": [],
   "source": [
    "def lr_lambda(step):\n",
    "    warmup_steps=4000\n",
    "    step = max(step, 1)\n",
    "    d_model=model.d_model\n",
    "    return (d_model ** -0.5) * min(step ** -0.5, step * warmup_steps ** -1.5)"
   ]
  },
  {
   "cell_type": "code",
   "execution_count": 33,
   "id": "136f4bf5-5feb-4301-9f8d-b7248fc69acc",
   "metadata": {},
   "outputs": [],
   "source": [
    "model = Transformer(d_model=D_MODEL,\n",
    "                    ja_vocab_size=JA_VOCAB_SIZE,\n",
    "                    en_vocab_size=EN_VOCAB_SIZE,\n",
    "                    max_seq_len=MAX_SEQ_LEN, \n",
    "                    n_heads=N_HEADS,\n",
    "                    dropout=DROPOUT,\n",
    "                   n_layers=N_LAYERS).to(device)\n",
    "writer = SummaryWriter()\n",
    "optimizer = Adam(model.parameters(), lr=LR, betas=(0.9, 0.98), eps=1e-9)\n",
    "criterion = torch.nn.CrossEntropyLoss(ignore_index=0)\n",
    "scheduler = LambdaLR(optimizer, lr_lambda)\n",
    "bleu = evaluate.load(\"bleu\")"
   ]
  },
  {
   "cell_type": "code",
   "execution_count": null,
   "id": "240f38a0-df4e-461a-8d91-62e65cfadb0b",
   "metadata": {},
   "outputs": [
    {
     "data": {
      "application/vnd.jupyter.widget-view+json": {
       "model_id": "3853268767664d1baf4e14ccba56421c",
       "version_major": 2,
       "version_minor": 0
      },
      "text/plain": [
       "EPOCH: 1/200:   0%|          | 0/594 [00:00<?, ?it/s]"
      ]
     },
     "metadata": {},
     "output_type": "display_data"
    },
    {
     "name": "stdout",
     "output_type": "stream",
     "text": [
      "Epoch 1 | Avg Loss: 10.4652 | Perplexity: 35072.9414\n"
     ]
    },
    {
     "data": {
      "application/vnd.jupyter.widget-view+json": {
       "model_id": "f06375142f364e6d87f25ddaadfa2149",
       "version_major": 2,
       "version_minor": 0
      },
      "text/plain": [
       "EPOCH: 2/200:   0%|          | 0/594 [00:00<?, ?it/s]"
      ]
     },
     "metadata": {},
     "output_type": "display_data"
    },
    {
     "name": "stdout",
     "output_type": "stream",
     "text": [
      "Epoch 2 | Avg Loss: 10.4266 | Perplexity: 33746.3711\n"
     ]
    },
    {
     "data": {
      "application/vnd.jupyter.widget-view+json": {
       "model_id": "c2f7aca3054045b1944731fe54486cba",
       "version_major": 2,
       "version_minor": 0
      },
      "text/plain": [
       "EPOCH: 3/200:   0%|          | 0/594 [00:00<?, ?it/s]"
      ]
     },
     "metadata": {},
     "output_type": "display_data"
    },
    {
     "name": "stdout",
     "output_type": "stream",
     "text": [
      "Epoch 3 | Avg Loss: 10.3504 | Perplexity: 31268.5332\n"
     ]
    },
    {
     "data": {
      "application/vnd.jupyter.widget-view+json": {
       "model_id": "02559435001943ee8e93fb81eec1ddd2",
       "version_major": 2,
       "version_minor": 0
      },
      "text/plain": [
       "EPOCH: 4/200:   0%|          | 0/594 [00:00<?, ?it/s]"
      ]
     },
     "metadata": {},
     "output_type": "display_data"
    },
    {
     "name": "stdout",
     "output_type": "stream",
     "text": [
      "Epoch 4 | Avg Loss: 10.2367 | Perplexity: 27909.9141\n"
     ]
    },
    {
     "data": {
      "application/vnd.jupyter.widget-view+json": {
       "model_id": "174e07e683a54cab9d42613c56a5a956",
       "version_major": 2,
       "version_minor": 0
      },
      "text/plain": [
       "EPOCH: 5/200:   0%|          | 0/594 [00:00<?, ?it/s]"
      ]
     },
     "metadata": {},
     "output_type": "display_data"
    },
    {
     "name": "stdout",
     "output_type": "stream",
     "text": [
      "Epoch 5 | Avg Loss: 10.0934 | Perplexity: 24183.8203\n"
     ]
    },
    {
     "data": {
      "application/vnd.jupyter.widget-view+json": {
       "model_id": "95bf9cedcef24117bae9f72ea7827cc4",
       "version_major": 2,
       "version_minor": 0
      },
      "text/plain": [
       "EPOCH: 6/200:   0%|          | 0/594 [00:00<?, ?it/s]"
      ]
     },
     "metadata": {},
     "output_type": "display_data"
    },
    {
     "name": "stdout",
     "output_type": "stream",
     "text": [
      "Epoch 6 | Avg Loss: 9.9331 | Perplexity: 20600.0977\n"
     ]
    },
    {
     "data": {
      "application/vnd.jupyter.widget-view+json": {
       "model_id": "48e848326318426cacb36148642a3544",
       "version_major": 2,
       "version_minor": 0
      },
      "text/plain": [
       "EPOCH: 7/200:   0%|          | 0/594 [00:00<?, ?it/s]"
      ]
     },
     "metadata": {},
     "output_type": "display_data"
    },
    {
     "name": "stdout",
     "output_type": "stream",
     "text": [
      "Epoch 7 | Avg Loss: 9.7699 | Perplexity: 17499.1406\n"
     ]
    },
    {
     "data": {
      "application/vnd.jupyter.widget-view+json": {
       "model_id": "95f5c3617f2642b08153c1ea33a7c747",
       "version_major": 2,
       "version_minor": 0
      },
      "text/plain": [
       "EPOCH: 8/200:   0%|          | 0/594 [00:00<?, ?it/s]"
      ]
     },
     "metadata": {},
     "output_type": "display_data"
    },
    {
     "name": "stdout",
     "output_type": "stream",
     "text": [
      "Epoch 8 | Avg Loss: 9.6301 | Perplexity: 15215.6426\n"
     ]
    },
    {
     "data": {
      "application/vnd.jupyter.widget-view+json": {
       "model_id": "90e7e6eb75bd469889730da39728e23d",
       "version_major": 2,
       "version_minor": 0
      },
      "text/plain": [
       "EPOCH: 9/200:   0%|          | 0/594 [00:00<?, ?it/s]"
      ]
     },
     "metadata": {},
     "output_type": "display_data"
    },
    {
     "name": "stdout",
     "output_type": "stream",
     "text": [
      "Epoch 9 | Avg Loss: 9.5267 | Perplexity: 13720.8047\n"
     ]
    },
    {
     "data": {
      "application/vnd.jupyter.widget-view+json": {
       "model_id": "dc246c2939cd4678a3c3e740aefd678f",
       "version_major": 2,
       "version_minor": 0
      },
      "text/plain": [
       "EPOCH: 10/200:   0%|          | 0/594 [00:00<?, ?it/s]"
      ]
     },
     "metadata": {},
     "output_type": "display_data"
    },
    {
     "name": "stdout",
     "output_type": "stream",
     "text": [
      "Epoch 10 | Avg Loss: 9.4497 | Perplexity: 12703.9580\n",
      "Saved checkpoint: ./checkpoints\\epoch_10.pth\n"
     ]
    },
    {
     "data": {
      "application/vnd.jupyter.widget-view+json": {
       "model_id": "a0c9978e5e6845af95d1ee59e1d6d9c1",
       "version_major": 2,
       "version_minor": 0
      },
      "text/plain": [
       "EPOCH: 11/200:   0%|          | 0/594 [00:00<?, ?it/s]"
      ]
     },
     "metadata": {},
     "output_type": "display_data"
    },
    {
     "name": "stdout",
     "output_type": "stream",
     "text": [
      "Epoch 11 | Avg Loss: 9.3896 | Perplexity: 11963.0029\n"
     ]
    },
    {
     "data": {
      "application/vnd.jupyter.widget-view+json": {
       "model_id": "b3554afb900247e7b7a4c393119c2d49",
       "version_major": 2,
       "version_minor": 0
      },
      "text/plain": [
       "EPOCH: 12/200:   0%|          | 0/594 [00:00<?, ?it/s]"
      ]
     },
     "metadata": {},
     "output_type": "display_data"
    },
    {
     "name": "stdout",
     "output_type": "stream",
     "text": [
      "Epoch 12 | Avg Loss: 9.3408 | Perplexity: 11393.2949\n"
     ]
    },
    {
     "data": {
      "application/vnd.jupyter.widget-view+json": {
       "model_id": "fa16a749b24f49b2b34fa8a0104eea51",
       "version_major": 2,
       "version_minor": 0
      },
      "text/plain": [
       "EPOCH: 13/200:   0%|          | 0/594 [00:00<?, ?it/s]"
      ]
     },
     "metadata": {},
     "output_type": "display_data"
    },
    {
     "name": "stdout",
     "output_type": "stream",
     "text": [
      "Epoch 13 | Avg Loss: 9.2990 | Perplexity: 10927.1992\n"
     ]
    },
    {
     "data": {
      "application/vnd.jupyter.widget-view+json": {
       "model_id": "c6eabfe992c24ed59c5b1da49bac9e37",
       "version_major": 2,
       "version_minor": 0
      },
      "text/plain": [
       "EPOCH: 14/200:   0%|          | 0/594 [00:00<?, ?it/s]"
      ]
     },
     "metadata": {},
     "output_type": "display_data"
    },
    {
     "name": "stdout",
     "output_type": "stream",
     "text": [
      "Epoch 14 | Avg Loss: 9.2613 | Perplexity: 10522.8652\n"
     ]
    },
    {
     "data": {
      "application/vnd.jupyter.widget-view+json": {
       "model_id": "713dc93c2c554cfa800e7567b56f99a3",
       "version_major": 2,
       "version_minor": 0
      },
      "text/plain": [
       "EPOCH: 15/200:   0%|          | 0/594 [00:00<?, ?it/s]"
      ]
     },
     "metadata": {},
     "output_type": "display_data"
    },
    {
     "name": "stdout",
     "output_type": "stream",
     "text": [
      "Epoch 15 | Avg Loss: 9.2263 | Perplexity: 10161.1113\n"
     ]
    },
    {
     "data": {
      "application/vnd.jupyter.widget-view+json": {
       "model_id": "cd011edf32b74fb9a3b81a944a89f2da",
       "version_major": 2,
       "version_minor": 0
      },
      "text/plain": [
       "EPOCH: 16/200:   0%|          | 0/594 [00:00<?, ?it/s]"
      ]
     },
     "metadata": {},
     "output_type": "display_data"
    },
    {
     "name": "stdout",
     "output_type": "stream",
     "text": [
      "Epoch 16 | Avg Loss: 9.1939 | Perplexity: 9836.5566\n"
     ]
    },
    {
     "data": {
      "application/vnd.jupyter.widget-view+json": {
       "model_id": "851715ac40564156b1a3a1f93307fdec",
       "version_major": 2,
       "version_minor": 0
      },
      "text/plain": [
       "EPOCH: 17/200:   0%|          | 0/594 [00:00<?, ?it/s]"
      ]
     },
     "metadata": {},
     "output_type": "display_data"
    },
    {
     "name": "stdout",
     "output_type": "stream",
     "text": [
      "Epoch 17 | Avg Loss: 9.1599 | Perplexity: 9508.1582\n"
     ]
    },
    {
     "data": {
      "application/vnd.jupyter.widget-view+json": {
       "model_id": "0a40ff0a298f4802a89463ded3292f2f",
       "version_major": 2,
       "version_minor": 0
      },
      "text/plain": [
       "EPOCH: 18/200:   0%|          | 0/594 [00:00<?, ?it/s]"
      ]
     },
     "metadata": {},
     "output_type": "display_data"
    },
    {
     "name": "stdout",
     "output_type": "stream",
     "text": [
      "Epoch 18 | Avg Loss: 9.1256 | Perplexity: 9187.6289\n"
     ]
    },
    {
     "data": {
      "application/vnd.jupyter.widget-view+json": {
       "model_id": "fdee66e788f3481faa8f9316f0242d78",
       "version_major": 2,
       "version_minor": 0
      },
      "text/plain": [
       "EPOCH: 19/200:   0%|          | 0/594 [00:00<?, ?it/s]"
      ]
     },
     "metadata": {},
     "output_type": "display_data"
    },
    {
     "name": "stdout",
     "output_type": "stream",
     "text": [
      "Epoch 19 | Avg Loss: 9.0922 | Perplexity: 8886.0293\n"
     ]
    },
    {
     "data": {
      "application/vnd.jupyter.widget-view+json": {
       "model_id": "b55115ce072b44b8ad2e6f69d6ac4a46",
       "version_major": 2,
       "version_minor": 0
      },
      "text/plain": [
       "EPOCH: 20/200:   0%|          | 0/594 [00:00<?, ?it/s]"
      ]
     },
     "metadata": {},
     "output_type": "display_data"
    },
    {
     "name": "stdout",
     "output_type": "stream",
     "text": [
      "Epoch 20 | Avg Loss: 9.0563 | Perplexity: 8572.3105\n",
      "Saved checkpoint: ./checkpoints\\epoch_20.pth\n"
     ]
    },
    {
     "data": {
      "application/vnd.jupyter.widget-view+json": {
       "model_id": "f84abf5304ad41c1b7541eb0cae1e7f7",
       "version_major": 2,
       "version_minor": 0
      },
      "text/plain": [
       "EPOCH: 21/200:   0%|          | 0/594 [00:00<?, ?it/s]"
      ]
     },
     "metadata": {},
     "output_type": "display_data"
    },
    {
     "name": "stdout",
     "output_type": "stream",
     "text": [
      "Epoch 21 | Avg Loss: 9.0221 | Perplexity: 8283.8828\n"
     ]
    },
    {
     "data": {
      "application/vnd.jupyter.widget-view+json": {
       "model_id": "6b050e4874974cf4992e48a78dad940f",
       "version_major": 2,
       "version_minor": 0
      },
      "text/plain": [
       "EPOCH: 22/200:   0%|          | 0/594 [00:00<?, ?it/s]"
      ]
     },
     "metadata": {},
     "output_type": "display_data"
    },
    {
     "name": "stdout",
     "output_type": "stream",
     "text": [
      "Epoch 22 | Avg Loss: 8.9845 | Perplexity: 7978.3169\n"
     ]
    },
    {
     "data": {
      "application/vnd.jupyter.widget-view+json": {
       "model_id": "c3fa9916a8b041b1a88aed173bbdd25d",
       "version_major": 2,
       "version_minor": 0
      },
      "text/plain": [
       "EPOCH: 23/200:   0%|          | 0/594 [00:00<?, ?it/s]"
      ]
     },
     "metadata": {},
     "output_type": "display_data"
    },
    {
     "name": "stdout",
     "output_type": "stream",
     "text": [
      "Epoch 23 | Avg Loss: 8.9493 | Perplexity: 7702.4233\n"
     ]
    },
    {
     "data": {
      "application/vnd.jupyter.widget-view+json": {
       "model_id": "b89e7c48c7854fb796d051b2c19187c0",
       "version_major": 2,
       "version_minor": 0
      },
      "text/plain": [
       "EPOCH: 24/200:   0%|          | 0/594 [00:00<?, ?it/s]"
      ]
     },
     "metadata": {},
     "output_type": "display_data"
    },
    {
     "name": "stdout",
     "output_type": "stream",
     "text": [
      "Epoch 24 | Avg Loss: 8.9111 | Perplexity: 7413.6099\n"
     ]
    },
    {
     "data": {
      "application/vnd.jupyter.widget-view+json": {
       "model_id": "630f984c9dad4460b392f446f60ac104",
       "version_major": 2,
       "version_minor": 0
      },
      "text/plain": [
       "EPOCH: 25/200:   0%|          | 0/594 [00:00<?, ?it/s]"
      ]
     },
     "metadata": {},
     "output_type": "display_data"
    },
    {
     "name": "stdout",
     "output_type": "stream",
     "text": [
      "Epoch 25 | Avg Loss: 8.8770 | Perplexity: 7165.2754\n"
     ]
    },
    {
     "data": {
      "application/vnd.jupyter.widget-view+json": {
       "model_id": "26ccaf6f954a47e1b6df7e1d192d7119",
       "version_major": 2,
       "version_minor": 0
      },
      "text/plain": [
       "EPOCH: 26/200:   0%|          | 0/594 [00:00<?, ?it/s]"
      ]
     },
     "metadata": {},
     "output_type": "display_data"
    },
    {
     "name": "stdout",
     "output_type": "stream",
     "text": [
      "Epoch 26 | Avg Loss: 8.8426 | Perplexity: 6923.2983\n"
     ]
    },
    {
     "data": {
      "application/vnd.jupyter.widget-view+json": {
       "model_id": "9793956fd9674fe59d0dbe96dedb00cc",
       "version_major": 2,
       "version_minor": 0
      },
      "text/plain": [
       "EPOCH: 27/200:   0%|          | 0/594 [00:00<?, ?it/s]"
      ]
     },
     "metadata": {},
     "output_type": "display_data"
    },
    {
     "name": "stdout",
     "output_type": "stream",
     "text": [
      "Epoch 27 | Avg Loss: 8.8113 | Perplexity: 6709.9453\n"
     ]
    },
    {
     "data": {
      "application/vnd.jupyter.widget-view+json": {
       "model_id": "dec0408b2fb94360a1cf882ae6a78efb",
       "version_major": 2,
       "version_minor": 0
      },
      "text/plain": [
       "EPOCH: 28/200:   0%|          | 0/594 [00:00<?, ?it/s]"
      ]
     },
     "metadata": {},
     "output_type": "display_data"
    },
    {
     "name": "stdout",
     "output_type": "stream",
     "text": [
      "Epoch 28 | Avg Loss: 8.7791 | Perplexity: 6497.2715\n"
     ]
    },
    {
     "data": {
      "application/vnd.jupyter.widget-view+json": {
       "model_id": "844325c21d474a8292b996b210ca9978",
       "version_major": 2,
       "version_minor": 0
      },
      "text/plain": [
       "EPOCH: 29/200:   0%|          | 0/594 [00:00<?, ?it/s]"
      ]
     },
     "metadata": {},
     "output_type": "display_data"
    },
    {
     "name": "stdout",
     "output_type": "stream",
     "text": [
      "Epoch 29 | Avg Loss: 8.7511 | Perplexity: 6317.8359\n"
     ]
    },
    {
     "data": {
      "application/vnd.jupyter.widget-view+json": {
       "model_id": "3362df5d65cb4bcfa8e2d6fea282be93",
       "version_major": 2,
       "version_minor": 0
      },
      "text/plain": [
       "EPOCH: 30/200:   0%|          | 0/594 [00:00<?, ?it/s]"
      ]
     },
     "metadata": {},
     "output_type": "display_data"
    },
    {
     "name": "stdout",
     "output_type": "stream",
     "text": [
      "Epoch 30 | Avg Loss: 8.7197 | Perplexity: 6122.5283\n",
      "Saved checkpoint: ./checkpoints\\epoch_30.pth\n"
     ]
    },
    {
     "data": {
      "application/vnd.jupyter.widget-view+json": {
       "model_id": "068cccda28f9410fa2efc6d4c6927aaf",
       "version_major": 2,
       "version_minor": 0
      },
      "text/plain": [
       "EPOCH: 31/200:   0%|          | 0/594 [00:00<?, ?it/s]"
      ]
     },
     "metadata": {},
     "output_type": "display_data"
    },
    {
     "name": "stdout",
     "output_type": "stream",
     "text": [
      "Epoch 31 | Avg Loss: 8.6913 | Perplexity: 5950.9102\n"
     ]
    },
    {
     "data": {
      "application/vnd.jupyter.widget-view+json": {
       "model_id": "dbe04b8b372f4528ad3e60629aa41ce6",
       "version_major": 2,
       "version_minor": 0
      },
      "text/plain": [
       "EPOCH: 32/200:   0%|          | 0/594 [00:00<?, ?it/s]"
      ]
     },
     "metadata": {},
     "output_type": "display_data"
    },
    {
     "name": "stdout",
     "output_type": "stream",
     "text": [
      "Epoch 32 | Avg Loss: 8.6653 | Perplexity: 5797.9814\n"
     ]
    },
    {
     "data": {
      "application/vnd.jupyter.widget-view+json": {
       "model_id": "7ed0619748e1415ba0145de2c52ffd2d",
       "version_major": 2,
       "version_minor": 0
      },
      "text/plain": [
       "EPOCH: 33/200:   0%|          | 0/594 [00:00<?, ?it/s]"
      ]
     },
     "metadata": {},
     "output_type": "display_data"
    },
    {
     "name": "stdout",
     "output_type": "stream",
     "text": [
      "Epoch 33 | Avg Loss: 8.6379 | Perplexity: 5641.5259\n"
     ]
    },
    {
     "data": {
      "application/vnd.jupyter.widget-view+json": {
       "model_id": "19ae3b8c62614ed5b7c51f88fbb9ee8b",
       "version_major": 2,
       "version_minor": 0
      },
      "text/plain": [
       "EPOCH: 34/200:   0%|          | 0/594 [00:00<?, ?it/s]"
      ]
     },
     "metadata": {},
     "output_type": "display_data"
    },
    {
     "name": "stdout",
     "output_type": "stream",
     "text": [
      "Epoch 34 | Avg Loss: 8.6144 | Perplexity: 5510.2725\n"
     ]
    },
    {
     "data": {
      "application/vnd.jupyter.widget-view+json": {
       "model_id": "67967978953f427ba73f79fa5b77538d",
       "version_major": 2,
       "version_minor": 0
      },
      "text/plain": [
       "EPOCH: 35/200:   0%|          | 0/594 [00:00<?, ?it/s]"
      ]
     },
     "metadata": {},
     "output_type": "display_data"
    },
    {
     "name": "stdout",
     "output_type": "stream",
     "text": [
      "Epoch 35 | Avg Loss: 8.5925 | Perplexity: 5390.8315\n"
     ]
    },
    {
     "data": {
      "application/vnd.jupyter.widget-view+json": {
       "model_id": "2cb5dc5b8b264956b6d34e0046780991",
       "version_major": 2,
       "version_minor": 0
      },
      "text/plain": [
       "EPOCH: 36/200:   0%|          | 0/594 [00:00<?, ?it/s]"
      ]
     },
     "metadata": {},
     "output_type": "display_data"
    },
    {
     "name": "stdout",
     "output_type": "stream",
     "text": [
      "Epoch 36 | Avg Loss: 8.5655 | Perplexity: 5247.6196\n"
     ]
    },
    {
     "data": {
      "application/vnd.jupyter.widget-view+json": {
       "model_id": "e15b91d36a7e43c6940338ddca5a96cd",
       "version_major": 2,
       "version_minor": 0
      },
      "text/plain": [
       "EPOCH: 37/200:   0%|          | 0/594 [00:00<?, ?it/s]"
      ]
     },
     "metadata": {},
     "output_type": "display_data"
    },
    {
     "name": "stdout",
     "output_type": "stream",
     "text": [
      "Epoch 37 | Avg Loss: 8.5431 | Perplexity: 5131.0669\n"
     ]
    },
    {
     "data": {
      "application/vnd.jupyter.widget-view+json": {
       "model_id": "89ce4bd8ce594d7b8042ff44ac050744",
       "version_major": 2,
       "version_minor": 0
      },
      "text/plain": [
       "EPOCH: 38/200:   0%|          | 0/594 [00:00<?, ?it/s]"
      ]
     },
     "metadata": {},
     "output_type": "display_data"
    },
    {
     "name": "stdout",
     "output_type": "stream",
     "text": [
      "Epoch 38 | Avg Loss: 8.5183 | Perplexity: 5005.3511\n"
     ]
    },
    {
     "data": {
      "application/vnd.jupyter.widget-view+json": {
       "model_id": "068e6b38d6d34386aefa5d4ba411e30a",
       "version_major": 2,
       "version_minor": 0
      },
      "text/plain": [
       "EPOCH: 39/200:   0%|          | 0/594 [00:00<?, ?it/s]"
      ]
     },
     "metadata": {},
     "output_type": "display_data"
    },
    {
     "name": "stdout",
     "output_type": "stream",
     "text": [
      "Epoch 39 | Avg Loss: 8.4985 | Perplexity: 4907.2329\n"
     ]
    },
    {
     "data": {
      "application/vnd.jupyter.widget-view+json": {
       "model_id": "9ad6045e76804aa4ad1d6bb3b4f74834",
       "version_major": 2,
       "version_minor": 0
      },
      "text/plain": [
       "EPOCH: 40/200:   0%|          | 0/594 [00:00<?, ?it/s]"
      ]
     },
     "metadata": {},
     "output_type": "display_data"
    },
    {
     "name": "stdout",
     "output_type": "stream",
     "text": [
      "Epoch 40 | Avg Loss: 8.4786 | Perplexity: 4810.8501\n",
      "Saved checkpoint: ./checkpoints\\epoch_40.pth\n"
     ]
    },
    {
     "data": {
      "application/vnd.jupyter.widget-view+json": {
       "model_id": "d80daf9812eb44b5bcf36add02ff6dfc",
       "version_major": 2,
       "version_minor": 0
      },
      "text/plain": [
       "EPOCH: 41/200:   0%|          | 0/594 [00:00<?, ?it/s]"
      ]
     },
     "metadata": {},
     "output_type": "display_data"
    },
    {
     "name": "stdout",
     "output_type": "stream",
     "text": [
      "Epoch 41 | Avg Loss: 8.4554 | Perplexity: 4700.2095\n"
     ]
    },
    {
     "data": {
      "application/vnd.jupyter.widget-view+json": {
       "model_id": "bd7980798cb14aadb6fc7ea5dc4fe8d3",
       "version_major": 2,
       "version_minor": 0
      },
      "text/plain": [
       "EPOCH: 42/200:   0%|          | 0/594 [00:00<?, ?it/s]"
      ]
     },
     "metadata": {},
     "output_type": "display_data"
    },
    {
     "name": "stdout",
     "output_type": "stream",
     "text": [
      "Epoch 42 | Avg Loss: 8.4371 | Perplexity: 4615.2153\n"
     ]
    },
    {
     "data": {
      "application/vnd.jupyter.widget-view+json": {
       "model_id": "2aab35e2184240e8ab6ac9a655f90a7a",
       "version_major": 2,
       "version_minor": 0
      },
      "text/plain": [
       "EPOCH: 43/200:   0%|          | 0/594 [00:00<?, ?it/s]"
      ]
     },
     "metadata": {},
     "output_type": "display_data"
    },
    {
     "name": "stdout",
     "output_type": "stream",
     "text": [
      "Epoch 43 | Avg Loss: 8.4149 | Perplexity: 4513.8623\n"
     ]
    },
    {
     "data": {
      "application/vnd.jupyter.widget-view+json": {
       "model_id": "f4565467ac084aa092413f5cb65002bb",
       "version_major": 2,
       "version_minor": 0
      },
      "text/plain": [
       "EPOCH: 44/200:   0%|          | 0/594 [00:00<?, ?it/s]"
      ]
     },
     "metadata": {},
     "output_type": "display_data"
    },
    {
     "name": "stdout",
     "output_type": "stream",
     "text": [
      "Epoch 44 | Avg Loss: 8.3907 | Perplexity: 4405.7554\n"
     ]
    },
    {
     "data": {
      "application/vnd.jupyter.widget-view+json": {
       "model_id": "1f7f16db553a4e499f3d002f2476c831",
       "version_major": 2,
       "version_minor": 0
      },
      "text/plain": [
       "EPOCH: 45/200:   0%|          | 0/594 [00:00<?, ?it/s]"
      ]
     },
     "metadata": {},
     "output_type": "display_data"
    },
    {
     "name": "stdout",
     "output_type": "stream",
     "text": [
      "Epoch 45 | Avg Loss: 8.3749 | Perplexity: 4336.9912\n"
     ]
    },
    {
     "data": {
      "application/vnd.jupyter.widget-view+json": {
       "model_id": "bb2ab471b9ad43f088a310c6937873ea",
       "version_major": 2,
       "version_minor": 0
      },
      "text/plain": [
       "EPOCH: 46/200:   0%|          | 0/594 [00:00<?, ?it/s]"
      ]
     },
     "metadata": {},
     "output_type": "display_data"
    },
    {
     "name": "stdout",
     "output_type": "stream",
     "text": [
      "Epoch 46 | Avg Loss: 8.3536 | Perplexity: 4245.2852\n"
     ]
    },
    {
     "data": {
      "application/vnd.jupyter.widget-view+json": {
       "model_id": "ad72ea62d2e74e759a00d4167e8af8c1",
       "version_major": 2,
       "version_minor": 0
      },
      "text/plain": [
       "EPOCH: 47/200:   0%|          | 0/594 [00:00<?, ?it/s]"
      ]
     },
     "metadata": {},
     "output_type": "display_data"
    },
    {
     "name": "stdout",
     "output_type": "stream",
     "text": [
      "Epoch 47 | Avg Loss: 8.3393 | Perplexity: 4185.0278\n"
     ]
    },
    {
     "data": {
      "application/vnd.jupyter.widget-view+json": {
       "model_id": "68718afa871c4de7b9d535d2aaff626e",
       "version_major": 2,
       "version_minor": 0
      },
      "text/plain": [
       "EPOCH: 48/200:   0%|          | 0/594 [00:00<?, ?it/s]"
      ]
     },
     "metadata": {},
     "output_type": "display_data"
    },
    {
     "name": "stdout",
     "output_type": "stream",
     "text": [
      "Epoch 48 | Avg Loss: 8.3190 | Perplexity: 4100.8857\n"
     ]
    },
    {
     "data": {
      "application/vnd.jupyter.widget-view+json": {
       "model_id": "250cc3d3d01b4c8ea9a2bc2537e588f2",
       "version_major": 2,
       "version_minor": 0
      },
      "text/plain": [
       "EPOCH: 49/200:   0%|          | 0/594 [00:00<?, ?it/s]"
      ]
     },
     "metadata": {},
     "output_type": "display_data"
    },
    {
     "name": "stdout",
     "output_type": "stream",
     "text": [
      "Epoch 49 | Avg Loss: 8.3036 | Perplexity: 4038.3279\n"
     ]
    },
    {
     "data": {
      "application/vnd.jupyter.widget-view+json": {
       "model_id": "4898109b5c804d96b7619a2a705a96d0",
       "version_major": 2,
       "version_minor": 0
      },
      "text/plain": [
       "EPOCH: 50/200:   0%|          | 0/594 [00:00<?, ?it/s]"
      ]
     },
     "metadata": {},
     "output_type": "display_data"
    },
    {
     "name": "stdout",
     "output_type": "stream",
     "text": [
      "Epoch 50 | Avg Loss: 8.2816 | Perplexity: 3950.5894\n",
      "Saved checkpoint: ./checkpoints\\epoch_50.pth\n"
     ]
    },
    {
     "data": {
      "application/vnd.jupyter.widget-view+json": {
       "model_id": "c96c921cacec4a80ab5a50d823354e4e",
       "version_major": 2,
       "version_minor": 0
      },
      "text/plain": [
       "EPOCH: 51/200:   0%|          | 0/594 [00:00<?, ?it/s]"
      ]
     },
     "metadata": {},
     "output_type": "display_data"
    },
    {
     "name": "stdout",
     "output_type": "stream",
     "text": [
      "Epoch 51 | Avg Loss: 8.2656 | Perplexity: 3887.9578\n"
     ]
    },
    {
     "data": {
      "application/vnd.jupyter.widget-view+json": {
       "model_id": "08f2bc2c9a8e4536aa7829453c5b88fd",
       "version_major": 2,
       "version_minor": 0
      },
      "text/plain": [
       "EPOCH: 52/200:   0%|          | 0/594 [00:00<?, ?it/s]"
      ]
     },
     "metadata": {},
     "output_type": "display_data"
    },
    {
     "name": "stdout",
     "output_type": "stream",
     "text": [
      "Epoch 52 | Avg Loss: 8.2474 | Perplexity: 3817.5679\n"
     ]
    },
    {
     "data": {
      "application/vnd.jupyter.widget-view+json": {
       "model_id": "f952e3f3f20743369a5e8dabf482fb03",
       "version_major": 2,
       "version_minor": 0
      },
      "text/plain": [
       "EPOCH: 53/200:   0%|          | 0/594 [00:00<?, ?it/s]"
      ]
     },
     "metadata": {},
     "output_type": "display_data"
    },
    {
     "name": "stdout",
     "output_type": "stream",
     "text": [
      "Epoch 53 | Avg Loss: 8.2324 | Perplexity: 3760.8882\n"
     ]
    },
    {
     "data": {
      "application/vnd.jupyter.widget-view+json": {
       "model_id": "3001b936c6984a0db940754acc81b202",
       "version_major": 2,
       "version_minor": 0
      },
      "text/plain": [
       "EPOCH: 54/200:   0%|          | 0/594 [00:00<?, ?it/s]"
      ]
     },
     "metadata": {},
     "output_type": "display_data"
    },
    {
     "name": "stdout",
     "output_type": "stream",
     "text": [
      "Epoch 54 | Avg Loss: 8.2118 | Perplexity: 3684.3176\n"
     ]
    },
    {
     "data": {
      "application/vnd.jupyter.widget-view+json": {
       "model_id": "d3adde213a164a229ab95762d81be14d",
       "version_major": 2,
       "version_minor": 0
      },
      "text/plain": [
       "EPOCH: 55/200:   0%|          | 0/594 [00:00<?, ?it/s]"
      ]
     },
     "metadata": {},
     "output_type": "display_data"
    },
    {
     "name": "stdout",
     "output_type": "stream",
     "text": [
      "Epoch 55 | Avg Loss: 8.1959 | Perplexity: 3625.9871\n"
     ]
    },
    {
     "data": {
      "application/vnd.jupyter.widget-view+json": {
       "model_id": "d2845c3c7a5c4f3aaaaaf7ea09598523",
       "version_major": 2,
       "version_minor": 0
      },
      "text/plain": [
       "EPOCH: 56/200:   0%|          | 0/594 [00:00<?, ?it/s]"
      ]
     },
     "metadata": {},
     "output_type": "display_data"
    },
    {
     "name": "stdout",
     "output_type": "stream",
     "text": [
      "Epoch 56 | Avg Loss: 8.1765 | Perplexity: 3556.2407\n"
     ]
    },
    {
     "data": {
      "application/vnd.jupyter.widget-view+json": {
       "model_id": "7747a5fb48f948438848405db8825816",
       "version_major": 2,
       "version_minor": 0
      },
      "text/plain": [
       "EPOCH: 57/200:   0%|          | 0/594 [00:00<?, ?it/s]"
      ]
     },
     "metadata": {},
     "output_type": "display_data"
    },
    {
     "name": "stdout",
     "output_type": "stream",
     "text": [
      "Epoch 57 | Avg Loss: 8.1624 | Perplexity: 3506.7537\n"
     ]
    },
    {
     "data": {
      "application/vnd.jupyter.widget-view+json": {
       "model_id": "614839f9dd55489389ce72533df13bd0",
       "version_major": 2,
       "version_minor": 0
      },
      "text/plain": [
       "EPOCH: 58/200:   0%|          | 0/594 [00:00<?, ?it/s]"
      ]
     },
     "metadata": {},
     "output_type": "display_data"
    },
    {
     "name": "stdout",
     "output_type": "stream",
     "text": [
      "Epoch 58 | Avg Loss: 8.1476 | Perplexity: 3455.1270\n"
     ]
    },
    {
     "data": {
      "application/vnd.jupyter.widget-view+json": {
       "model_id": "dcb1a31e7ae743a9ba53305c55b466c1",
       "version_major": 2,
       "version_minor": 0
      },
      "text/plain": [
       "EPOCH: 59/200:   0%|          | 0/594 [00:00<?, ?it/s]"
      ]
     },
     "metadata": {},
     "output_type": "display_data"
    },
    {
     "name": "stdout",
     "output_type": "stream",
     "text": [
      "Epoch 59 | Avg Loss: 8.1271 | Perplexity: 3384.9656\n"
     ]
    },
    {
     "data": {
      "application/vnd.jupyter.widget-view+json": {
       "model_id": "9d5e9145837d48999e6f89a81caaf486",
       "version_major": 2,
       "version_minor": 0
      },
      "text/plain": [
       "EPOCH: 60/200:   0%|          | 0/594 [00:00<?, ?it/s]"
      ]
     },
     "metadata": {},
     "output_type": "display_data"
    },
    {
     "name": "stdout",
     "output_type": "stream",
     "text": [
      "Epoch 60 | Avg Loss: 8.1129 | Perplexity: 3337.2732\n",
      "Saved checkpoint: ./checkpoints\\epoch_60.pth\n"
     ]
    },
    {
     "data": {
      "application/vnd.jupyter.widget-view+json": {
       "model_id": "fb9bfd80903047d3b0eda838f5fb1a6b",
       "version_major": 2,
       "version_minor": 0
      },
      "text/plain": [
       "EPOCH: 61/200:   0%|          | 0/594 [00:00<?, ?it/s]"
      ]
     },
     "metadata": {},
     "output_type": "display_data"
    },
    {
     "name": "stdout",
     "output_type": "stream",
     "text": [
      "Epoch 61 | Avg Loss: 8.0982 | Perplexity: 3288.5994\n"
     ]
    },
    {
     "data": {
      "application/vnd.jupyter.widget-view+json": {
       "model_id": "44fb0853252a43ef898572ae64c98c8f",
       "version_major": 2,
       "version_minor": 0
      },
      "text/plain": [
       "EPOCH: 62/200:   0%|          | 0/594 [00:00<?, ?it/s]"
      ]
     },
     "metadata": {},
     "output_type": "display_data"
    },
    {
     "name": "stdout",
     "output_type": "stream",
     "text": [
      "Epoch 62 | Avg Loss: 8.0825 | Perplexity: 3237.1975\n"
     ]
    },
    {
     "data": {
      "application/vnd.jupyter.widget-view+json": {
       "model_id": "9abfd7e367f3466abf0ca89abcc9e327",
       "version_major": 2,
       "version_minor": 0
      },
      "text/plain": [
       "EPOCH: 63/200:   0%|          | 0/594 [00:00<?, ?it/s]"
      ]
     },
     "metadata": {},
     "output_type": "display_data"
    },
    {
     "name": "stdout",
     "output_type": "stream",
     "text": [
      "Epoch 63 | Avg Loss: 8.0669 | Perplexity: 3187.3193\n"
     ]
    },
    {
     "data": {
      "application/vnd.jupyter.widget-view+json": {
       "model_id": "0e086e1603e04cddac371103ac2378aa",
       "version_major": 2,
       "version_minor": 0
      },
      "text/plain": [
       "EPOCH: 64/200:   0%|          | 0/594 [00:00<?, ?it/s]"
      ]
     },
     "metadata": {},
     "output_type": "display_data"
    },
    {
     "name": "stdout",
     "output_type": "stream",
     "text": [
      "Epoch 64 | Avg Loss: 8.0551 | Perplexity: 3149.8105\n"
     ]
    },
    {
     "data": {
      "application/vnd.jupyter.widget-view+json": {
       "model_id": "579bfea2a32a47f796321adcde667fb1",
       "version_major": 2,
       "version_minor": 0
      },
      "text/plain": [
       "EPOCH: 65/200:   0%|          | 0/594 [00:00<?, ?it/s]"
      ]
     },
     "metadata": {},
     "output_type": "display_data"
    },
    {
     "name": "stdout",
     "output_type": "stream",
     "text": [
      "Epoch 65 | Avg Loss: 8.0358 | Perplexity: 3089.6655\n"
     ]
    },
    {
     "data": {
      "application/vnd.jupyter.widget-view+json": {
       "model_id": "b45752b829344603936a0e3e27b9924e",
       "version_major": 2,
       "version_minor": 0
      },
      "text/plain": [
       "EPOCH: 66/200:   0%|          | 0/594 [00:00<?, ?it/s]"
      ]
     },
     "metadata": {},
     "output_type": "display_data"
    },
    {
     "name": "stdout",
     "output_type": "stream",
     "text": [
      "Epoch 66 | Avg Loss: 8.0238 | Perplexity: 3052.8691\n"
     ]
    },
    {
     "data": {
      "application/vnd.jupyter.widget-view+json": {
       "model_id": "4338e027ffeb4869a3eb6a3bb4ea218c",
       "version_major": 2,
       "version_minor": 0
      },
      "text/plain": [
       "EPOCH: 67/200:   0%|          | 0/594 [00:00<?, ?it/s]"
      ]
     },
     "metadata": {},
     "output_type": "display_data"
    },
    {
     "name": "stdout",
     "output_type": "stream",
     "text": [
      "Epoch 67 | Avg Loss: 8.0091 | Perplexity: 3008.2544\n"
     ]
    },
    {
     "data": {
      "application/vnd.jupyter.widget-view+json": {
       "model_id": "1b14bf0dc28947279f2aa33d4a1a5337",
       "version_major": 2,
       "version_minor": 0
      },
      "text/plain": [
       "EPOCH: 68/200:   0%|          | 0/594 [00:00<?, ?it/s]"
      ]
     },
     "metadata": {},
     "output_type": "display_data"
    },
    {
     "name": "stdout",
     "output_type": "stream",
     "text": [
      "Epoch 68 | Avg Loss: 7.9968 | Perplexity: 2971.4807\n"
     ]
    },
    {
     "data": {
      "application/vnd.jupyter.widget-view+json": {
       "model_id": "559238ac913147aaa412cc6982c0fa06",
       "version_major": 2,
       "version_minor": 0
      },
      "text/plain": [
       "EPOCH: 69/200:   0%|          | 0/594 [00:00<?, ?it/s]"
      ]
     },
     "metadata": {},
     "output_type": "display_data"
    },
    {
     "name": "stdout",
     "output_type": "stream",
     "text": [
      "Epoch 69 | Avg Loss: 7.9841 | Perplexity: 2933.9241\n"
     ]
    },
    {
     "data": {
      "application/vnd.jupyter.widget-view+json": {
       "model_id": "468e3e1c286f4ef2a734d1a092834021",
       "version_major": 2,
       "version_minor": 0
      },
      "text/plain": [
       "EPOCH: 70/200:   0%|          | 0/594 [00:00<?, ?it/s]"
      ]
     },
     "metadata": {},
     "output_type": "display_data"
    },
    {
     "name": "stdout",
     "output_type": "stream",
     "text": [
      "Epoch 70 | Avg Loss: 7.9681 | Perplexity: 2887.3774\n",
      "Saved checkpoint: ./checkpoints\\epoch_70.pth\n"
     ]
    },
    {
     "data": {
      "application/vnd.jupyter.widget-view+json": {
       "model_id": "1bc9185bf82b40e2921802e82d44687b",
       "version_major": 2,
       "version_minor": 0
      },
      "text/plain": [
       "EPOCH: 71/200:   0%|          | 0/594 [00:00<?, ?it/s]"
      ]
     },
     "metadata": {},
     "output_type": "display_data"
    },
    {
     "name": "stdout",
     "output_type": "stream",
     "text": [
      "Epoch 71 | Avg Loss: 7.9543 | Perplexity: 2847.7043\n"
     ]
    },
    {
     "data": {
      "application/vnd.jupyter.widget-view+json": {
       "model_id": "9260354f9d0e4359b6d8f8e1afe69a25",
       "version_major": 2,
       "version_minor": 0
      },
      "text/plain": [
       "EPOCH: 72/200:   0%|          | 0/594 [00:00<?, ?it/s]"
      ]
     },
     "metadata": {},
     "output_type": "display_data"
    },
    {
     "name": "stdout",
     "output_type": "stream",
     "text": [
      "Epoch 72 | Avg Loss: 7.9342 | Perplexity: 2791.0259\n"
     ]
    },
    {
     "data": {
      "application/vnd.jupyter.widget-view+json": {
       "model_id": "fd0236b2c8864b31bd504de26bc584d8",
       "version_major": 2,
       "version_minor": 0
      },
      "text/plain": [
       "EPOCH: 73/200:   0%|          | 0/594 [00:00<?, ?it/s]"
      ]
     },
     "metadata": {},
     "output_type": "display_data"
    },
    {
     "name": "stdout",
     "output_type": "stream",
     "text": [
      "Epoch 73 | Avg Loss: 7.9241 | Perplexity: 2763.1052\n"
     ]
    },
    {
     "data": {
      "application/vnd.jupyter.widget-view+json": {
       "model_id": "cd5160e3a05b4153bbd2f60fe7cb4ecb",
       "version_major": 2,
       "version_minor": 0
      },
      "text/plain": [
       "EPOCH: 74/200:   0%|          | 0/594 [00:00<?, ?it/s]"
      ]
     },
     "metadata": {},
     "output_type": "display_data"
    },
    {
     "name": "stdout",
     "output_type": "stream",
     "text": [
      "Epoch 74 | Avg Loss: 7.9133 | Perplexity: 2733.5027\n"
     ]
    },
    {
     "data": {
      "application/vnd.jupyter.widget-view+json": {
       "model_id": "ad8c81bdef8e4198b0b721d0592938c1",
       "version_major": 2,
       "version_minor": 0
      },
      "text/plain": [
       "EPOCH: 75/200:   0%|          | 0/594 [00:00<?, ?it/s]"
      ]
     },
     "metadata": {},
     "output_type": "display_data"
    },
    {
     "name": "stdout",
     "output_type": "stream",
     "text": [
      "Epoch 75 | Avg Loss: 7.8982 | Perplexity: 2692.4048\n"
     ]
    },
    {
     "data": {
      "application/vnd.jupyter.widget-view+json": {
       "model_id": "0f621ad527be4d7da0628b0c5b680bb9",
       "version_major": 2,
       "version_minor": 0
      },
      "text/plain": [
       "EPOCH: 76/200:   0%|          | 0/594 [00:00<?, ?it/s]"
      ]
     },
     "metadata": {},
     "output_type": "display_data"
    },
    {
     "name": "stdout",
     "output_type": "stream",
     "text": [
      "Epoch 76 | Avg Loss: 7.8975 | Perplexity: 2690.4246\n"
     ]
    },
    {
     "data": {
      "application/vnd.jupyter.widget-view+json": {
       "model_id": "3e8064c58ab04675af834e3ba054bd34",
       "version_major": 2,
       "version_minor": 0
      },
      "text/plain": [
       "EPOCH: 77/200:   0%|          | 0/594 [00:00<?, ?it/s]"
      ]
     },
     "metadata": {},
     "output_type": "display_data"
    },
    {
     "name": "stdout",
     "output_type": "stream",
     "text": [
      "Epoch 77 | Avg Loss: 7.8742 | Perplexity: 2628.7036\n"
     ]
    },
    {
     "data": {
      "application/vnd.jupyter.widget-view+json": {
       "model_id": "772e8da0cc244cef9c7f08a1f2b154f5",
       "version_major": 2,
       "version_minor": 0
      },
      "text/plain": [
       "EPOCH: 78/200:   0%|          | 0/594 [00:00<?, ?it/s]"
      ]
     },
     "metadata": {},
     "output_type": "display_data"
    },
    {
     "name": "stdout",
     "output_type": "stream",
     "text": [
      "Epoch 78 | Avg Loss: 7.8631 | Perplexity: 2599.4973\n"
     ]
    },
    {
     "data": {
      "application/vnd.jupyter.widget-view+json": {
       "model_id": "f5d44a9ddd014dcda10abd9ccc162808",
       "version_major": 2,
       "version_minor": 0
      },
      "text/plain": [
       "EPOCH: 79/200:   0%|          | 0/594 [00:00<?, ?it/s]"
      ]
     },
     "metadata": {},
     "output_type": "display_data"
    },
    {
     "name": "stdout",
     "output_type": "stream",
     "text": [
      "Epoch 79 | Avg Loss: 7.8534 | Perplexity: 2574.3445\n"
     ]
    },
    {
     "data": {
      "application/vnd.jupyter.widget-view+json": {
       "model_id": "14efdf0e7ccf45b89017c570c8520f3c",
       "version_major": 2,
       "version_minor": 0
      },
      "text/plain": [
       "EPOCH: 80/200:   0%|          | 0/594 [00:00<?, ?it/s]"
      ]
     },
     "metadata": {},
     "output_type": "display_data"
    },
    {
     "name": "stdout",
     "output_type": "stream",
     "text": [
      "Epoch 80 | Avg Loss: 7.8404 | Perplexity: 2541.0957\n",
      "Saved checkpoint: ./checkpoints\\epoch_80.pth\n"
     ]
    },
    {
     "data": {
      "application/vnd.jupyter.widget-view+json": {
       "model_id": "b25a7b076fbd4871bee5a15b218d9a78",
       "version_major": 2,
       "version_minor": 0
      },
      "text/plain": [
       "EPOCH: 81/200:   0%|          | 0/594 [00:00<?, ?it/s]"
      ]
     },
     "metadata": {},
     "output_type": "display_data"
    },
    {
     "name": "stdout",
     "output_type": "stream",
     "text": [
      "Epoch 81 | Avg Loss: 7.8259 | Perplexity: 2504.5559\n"
     ]
    },
    {
     "data": {
      "application/vnd.jupyter.widget-view+json": {
       "model_id": "d4fae93a2a3c486c8c7c390bddf68d4c",
       "version_major": 2,
       "version_minor": 0
      },
      "text/plain": [
       "EPOCH: 82/200:   0%|          | 0/594 [00:00<?, ?it/s]"
      ]
     },
     "metadata": {},
     "output_type": "display_data"
    },
    {
     "name": "stdout",
     "output_type": "stream",
     "text": [
      "Epoch 82 | Avg Loss: 7.8169 | Perplexity: 2482.1472\n"
     ]
    },
    {
     "data": {
      "application/vnd.jupyter.widget-view+json": {
       "model_id": "6d1a97a6b92349f4830910cc829ec60c",
       "version_major": 2,
       "version_minor": 0
      },
      "text/plain": [
       "EPOCH: 83/200:   0%|          | 0/594 [00:00<?, ?it/s]"
      ]
     },
     "metadata": {},
     "output_type": "display_data"
    },
    {
     "name": "stdout",
     "output_type": "stream",
     "text": [
      "Epoch 83 | Avg Loss: 7.8051 | Perplexity: 2453.1848\n"
     ]
    },
    {
     "data": {
      "application/vnd.jupyter.widget-view+json": {
       "model_id": "9c25f52a8df84bd9bd2955680625235f",
       "version_major": 2,
       "version_minor": 0
      },
      "text/plain": [
       "EPOCH: 84/200:   0%|          | 0/594 [00:00<?, ?it/s]"
      ]
     },
     "metadata": {},
     "output_type": "display_data"
    },
    {
     "name": "stdout",
     "output_type": "stream",
     "text": [
      "Epoch 84 | Avg Loss: 7.7846 | Perplexity: 2403.3936\n"
     ]
    },
    {
     "data": {
      "application/vnd.jupyter.widget-view+json": {
       "model_id": "37df572bfe7e43b2ab58998a20c9a091",
       "version_major": 2,
       "version_minor": 0
      },
      "text/plain": [
       "EPOCH: 85/200:   0%|          | 0/594 [00:00<?, ?it/s]"
      ]
     },
     "metadata": {},
     "output_type": "display_data"
    },
    {
     "name": "stdout",
     "output_type": "stream",
     "text": [
      "Epoch 85 | Avg Loss: 7.7813 | Perplexity: 2395.4236\n"
     ]
    },
    {
     "data": {
      "application/vnd.jupyter.widget-view+json": {
       "model_id": "516929f045974268bdcf18ba25fce5d3",
       "version_major": 2,
       "version_minor": 0
      },
      "text/plain": [
       "EPOCH: 86/200:   0%|          | 0/594 [00:00<?, ?it/s]"
      ]
     },
     "metadata": {},
     "output_type": "display_data"
    },
    {
     "name": "stdout",
     "output_type": "stream",
     "text": [
      "Epoch 86 | Avg Loss: 7.7645 | Perplexity: 2355.3628\n"
     ]
    },
    {
     "data": {
      "application/vnd.jupyter.widget-view+json": {
       "model_id": "0a28a5cb5a1c45ec89c0adf166a7fbe8",
       "version_major": 2,
       "version_minor": 0
      },
      "text/plain": [
       "EPOCH: 87/200:   0%|          | 0/594 [00:00<?, ?it/s]"
      ]
     },
     "metadata": {},
     "output_type": "display_data"
    },
    {
     "name": "stdout",
     "output_type": "stream",
     "text": [
      "Epoch 87 | Avg Loss: 7.7533 | Perplexity: 2329.3088\n"
     ]
    },
    {
     "data": {
      "application/vnd.jupyter.widget-view+json": {
       "model_id": "a0ba4f91239d440a903a180291d70844",
       "version_major": 2,
       "version_minor": 0
      },
      "text/plain": [
       "EPOCH: 88/200:   0%|          | 0/594 [00:00<?, ?it/s]"
      ]
     },
     "metadata": {},
     "output_type": "display_data"
    },
    {
     "name": "stdout",
     "output_type": "stream",
     "text": [
      "Epoch 88 | Avg Loss: 7.7457 | Perplexity: 2311.7231\n"
     ]
    },
    {
     "data": {
      "application/vnd.jupyter.widget-view+json": {
       "model_id": "5492316805c34aa9abcaa85bf89e6620",
       "version_major": 2,
       "version_minor": 0
      },
      "text/plain": [
       "EPOCH: 89/200:   0%|          | 0/594 [00:00<?, ?it/s]"
      ]
     },
     "metadata": {},
     "output_type": "display_data"
    },
    {
     "name": "stdout",
     "output_type": "stream",
     "text": [
      "Epoch 89 | Avg Loss: 7.7327 | Perplexity: 2281.7043\n"
     ]
    },
    {
     "data": {
      "application/vnd.jupyter.widget-view+json": {
       "model_id": "31dd512597be46ea9f5fc247911dbf5f",
       "version_major": 2,
       "version_minor": 0
      },
      "text/plain": [
       "EPOCH: 90/200:   0%|          | 0/594 [00:00<?, ?it/s]"
      ]
     },
     "metadata": {},
     "output_type": "display_data"
    },
    {
     "name": "stdout",
     "output_type": "stream",
     "text": [
      "Epoch 90 | Avg Loss: 7.7240 | Perplexity: 2262.0293\n",
      "Saved checkpoint: ./checkpoints\\epoch_90.pth\n"
     ]
    },
    {
     "data": {
      "application/vnd.jupyter.widget-view+json": {
       "model_id": "213c76cf97d745c8bc6ba0355da19b5d",
       "version_major": 2,
       "version_minor": 0
      },
      "text/plain": [
       "EPOCH: 91/200:   0%|          | 0/594 [00:00<?, ?it/s]"
      ]
     },
     "metadata": {},
     "output_type": "display_data"
    },
    {
     "name": "stdout",
     "output_type": "stream",
     "text": [
      "Epoch 91 | Avg Loss: 7.7133 | Perplexity: 2237.9712\n"
     ]
    },
    {
     "data": {
      "application/vnd.jupyter.widget-view+json": {
       "model_id": "9e79b29198bf4d7195b0e5b11dfb8eb3",
       "version_major": 2,
       "version_minor": 0
      },
      "text/plain": [
       "EPOCH: 92/200:   0%|          | 0/594 [00:00<?, ?it/s]"
      ]
     },
     "metadata": {},
     "output_type": "display_data"
    },
    {
     "name": "stdout",
     "output_type": "stream",
     "text": [
      "Epoch 92 | Avg Loss: 7.7041 | Perplexity: 2217.3408\n"
     ]
    },
    {
     "data": {
      "application/vnd.jupyter.widget-view+json": {
       "model_id": "fecc29ee402b40678daf25a151cdf17f",
       "version_major": 2,
       "version_minor": 0
      },
      "text/plain": [
       "EPOCH: 93/200:   0%|          | 0/594 [00:00<?, ?it/s]"
      ]
     },
     "metadata": {},
     "output_type": "display_data"
    },
    {
     "name": "stdout",
     "output_type": "stream",
     "text": [
      "Epoch 93 | Avg Loss: 7.6901 | Perplexity: 2186.4863\n"
     ]
    },
    {
     "data": {
      "application/vnd.jupyter.widget-view+json": {
       "model_id": "143a2397108040a99f4c9723712f1702",
       "version_major": 2,
       "version_minor": 0
      },
      "text/plain": [
       "EPOCH: 94/200:   0%|          | 0/594 [00:00<?, ?it/s]"
      ]
     },
     "metadata": {},
     "output_type": "display_data"
    },
    {
     "name": "stdout",
     "output_type": "stream",
     "text": [
      "Epoch 94 | Avg Loss: 7.6792 | Perplexity: 2162.8975\n"
     ]
    },
    {
     "data": {
      "application/vnd.jupyter.widget-view+json": {
       "model_id": "d46ad24c836649ceab61cb8815b22daa",
       "version_major": 2,
       "version_minor": 0
      },
      "text/plain": [
       "EPOCH: 95/200:   0%|          | 0/594 [00:00<?, ?it/s]"
      ]
     },
     "metadata": {},
     "output_type": "display_data"
    }
   ],
   "source": [
    "for epoch in range(1, N_EPOCHS+1):\n",
    "    model.train()\n",
    "    epoch_loss = 0\n",
    "    train_iterator = tqdm(train_loader, desc=f\"EPOCH: {epoch}/{N_EPOCHS}\")\n",
    "    \n",
    "    for batch_idx, (ja_ids, en_ids) in enumerate(train_iterator):\n",
    "        ja_ids = ja_ids.to(device)\n",
    "        en_ids = en_ids.to(device)\n",
    "        \n",
    "        dec_input = en_ids[:, :-1]\n",
    "        target = en_ids[:, 1:].contiguous().view(-1)\n",
    "        \n",
    "        outputs = model(ja_ids, dec_input)\n",
    "        outputs = outputs.view(-1, outputs.size(-1))\n",
    "        \n",
    "        loss = criterion(outputs, target)\n",
    "\n",
    "        optimizer.zero_grad()\n",
    "        loss.backward()\n",
    "        torch.nn.utils.clip_grad_norm_(model.parameters(), max_norm=1.0)\n",
    "        optimizer.step()\n",
    "        scheduler.step()\n",
    "        \n",
    "\n",
    "        epoch_loss += loss.item()\n",
    "        train_iterator.set_postfix(loss=loss.item())\n",
    "        writer.add_scalar(\"Train/Loss\", loss.item(), epoch * len(train_loader) + batch_idx)\n",
    "\n",
    "    avg_loss = epoch_loss / len(train_loader)\n",
    "    perplexity = torch.exp(torch.tensor(avg_loss))\n",
    "    print(f\"Epoch {epoch} | Avg Loss: {avg_loss:.4f} | Perplexity: {perplexity:.4f}\")\n",
    "    writer.add_scalar(\"Train/Perplexity\", perplexity, epoch)\n",
    "\n",
    "    #model.eval()\n",
    "    #predictions, references = [], []\n",
    "    #with torch.no_grad():\n",
    "        #for i, (ja_ids, en_ref_ids) in enumerate(val_loader):\n",
    "            #if i >= 20:\n",
    "                #break\n",
    "                \n",
    "            #ja_ids = ja_ids[0].unsqueeze(0).to(device)\n",
    "            #dec_input = torch.tensor([[en_tokenizer.cls_token_id]], device=device)\n",
    "            \n",
    "            #output_tokens = []\n",
    "\n",
    "            #for i in range(MAX_SEQ_LEN):\n",
    "                #outputs = model(ja_ids, dec_input)\n",
    "                #next_token = outputs[:, -1, :].argmax(-1)\n",
    "                #dec_input = torch.cat([dec_input, next_token.unsqueeze(1)], dim=1)\n",
    "\n",
    "                #if next_token.item() == en_tokenizer.sep_token_id:\n",
    "                    #break\n",
    "                #output_tokens.append(next_token.item())\n",
    "                \n",
    "            #prediction = en_tokenizer.decode(output_tokens, skip_special_tokens=True)\n",
    "            #predictions.append(prediction)\n",
    "            #en_ref = en_tokenizer.decode(en_ref_ids[0].cpu().tolist(), skip_special_tokens=True)\n",
    "            #references.append([en_ref])  \n",
    "            \n",
    "    #bleu_score = bleu.compute(predictions=predictions, references=references)\n",
    "    #print(f\"Epoch {epoch} | BLEU: {bleu_score['bleu']:.4f}\")\n",
    "    #writer.add_scalar(\"Eval/BLEU\", bleu_score['bleu'], epoch)\n",
    "        \n",
    "    if epoch % SAVE_EPOCH == 0:\n",
    "        save_path = os.path.join(CHECKPOINT_DIR, f\"epoch_{epoch}.pth\")\n",
    "        save_checkpoint(epoch, model, optimizer, avg_loss, save_path)"
   ]
  },
  {
   "cell_type": "code",
   "execution_count": null,
   "id": "0939978d-0675-4985-b72e-622c30214b2f",
   "metadata": {},
   "outputs": [],
   "source": [
    "torch.save(model.state_dict(), 'outputs/model_state.pth')"
   ]
  },
  {
   "cell_type": "code",
   "execution_count": null,
   "id": "f561df1e-d50e-41ec-b6f5-4381e402eda9",
   "metadata": {},
   "outputs": [],
   "source": [
    "torch.save(model, 'outputs/ja_en_transformer_translator_model.pth')"
   ]
  },
  {
   "cell_type": "code",
   "execution_count": null,
   "id": "0da5949d-c5aa-45ec-a738-b792b72c9d88",
   "metadata": {},
   "outputs": [],
   "source": [
    "def translate(model, ja_sentence, ja_tokenizer=ja_tokenizer, en_tokenizer=en_tokenizer, max_len=80, device=device):\n",
    "    model.eval()\n",
    "    ja_ids = ja_tokenizer.encode(ja_sentence, add_special_tokens=False, return_tensors=\"pt\").to(torch.long).to(device)\n",
    "    dec_input = torch.tensor([[en_tokenizer.cls_token_id]], device=device)\n",
    "    preds = []\n",
    "    with torch.no_grad():\n",
    "        for i in range(max_len):\n",
    "            outputs = model(ja_ids, dec_input)\n",
    "            next_token = outputs[:, -1, :].argmax(-1)\n",
    "            next_token_id = next_token.item()\n",
    "            \n",
    "            preds.append(next_token_id)\n",
    "            dec_input = torch.cat([dec_input, next_token.unsqueeze(1)], dim=1)\n",
    "            \n",
    "            if next_token_id == en_tokenizer.sep_token_id:\n",
    "                break\n",
    "    tokens = en_tokenizer.decode(dec_input, skip_special_tokens=True)\n",
    "    print(translation)"
   ]
  },
  {
   "cell_type": "code",
   "execution_count": null,
   "id": "7481f8b8-e618-467c-987f-b63167010179",
   "metadata": {},
   "outputs": [],
   "source": [
    "model = Transformer(d_model=D_MODEL,\n",
    "                    ja_vocab_size=JA_VOCAB_SIZE,\n",
    "                    en_vocab_size=EN_VOCAB_SIZE,\n",
    "                    max_seq_len=MAX_SEQ_LEN, \n",
    "                    n_heads=N_HEADS,\n",
    "                    dropout=DROPOUT,\n",
    "                   n_layers=N_LAYERS)\n",
    "                   \n",
    "model.load_state_dict(torch.load('projects/jp-eng_machine_translation/outputs/ja_en_transformer_translator_model.pt'))"
   ]
  },
  {
   "cell_type": "code",
   "execution_count": null,
   "id": "31cdbce9-407d-40d2-b028-864427ca2597",
   "metadata": {},
   "outputs": [],
   "source": [
    "os.getcwd()"
   ]
  },
  {
   "cell_type": "code",
   "execution_count": null,
   "id": "7e72275b-1702-4f3d-b6f9-748dd9a92fa6",
   "metadata": {},
   "outputs": [],
   "source": [
    "translate(model, \"親友は、私のいいところも悪いところも全部ひっくるめて、受け入れてくれている。\", max_len=80)"
   ]
  },
  {
   "cell_type": "code",
   "execution_count": null,
   "id": "1daaa309-058f-4620-bba7-354bdb8e823b",
   "metadata": {},
   "outputs": [],
   "source": []
  }
 ],
 "metadata": {
  "kernelspec": {
   "display_name": "Python 3 (ipykernel)",
   "language": "python",
   "name": "python3"
  },
  "language_info": {
   "codemirror_mode": {
    "name": "ipython",
    "version": 3
   },
   "file_extension": ".py",
   "mimetype": "text/x-python",
   "name": "python",
   "nbconvert_exporter": "python",
   "pygments_lexer": "ipython3",
   "version": "3.12.6"
  }
 },
 "nbformat": 4,
 "nbformat_minor": 5
}
