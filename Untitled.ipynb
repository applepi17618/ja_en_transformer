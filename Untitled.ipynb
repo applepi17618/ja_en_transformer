{
 "cells": [
  {
   "cell_type": "code",
   "execution_count": 1,
   "id": "475af823-1729-48d7-92e7-0dd96fd594d0",
   "metadata": {},
   "outputs": [],
   "source": [
    "import pandas as pd\n",
    "from datasets import load_dataset\n",
    "import re\n",
    "import unicodedata\n",
    "\n",
    "import sentencepiece as spm\n",
    "\n",
    "import math\n",
    "\n",
    "import torch\n",
    "import torch.nn as nn\n",
    "\n",
    "from torch.utils.data import Dataset, DataLoader\n",
    "\n",
    "from torch.utils.tensorboard import SummaryWriter\n",
    "from tqdm.notebook import tqdm\n",
    "from torch.optim import Adam\n",
    "import torch.nn.functional as F\n",
    "from torch.optim.lr_scheduler import LambdaLR\n",
    "\n",
    "from nltk.translate.bleu_score import sentence_bleu, SmoothingFunction\n",
    "import os"
   ]
  },
  {
   "cell_type": "code",
   "execution_count": 2,
   "id": "94cb5fe7-95bc-44a9-bd55-5fc93371afab",
   "metadata": {},
   "outputs": [],
   "source": [
    "df = pd.read_csv(\"jpn.txt\", sep=\"\\t\",names=[\"English\",\"Japanese\"], index_col=2).drop_duplicates().reset_index(drop=True)"
   ]
  },
  {
   "cell_type": "code",
   "execution_count": 3,
   "id": "9a7c9509-9d4a-43f7-b937-bf0f04d8434b",
   "metadata": {},
   "outputs": [],
   "source": [
    "ja_en = df[[\"Japanese\", \"English\"]].rename(columns={\"Japanese\":\"japanese\", \"English\":\"english\"})\n",
    "ja_en = ja_en.sample(frac=1, random_state=7).reset_index(drop=True)"
   ]
  },
  {
   "cell_type": "code",
   "execution_count": 4,
   "id": "6de2924e-9939-45be-9b26-0658d69b9d1e",
   "metadata": {},
   "outputs": [
    {
     "data": {
      "text/html": [
       "<div>\n",
       "<style scoped>\n",
       "    .dataframe tbody tr th:only-of-type {\n",
       "        vertical-align: middle;\n",
       "    }\n",
       "\n",
       "    .dataframe tbody tr th {\n",
       "        vertical-align: top;\n",
       "    }\n",
       "\n",
       "    .dataframe thead th {\n",
       "        text-align: right;\n",
       "    }\n",
       "</style>\n",
       "<table border=\"1\" class=\"dataframe\">\n",
       "  <thead>\n",
       "    <tr style=\"text-align: right;\">\n",
       "      <th></th>\n",
       "      <th>japanese</th>\n",
       "      <th>english</th>\n",
       "    </tr>\n",
       "  </thead>\n",
       "  <tbody>\n",
       "    <tr>\n",
       "      <th>0</th>\n",
       "      <td>馬は立ったまま寝るって本当ですか？</td>\n",
       "      <td>Is it true horses sleep while standing up?</td>\n",
       "    </tr>\n",
       "    <tr>\n",
       "      <th>1</th>\n",
       "      <td>リストからトムの名前を消しなさい。</td>\n",
       "      <td>Delete Tom's name from the list.</td>\n",
       "    </tr>\n",
       "    <tr>\n",
       "      <th>2</th>\n",
       "      <td>水割りにしてください。</td>\n",
       "      <td>I'd like whiskey and water.</td>\n",
       "    </tr>\n",
       "    <tr>\n",
       "      <th>3</th>\n",
       "      <td>それは表現しにくいですね。</td>\n",
       "      <td>That's hard to say.</td>\n",
       "    </tr>\n",
       "    <tr>\n",
       "      <th>4</th>\n",
       "      <td>どっちもいいね。</td>\n",
       "      <td>They are both good.</td>\n",
       "    </tr>\n",
       "  </tbody>\n",
       "</table>\n",
       "</div>"
      ],
      "text/plain": [
       "            japanese                                     english\n",
       "0  馬は立ったまま寝るって本当ですか？  Is it true horses sleep while standing up?\n",
       "1  リストからトムの名前を消しなさい。            Delete Tom's name from the list.\n",
       "2        水割りにしてください。                 I'd like whiskey and water.\n",
       "3      それは表現しにくいですね。                         That's hard to say.\n",
       "4           どっちもいいね。                         They are both good."
      ]
     },
     "execution_count": 4,
     "metadata": {},
     "output_type": "execute_result"
    }
   ],
   "source": [
    "ja_en.head()"
   ]
  },
  {
   "cell_type": "code",
   "execution_count": 5,
   "id": "7faa90d1-d374-482b-94cc-97f12070bed8",
   "metadata": {},
   "outputs": [
    {
     "data": {
      "text/html": [
       "<div>\n",
       "<style scoped>\n",
       "    .dataframe tbody tr th:only-of-type {\n",
       "        vertical-align: middle;\n",
       "    }\n",
       "\n",
       "    .dataframe tbody tr th {\n",
       "        vertical-align: top;\n",
       "    }\n",
       "\n",
       "    .dataframe thead th {\n",
       "        text-align: right;\n",
       "    }\n",
       "</style>\n",
       "<table border=\"1\" class=\"dataframe\">\n",
       "  <thead>\n",
       "    <tr style=\"text-align: right;\">\n",
       "      <th></th>\n",
       "      <th>japanese</th>\n",
       "      <th>english</th>\n",
       "    </tr>\n",
       "  </thead>\n",
       "  <tbody>\n",
       "    <tr>\n",
       "      <th>115486</th>\n",
       "      <td>今朝から雨が降ったりやんだりしている。</td>\n",
       "      <td>It's been raining on and off since this morning.</td>\n",
       "    </tr>\n",
       "    <tr>\n",
       "      <th>115487</th>\n",
       "      <td>紙がほしい。</td>\n",
       "      <td>I need some paper.</td>\n",
       "    </tr>\n",
       "    <tr>\n",
       "      <th>115488</th>\n",
       "      <td>私が彼女のこと毛嫌いしてるって、彼女は分かってないのよ。</td>\n",
       "      <td>She doesn't know I hate her.</td>\n",
       "    </tr>\n",
       "    <tr>\n",
       "      <th>115489</th>\n",
       "      <td>これは難しい状況ですね。</td>\n",
       "      <td>This is a difficult situation.</td>\n",
       "    </tr>\n",
       "    <tr>\n",
       "      <th>115490</th>\n",
       "      <td>一日中、雨は止むことなく降り続いた。</td>\n",
       "      <td>It rained continuously all day.</td>\n",
       "    </tr>\n",
       "  </tbody>\n",
       "</table>\n",
       "</div>"
      ],
      "text/plain": [
       "                            japanese  \\\n",
       "115486           今朝から雨が降ったりやんだりしている。   \n",
       "115487                        紙がほしい。   \n",
       "115488  私が彼女のこと毛嫌いしてるって、彼女は分かってないのよ。   \n",
       "115489                  これは難しい状況ですね。   \n",
       "115490            一日中、雨は止むことなく降り続いた。   \n",
       "\n",
       "                                                 english  \n",
       "115486  It's been raining on and off since this morning.  \n",
       "115487                                I need some paper.  \n",
       "115488                      She doesn't know I hate her.  \n",
       "115489                    This is a difficult situation.  \n",
       "115490                   It rained continuously all day.  "
      ]
     },
     "execution_count": 5,
     "metadata": {},
     "output_type": "execute_result"
    }
   ],
   "source": [
    "ja_en.tail()"
   ]
  },
  {
   "cell_type": "code",
   "execution_count": 6,
   "id": "fc4df4fb-c7f9-4f22-ab15-18fcbce77dd6",
   "metadata": {},
   "outputs": [
    {
     "data": {
      "text/plain": [
       "(115491, 2)"
      ]
     },
     "execution_count": 6,
     "metadata": {},
     "output_type": "execute_result"
    }
   ],
   "source": [
    "ja_en.shape"
   ]
  },
  {
   "cell_type": "code",
   "execution_count": 7,
   "id": "3936726b-66c8-4827-88da-d2b3a60a99a6",
   "metadata": {},
   "outputs": [],
   "source": [
    "train_dataset = ja_en[:68501]\n",
    "val_dataset = ja_en[68501:68702]"
   ]
  },
  {
   "cell_type": "code",
   "execution_count": 8,
   "id": "3c72378f-1950-4e03-bb2f-c4bf92c11980",
   "metadata": {},
   "outputs": [
    {
     "data": {
      "text/html": [
       "<div>\n",
       "<style scoped>\n",
       "    .dataframe tbody tr th:only-of-type {\n",
       "        vertical-align: middle;\n",
       "    }\n",
       "\n",
       "    .dataframe tbody tr th {\n",
       "        vertical-align: top;\n",
       "    }\n",
       "\n",
       "    .dataframe thead th {\n",
       "        text-align: right;\n",
       "    }\n",
       "</style>\n",
       "<table border=\"1\" class=\"dataframe\">\n",
       "  <thead>\n",
       "    <tr style=\"text-align: right;\">\n",
       "      <th></th>\n",
       "      <th>japanese</th>\n",
       "      <th>english</th>\n",
       "    </tr>\n",
       "  </thead>\n",
       "  <tbody>\n",
       "    <tr>\n",
       "      <th>68496</th>\n",
       "      <td>あのレースは八百長だった。</td>\n",
       "      <td>That race was fixed.</td>\n",
       "    </tr>\n",
       "    <tr>\n",
       "      <th>68497</th>\n",
       "      <td>歯磨きはどこ？</td>\n",
       "      <td>Where's the toothpaste?</td>\n",
       "    </tr>\n",
       "    <tr>\n",
       "      <th>68498</th>\n",
       "      <td>彼は銀行で働いています。</td>\n",
       "      <td>He works at a bank.</td>\n",
       "    </tr>\n",
       "    <tr>\n",
       "      <th>68499</th>\n",
       "      <td>トムはメアリーの肩にもたれた。</td>\n",
       "      <td>Tom leaned on Mary's shoulder.</td>\n",
       "    </tr>\n",
       "    <tr>\n",
       "      <th>68500</th>\n",
       "      <td>どうぞお立ち寄りください。</td>\n",
       "      <td>Please drop in on us.</td>\n",
       "    </tr>\n",
       "  </tbody>\n",
       "</table>\n",
       "</div>"
      ],
      "text/plain": [
       "              japanese                         english\n",
       "68496    あのレースは八百長だった。            That race was fixed.\n",
       "68497          歯磨きはどこ？         Where's the toothpaste?\n",
       "68498     彼は銀行で働いています。             He works at a bank.\n",
       "68499  トムはメアリーの肩にもたれた。  Tom leaned on Mary's shoulder.\n",
       "68500    どうぞお立ち寄りください。           Please drop in on us."
      ]
     },
     "execution_count": 8,
     "metadata": {},
     "output_type": "execute_result"
    }
   ],
   "source": [
    "train_dataset.tail()"
   ]
  },
  {
   "cell_type": "code",
   "execution_count": 9,
   "id": "17ac5f9d-ea48-49cc-9e12-0c1a74cc7850",
   "metadata": {},
   "outputs": [
    {
     "data": {
      "text/html": [
       "<div>\n",
       "<style scoped>\n",
       "    .dataframe tbody tr th:only-of-type {\n",
       "        vertical-align: middle;\n",
       "    }\n",
       "\n",
       "    .dataframe tbody tr th {\n",
       "        vertical-align: top;\n",
       "    }\n",
       "\n",
       "    .dataframe thead th {\n",
       "        text-align: right;\n",
       "    }\n",
       "</style>\n",
       "<table border=\"1\" class=\"dataframe\">\n",
       "  <thead>\n",
       "    <tr style=\"text-align: right;\">\n",
       "      <th></th>\n",
       "      <th>japanese</th>\n",
       "      <th>english</th>\n",
       "    </tr>\n",
       "  </thead>\n",
       "  <tbody>\n",
       "    <tr>\n",
       "      <th>68501</th>\n",
       "      <td>宿題は自分でやったの？</td>\n",
       "      <td>Did you do your homework by yourself?</td>\n",
       "    </tr>\n",
       "    <tr>\n",
       "      <th>68502</th>\n",
       "      <td>痛い目に遭わせるぞ。</td>\n",
       "      <td>Don't make me hurt you.</td>\n",
       "    </tr>\n",
       "    <tr>\n",
       "      <th>68503</th>\n",
       "      <td>落ちつけよ。</td>\n",
       "      <td>Please relax.</td>\n",
       "    </tr>\n",
       "    <tr>\n",
       "      <th>68504</th>\n",
       "      <td>今、トムは３歳よ。</td>\n",
       "      <td>Tom is now three years old.</td>\n",
       "    </tr>\n",
       "    <tr>\n",
       "      <th>68505</th>\n",
       "      <td>フランス語は便利よ。</td>\n",
       "      <td>French is useful.</td>\n",
       "    </tr>\n",
       "  </tbody>\n",
       "</table>\n",
       "</div>"
      ],
      "text/plain": [
       "          japanese                                english\n",
       "68501  宿題は自分でやったの？  Did you do your homework by yourself?\n",
       "68502   痛い目に遭わせるぞ。                Don't make me hurt you.\n",
       "68503       落ちつけよ。                          Please relax.\n",
       "68504    今、トムは３歳よ。            Tom is now three years old.\n",
       "68505   フランス語は便利よ。                      French is useful."
      ]
     },
     "execution_count": 9,
     "metadata": {},
     "output_type": "execute_result"
    }
   ],
   "source": [
    "val_dataset.head()"
   ]
  },
  {
   "cell_type": "code",
   "execution_count": 10,
   "id": "ceaa9a84-1aa7-47b9-8079-c4dcdde593da",
   "metadata": {},
   "outputs": [],
   "source": [
    "def preprocess_the_ja_text(text):\n",
    "    text = unicodedata.normalize(\"NFKC\", text)\n",
    "    text = re.sub(r'(https?://\\S+)', r'', text)\n",
    "    text = re.sub(r'(quote=\\w+;?)', r'', text)\n",
    "    text = re.sub(r'\\s+', ' ', text).strip()\n",
    "    return text"
   ]
  },
  {
   "cell_type": "code",
   "execution_count": 11,
   "id": "aa172b96-5ba6-424f-893e-9dcf55df3286",
   "metadata": {},
   "outputs": [],
   "source": [
    "def preprocess_the_en_text(text):\n",
    "    text = unicodedata.normalize(\"NFKC\", text)\n",
    "    text = text.lower()\n",
    "    text = re.sub(r'(https?://\\S+)', r'', text)\n",
    "    text = re.sub(r'(quote=\\w+;?)', r'', text)\n",
    "    text = re.sub(r'\\s+', ' ', text).strip()\n",
    "    return text"
   ]
  },
  {
   "cell_type": "code",
   "execution_count": 15,
   "id": "7608fb9d-8dee-4c07-9995-a5dd68be75a1",
   "metadata": {},
   "outputs": [],
   "source": [
    "ja_en[\"japanese\"].to_csv(\"ja.txt\", index=False, header=False)\n",
    "ja_en[\"english\"].to_csv(\"en.txt\", index=False, header=False)"
   ]
  },
  {
   "cell_type": "code",
   "execution_count": 16,
   "id": "d6dc96f0-0332-4ce8-87f8-4a779662ebaf",
   "metadata": {},
   "outputs": [],
   "source": [
    "def clean_and_save(input_path, output_path, preprocessing_fn):\n",
    "    with open(input_path, \"r\", encoding=\"utf-8\") as f:\n",
    "        lines = f.readlines()\n",
    "        \n",
    "    cleaned_lines = [preprocessing_fn(line) for line in lines if line.strip()]\n",
    "    \n",
    "    with open(output_path, \"w\", encoding=\"utf-8\") as f:\n",
    "        f.write(\"\\n\".join(cleaned_lines))\n",
    "        \n",
    "    print(f\"Saved cleaned file → {output_path} ({len(cleaned_lines)} lines)\")"
   ]
  },
  {
   "cell_type": "code",
   "execution_count": 17,
   "id": "70b612fd-9404-4851-8cb8-5be0b55fcbdb",
   "metadata": {},
   "outputs": [
    {
     "name": "stdout",
     "output_type": "stream",
     "text": [
      "Saved cleaned file → clean_ja.txt (115491 lines)\n",
      "Saved cleaned file → clean_en.txt (115492 lines)\n"
     ]
    }
   ],
   "source": [
    "clean_and_save(\"./ja.txt\", \"clean_ja.txt\", preprocess_the_ja_text)\n",
    "clean_and_save(\"./en.txt\", \"clean_en.txt\", preprocess_the_en_text)"
   ]
  },
  {
   "cell_type": "code",
   "execution_count": 18,
   "id": "6714bd5a-3d64-4f18-a718-84c80712971d",
   "metadata": {},
   "outputs": [],
   "source": [
    "spm.SentencePieceTrainer.train(input=\"clean_ja.txt\",\n",
    "                              model_prefix=\"ja_bpe\",\n",
    "                              vocab_size=8000,\n",
    "                              model_type=\"bpe\",\n",
    "                              bos_id=1,\n",
    "                              eos_id=2,\n",
    "                              pad_id=0,\n",
    "                              unk_id=3)"
   ]
  },
  {
   "cell_type": "code",
   "execution_count": 19,
   "id": "994e0412-a759-499f-bd5b-e943808832fe",
   "metadata": {},
   "outputs": [],
   "source": [
    "spm.SentencePieceTrainer.train(input=\"clean_en.txt\",\n",
    "                              model_prefix=\"en_bpe\",\n",
    "                              vocab_size=8000,\n",
    "                              model_type=\"bpe\",\n",
    "                              bos_id=1,\n",
    "                              eos_id=2,\n",
    "                              pad_id=0,\n",
    "                              unk_id=3)"
   ]
  },
  {
   "cell_type": "code",
   "execution_count": 12,
   "id": "f07eb158-d28b-4a82-a10b-2c1a08395493",
   "metadata": {},
   "outputs": [
    {
     "data": {
      "text/plain": [
       "True"
      ]
     },
     "execution_count": 12,
     "metadata": {},
     "output_type": "execute_result"
    }
   ],
   "source": [
    "ja_tokenizer = spm.SentencePieceProcessor()\n",
    "ja_tokenizer.load(\"ja_bpe.model\")\n",
    "\n",
    "en_tokenizer = spm.SentencePieceProcessor()\n",
    "en_tokenizer.load(\"en_bpe.model\")"
   ]
  },
  {
   "cell_type": "code",
   "execution_count": 13,
   "id": "25504165-d657-445b-a5f4-c6ecd6038c3d",
   "metadata": {},
   "outputs": [],
   "source": [
    "pad_token_id = ja_tokenizer.pad_id()"
   ]
  },
  {
   "cell_type": "code",
   "execution_count": 14,
   "id": "f49fefbe-94fe-49f8-838e-a9c8bb57e52c",
   "metadata": {},
   "outputs": [],
   "source": [
    "class TranslationDataset(Dataset):\n",
    "    def __init__(self, dataset, ja_tokenizer, en_tokenizer, max_len=80):\n",
    "        self.ja_samples = [preprocess_the_ja_text(s) for s in dataset[\"japanese\"]]\n",
    "        self.en_samples = [preprocess_the_en_text(s) for s in dataset[\"english\"]]\n",
    "        self.ja_tokenizer = ja_tokenizer\n",
    "        self.en_tokenizer = en_tokenizer\n",
    "        \n",
    "        self.max_len = max_len\n",
    "\n",
    "        self.ja_ids = [self.encode_text(ja, self.ja_tokenizer) for ja in self.ja_samples]\n",
    "        self.en_ids = [self.encode_text(en, self.en_tokenizer) for en in self.en_samples]\n",
    "        \n",
    "        self.ja_ids = torch.stack(self.ja_ids)\n",
    "        self.en_ids = torch.stack(self.en_ids)\n",
    "\n",
    "\n",
    "    def encode_text(self, text, tokenizer):\n",
    "        ids = tokenizer.encode(text)\n",
    "        ids = [tokenizer.bos_id()] + ids + [tokenizer.eos_id()]\n",
    "        if len(ids) < self.max_len:\n",
    "            ids = ids + [tokenizer.pad_id()] * (self.max_len - len(ids))\n",
    "        else:\n",
    "            ids = ids[:self.max_len]\n",
    "        return torch.tensor(ids, dtype=torch.long)\n",
    "\n",
    "    def __getitem__(self, idx):\n",
    "        return self.ja_ids[idx], self.en_ids[idx]\n",
    "\n",
    "    def __len__(self):\n",
    "        return len(self.ja_ids)\n",
    "\n",
    "    def ja_vocab_size(self):\n",
    "        return len(self.ja_tokenizer)\n",
    "\n",
    "    def en_vocab_size(self):\n",
    "        return len(self.en_tokenizer)"
   ]
  },
  {
   "cell_type": "code",
   "execution_count": 15,
   "id": "115e1de2-cd57-4fdc-9147-e0a46132c6c8",
   "metadata": {},
   "outputs": [],
   "source": [
    "class PositionalEncoder(nn.Module):\n",
    "    def __init__(self, d_model=512, max_seq_len=80, dropout=0.1):\n",
    "        super().__init__()\n",
    "        self.d_model = d_model\n",
    "        self.dropout = nn.Dropout(dropout)\n",
    "        pe = torch.zeros(max_seq_len, d_model)\n",
    "        position = torch.arange(0, max_seq_len, dtype=torch.float).unsqueeze(1)\n",
    "        div_term = torch.exp(torch.arange(0, d_model, 2).float() * (-math.log(10000.0) / d_model))\n",
    "        pe[:, 0::2] = torch.sin(position * div_term)\n",
    "        pe[:, 1::2] = torch.cos(position * div_term)\n",
    "        pe = pe.unsqueeze(0)  \n",
    "        \n",
    "        self.register_buffer(\"pe\", pe)\n",
    "            \n",
    "    def forward(self, x):\n",
    "        seq_len = x.size(1)\n",
    "        x = x * math.sqrt(self.d_model)\n",
    "        x = x + self.pe[:, :seq_len, :].to(x.device)   \n",
    "        return self.dropout(x)"
   ]
  },
  {
   "cell_type": "code",
   "execution_count": 16,
   "id": "7fa8e864-30e6-4c35-ade5-b61dcb648359",
   "metadata": {},
   "outputs": [],
   "source": [
    "class MultiHeadAttention(nn.Module):\n",
    "    def __init__(self, d_model=512, n_heads=8, dropout=0.1):\n",
    "        super().__init__()\n",
    "        self.d_model = d_model\n",
    "        self.n_heads = n_heads\n",
    "        self.head_dim = int(d_model / n_heads)\n",
    "\n",
    "        assert self.d_model % self.n_heads == 0, \"d_model has to be divisible by n_heads.\"\n",
    "        \n",
    "        self.w_q = nn.Linear(self.d_model, self.d_model)\n",
    "        self.w_k = nn.Linear(self.d_model, self.d_model)\n",
    "        self.w_v = nn.Linear(self.d_model, self.d_model)\n",
    "        self.out = nn.Linear(self.d_model, self.d_model)\n",
    "\n",
    "        self.dropout = nn.Dropout(dropout)\n",
    "        \n",
    "    def forward(self, q, k, v, mask=None):\n",
    "        batch_size = q.size(0)\n",
    "        q_len = q.size(1)\n",
    "        k_len = k.size(1)\n",
    "\n",
    "        q = self.w_q(q)\n",
    "        k = self.w_k(k)\n",
    "        v = self.w_v(v)\n",
    "\n",
    "        q = q.view(batch_size, q_len, self.n_heads, self.head_dim).permute(0, 2, 1, 3)\n",
    "        k = k.view(batch_size, k_len, self.n_heads, self.head_dim).permute(0, 2, 1, 3)\n",
    "        v = v.view(batch_size, k_len, self.n_heads, self.head_dim).permute(0, 2, 1, 3)\n",
    "\n",
    "        attention_weights = torch.matmul(q, k.transpose(-1, -2)) / math.sqrt(self.head_dim)\n",
    "        \n",
    "        if mask is not None:\n",
    "            attention_weights = attention_weights.masked_fill(mask == 0, float('-1e20'))\n",
    "            \n",
    "        attention_scores = F.softmax(attention_weights,dim=-1)\n",
    "        attention_scores = self.dropout(attention_scores)\n",
    "        context = torch.matmul(attention_scores, v)\n",
    "        concat = context.permute(0, 2, 1, 3).contiguous().view(batch_size, q_len, self.n_heads*self.head_dim)\n",
    "\n",
    "        x = self.out(concat)\n",
    "        return x"
   ]
  },
  {
   "cell_type": "code",
   "execution_count": 17,
   "id": "5680baae-7b70-442e-9d58-e665a414e30c",
   "metadata": {},
   "outputs": [],
   "source": [
    "class EncoderBlock(nn.Module):\n",
    "    def __init__(self, d_model=512, n_heads=8, dropout=0.1):\n",
    "        super().__init__()\n",
    "        self.attention = MultiHeadAttention(d_model, n_heads)\n",
    "        self.dropout1 = nn.Dropout(dropout)\n",
    "        self.norm1 = nn.LayerNorm(d_model)\n",
    "        self.feedforward = nn.Sequential(\n",
    "            nn.Linear(d_model, d_model*4),\n",
    "            nn.ReLU(),\n",
    "            nn.Dropout(dropout),\n",
    "            nn.Linear(d_model*4, d_model)\n",
    "        )\n",
    "        self.dropout2 = nn.Dropout(dropout)\n",
    "        self.norm2 = nn.LayerNorm(d_model)\n",
    "        \n",
    "    def forward(self, x, mask=None):\n",
    "        attention_out = self.attention(x, x, x, mask)\n",
    "        attention_residual_out = self.dropout1(attention_out) + x\n",
    "        norm1_out = self.norm1(attention_residual_out)\n",
    "        feedfwd_out = self.feedforward(norm1_out)\n",
    "        feedfwd_residual_out = self.dropout2(feedfwd_out) + norm1_out\n",
    "        output = self.norm2(feedfwd_residual_out)\n",
    "        \n",
    "        return output"
   ]
  },
  {
   "cell_type": "code",
   "execution_count": 18,
   "id": "b72b55c4-b245-4b60-82e8-b2dba5684b56",
   "metadata": {},
   "outputs": [],
   "source": [
    "class Encoder(nn.Module):\n",
    "    def __init__(self, d_model=512, n_heads=8, dropout=0.1, n_layers=6):\n",
    "        super().__init__()\n",
    "        self.n_layers = n_layers\n",
    "        self.layers = nn.ModuleList([\n",
    "            EncoderBlock(d_model, n_heads, dropout=dropout)\n",
    "            for i in range(n_layers)\n",
    "        ])\n",
    "        \n",
    "    def forward(self, x, ja_mask=None):\n",
    "        for layer in self.layers:\n",
    "            x = layer(x, ja_mask)\n",
    "        return x"
   ]
  },
  {
   "cell_type": "code",
   "execution_count": 19,
   "id": "b9dc69a3-3378-472c-b3d1-adb57721b652",
   "metadata": {},
   "outputs": [],
   "source": [
    "class DecoderBlock(nn.Module):\n",
    "    def __init__(self, d_model=512, n_heads=8, dropout=0.1, mask=None):\n",
    "        super().__init__()\n",
    "        self.masked_attention = MultiHeadAttention(d_model, n_heads)\n",
    "        self.dropout1 = nn.Dropout(dropout)\n",
    "        self.norm1 = nn.LayerNorm(d_model)\n",
    "        \n",
    "        self.attention = MultiHeadAttention(d_model, n_heads)\n",
    "        self.dropout2 = nn.Dropout(dropout)\n",
    "        self.norm2 = nn.LayerNorm(d_model)\n",
    "        \n",
    "        self.feedforward = nn.Sequential(\n",
    "            nn.Linear(d_model, d_model*4), \n",
    "            nn.ReLU(),\n",
    "            nn.Linear(d_model*4, d_model)\n",
    "        )\n",
    "        self.dropout3 = nn.Dropout(dropout)\n",
    "        self.norm3 = nn.LayerNorm(d_model)\n",
    "        \n",
    "    def forward(self, x, enc_out, ja_mask=None, en_mask=None):\n",
    "        masked_attention_out = self.masked_attention(x, x, x, mask=en_mask)\n",
    "        masked_attention_residual_out = self.dropout1(masked_attention_out) + x\n",
    "        norm1_out = self.norm1(masked_attention_residual_out)\n",
    "        \n",
    "        attention_out = self.attention(norm1_out, enc_out, enc_out, mask=ja_mask)\n",
    "        attention_residual_out = self.dropout2(attention_out) + norm1_out\n",
    "        norm2_out = self.norm2(attention_residual_out)\n",
    "        \n",
    "        feedfwd_out = self.feedforward(norm2_out)\n",
    "        feedfwd_residual_out = self.dropout3(feedfwd_out) + norm2_out\n",
    "        output = self.norm3(feedfwd_residual_out)\n",
    "        \n",
    "        return output"
   ]
  },
  {
   "cell_type": "code",
   "execution_count": 20,
   "id": "34319d8a-9f8c-4e14-99e6-b30fc0f64087",
   "metadata": {},
   "outputs": [],
   "source": [
    "class Decoder(nn.Module):\n",
    "    def __init__(self, d_model=512, n_heads=8, dropout=0.1, n_layers=6):\n",
    "        super().__init__()\n",
    "        self.n_layers = n_layers\n",
    "        self.layers = nn.ModuleList([\n",
    "            DecoderBlock(d_model, n_heads, dropout=dropout)\n",
    "            for i in range(n_layers)\n",
    "        ])\n",
    "    def forward(self, x, enc_out, en_mask=None, ja_mask=None):\n",
    "        for layer in self.layers:\n",
    "            x = layer(x, enc_out, en_mask=en_mask, ja_mask=ja_mask)\n",
    "        return x"
   ]
  },
  {
   "cell_type": "code",
   "execution_count": 21,
   "id": "012a85a8-6896-40df-ac11-b07751e47bd4",
   "metadata": {},
   "outputs": [],
   "source": [
    "class Transformer(nn.Module):\n",
    "    def __init__(self, ja_vocab_size, en_vocab_size, d_model=512, max_seq_len=80, n_heads=8, dropout=0.1, n_layers=6):\n",
    "        super().__init__()\n",
    "        self.d_model = d_model\n",
    "        self.ja_embedding = nn.Embedding(ja_vocab_size, d_model, padding_idx=pad_token_id)\n",
    "        self.en_embedding = nn.Embedding(en_vocab_size, d_model, padding_idx=pad_token_id)\n",
    "        \n",
    "        self.positional_encoder = PositionalEncoder(d_model, max_seq_len)\n",
    "\n",
    "        self.dropout = nn.Dropout(dropout)\n",
    "        \n",
    "        self.encoder = Encoder(d_model=d_model, n_heads=n_heads, dropout=dropout, n_layers=n_layers)\n",
    "        self.decoder = Decoder(d_model=d_model, n_heads=n_heads, dropout=dropout, n_layers=n_layers)\n",
    "        \n",
    "        self.out_proj = nn.Linear(d_model, en_vocab_size, bias=False)\n",
    "\n",
    "        self.out_proj.weight = self.en_embedding.weight\n",
    "        \n",
    "    def generate_mask(self, ja_ids, dec_input, device):\n",
    "        device = dec_input.device\n",
    "        ja_mask = (ja_ids != 0).unsqueeze(1).unsqueeze(2)\n",
    "        en_mask =  (dec_input != 0).unsqueeze(1).unsqueeze(2)\n",
    "        seq_len = dec_input.size(1)\n",
    "        causal_mask = torch.triu(torch.ones((seq_len, seq_len), device=device), diagonal=1).bool()\n",
    "        causal_mask = ~causal_mask\n",
    "        causal_mask = causal_mask.unsqueeze(0).unsqueeze(1)\n",
    "        en_mask = en_mask & causal_mask\n",
    "        return ja_mask, en_mask\n",
    "        \n",
    "    def forward(self, ja_ids, dec_input, ja_mask=None, en_mask=None):\n",
    "        ja_mask, en_mask = self.generate_mask(ja_ids, dec_input, device)\n",
    "        ja_embedding = self.dropout(self.positional_encoder(self.ja_embedding(ja_ids) * math.sqrt(self.d_model)))\n",
    "        en_embedding = self.dropout(self.positional_encoder(self.en_embedding(dec_input) * math.sqrt(self.d_model)))\n",
    "        encoder_out = self.encoder(ja_embedding, ja_mask)\n",
    "        decoder_out = self.decoder(en_embedding, encoder_out, en_mask=en_mask, ja_mask=ja_mask)\n",
    "        out = self.out_proj(decoder_out)\n",
    "        return out"
   ]
  },
  {
   "cell_type": "code",
   "execution_count": 22,
   "id": "0da01577-c145-4e15-9bd0-606a1223d151",
   "metadata": {},
   "outputs": [],
   "source": [
    "train_data = TranslationDataset(train_dataset, ja_tokenizer, en_tokenizer, max_len=80)\n",
    "train_loader = DataLoader(train_data, batch_size=128, num_workers=0, shuffle=True, drop_last=False)\n",
    "\n",
    "val_data = TranslationDataset(val_dataset, ja_tokenizer, en_tokenizer, max_len=80)\n",
    "val_loader = DataLoader(val_data, batch_size=128, num_workers=0, shuffle=True, drop_last=False)"
   ]
  },
  {
   "cell_type": "code",
   "execution_count": 23,
   "id": "4273340f-84d1-4518-8611-add24b429f51",
   "metadata": {},
   "outputs": [],
   "source": [
    "JA_VOCAB_SIZE = train_data.ja_vocab_size()\n",
    "EN_VOCAB_SIZE = train_data.en_vocab_size()\n",
    "D_MODEL = 512\n",
    "N_HEADS = 8\n",
    "N_LAYERS = 6\n",
    "MAX_SEQ_LEN = 80\n",
    "DROPOUT = 0.1\n",
    "N_EPOCHS = 100\n",
    "SAVE_EPOCH = 10\n",
    "LR = 1e-4\n",
    "device = torch.device(\"cuda\" if torch.cuda.is_available() else \"cpu\")"
   ]
  },
  {
   "cell_type": "code",
   "execution_count": 24,
   "id": "556aca26-c2b8-40b0-9071-1106eba39be5",
   "metadata": {},
   "outputs": [],
   "source": [
    "CHECKPOINT_DIR = \"./checkpoints\"\n",
    "os.makedirs(CHECKPOINT_DIR, exist_ok=True)"
   ]
  },
  {
   "cell_type": "code",
   "execution_count": 25,
   "id": "9b6b6303-865f-4609-89a6-f7c52593ce3b",
   "metadata": {},
   "outputs": [
    {
     "name": "stdout",
     "output_type": "stream",
     "text": [
      "8000, 8000\n",
      "68501\n"
     ]
    }
   ],
   "source": [
    "print(str(JA_VOCAB_SIZE) + \",\", EN_VOCAB_SIZE)\n",
    "print(len(train_dataset))"
   ]
  },
  {
   "cell_type": "code",
   "execution_count": 26,
   "id": "64b74843-fdbd-415e-95cb-4c4046966c71",
   "metadata": {},
   "outputs": [],
   "source": [
    "def save_checkpoint(epoch, model, optimizer, loss, path):\n",
    "    checkpoint = {\n",
    "        \"epoch\" : epoch,\n",
    "        \"model_state\" : model.state_dict(),\n",
    "        \"optimizer_state\" : optimizer.state_dict(),\n",
    "        \"loss\" : loss\n",
    "    }\n",
    "    torch.save(checkpoint, path)\n",
    "    print(f\"Saved checkpoint: {path}\")"
   ]
  },
  {
   "cell_type": "code",
   "execution_count": 27,
   "id": "eba58c5d-0d63-484c-86ef-448d2005ac77",
   "metadata": {},
   "outputs": [],
   "source": [
    "def load_checkpoint(path, model, optimizer=None, device=\"cpu\"):\n",
    "    checkpoint = torch.load(path, map_location=device)\n",
    "    model.load_state_dict(checkpoint[\"model_state\"])\n",
    "    if optimizer is not None and \"optimizer_state\" in checkpoint:\n",
    "        optimizer.load_state_dict(checkpoint[\"optimizer_state\"])\n",
    "    print(f\"Loaded checkpoint from epoch {checkpoint['epoch']} with loss {checkpoint['loss']:.4f}\")\n",
    "    return checkpoint[\"epoch\"], checkpoint[\"loss\"]"
   ]
  },
  {
   "cell_type": "code",
   "execution_count": 28,
   "id": "136f4bf5-5feb-4301-9f8d-b7248fc69acc",
   "metadata": {},
   "outputs": [],
   "source": [
    "model = Transformer(d_model=D_MODEL,\n",
    "                    ja_vocab_size=JA_VOCAB_SIZE,\n",
    "                    en_vocab_size=EN_VOCAB_SIZE,\n",
    "                    max_seq_len=MAX_SEQ_LEN, \n",
    "                    n_heads=N_HEADS,\n",
    "                    dropout=DROPOUT,\n",
    "                   n_layers=N_LAYERS).to(device)\n",
    "writer = SummaryWriter()\n",
    "optimizer = Adam(model.parameters(), lr=LR, betas=(0.9, 0.98), eps=1e-9)\n",
    "criterion = torch.nn.CrossEntropyLoss(ignore_index=pad_token_id)"
   ]
  },
  {
   "cell_type": "code",
   "execution_count": 29,
   "id": "dfa114e1-addf-4376-9a37-c2b13c39d352",
   "metadata": {},
   "outputs": [],
   "source": [
    "def greedy_decode(model, ja_ids, tokenizer, max_len=80, device=\"cpu\"):\n",
    "    model.eval()\n",
    "    with torch.no_grad():\n",
    "        if ja_ids.dim() == 1:\n",
    "            ja_ids = src_ids.unsqueeze(0)\n",
    "        ja_ids = ja_ids.to(device)\n",
    "\n",
    "        bos_id = ja_tokenizer.bos_id()\n",
    "        eos_id = ja_tokenizer.eos_id()\n",
    "\n",
    "        dec_input = torch.tensor([[bos_id]], device=device)\n",
    "\n",
    "        for _ in range(max_len):\n",
    "            outputs = model(ja_ids, dec_input)   # [1, tgt_len, vocab_size]\n",
    "            next_token = outputs[:, -1, :].argmax(-1)  # [1]\n",
    "            dec_input = torch.cat([dec_input, next_token.unsqueeze(1)], dim=1)\n",
    "\n",
    "            if next_token.item() == eos_id:\n",
    "                break\n",
    "\n",
    "    return dec_input[0].cpu().tolist()[1:-1] if dec_input[0, -1].item() == eos_id else dec_input[0].cpu().tolist()[1:]"
   ]
  },
  {
   "cell_type": "code",
   "execution_count": 30,
   "id": "3b60606b-2c2b-4174-99f0-5a4378e0d6bb",
   "metadata": {},
   "outputs": [],
   "source": [
    "def train_model(model, train_loader, val_loader, ja_tokenizer, en_tokenizer, \n",
    "                device, N_EPOCHS=100, lr=1e-4, SAVE_EPOCH=5, CHECKPOINT_DIR=\"./checkpoints\"):\n",
    "    for epoch in range(1, N_EPOCHS+1):\n",
    "        model.train()\n",
    "        epoch_loss = 0\n",
    "        train_iterator = tqdm(train_loader, desc=f\"EPOCH: {epoch}/{N_EPOCHS}\")\n",
    "\n",
    "        for batch_idx, (ja_ids, en_ids) in enumerate(train_iterator):\n",
    "            ja_ids = ja_ids.to(device)\n",
    "            en_ids = en_ids.to(device)\n",
    "\n",
    "            dec_input = en_ids[:, :-1]\n",
    "            target = en_ids[:, 1:].contiguous().view(-1)\n",
    "\n",
    "            outputs = model(ja_ids, dec_input)     # [B, T, V]\n",
    "            outputs = outputs.view(-1, outputs.size(-1))\n",
    "\n",
    "            loss = criterion(outputs, target)\n",
    "\n",
    "            optimizer.zero_grad()\n",
    "            loss.backward()\n",
    "            torch.nn.utils.clip_grad_norm_(model.parameters(), max_norm=1.0)\n",
    "            optimizer.step()\n",
    "\n",
    "            epoch_loss += loss.item()\n",
    "            train_iterator.set_postfix(loss=loss.item())\n",
    "\n",
    "        avg_loss = epoch_loss / len(train_loader)\n",
    "        perplexity = torch.exp(torch.tensor(avg_loss))\n",
    "        print(f\"Epoch {epoch} | Train Loss: {avg_loss:.4f} | PPL: {perplexity:.4f}\")\n",
    "\n",
    "        model.eval()\n",
    "        val_loss = 0\n",
    "        preds, refs = [], []\n",
    "        with torch.no_grad():\n",
    "            for ja_ids, en_ids in val_loader:\n",
    "                ja_ids = ja_ids.to(device)\n",
    "                en_ids = en_ids.to(device)\n",
    "\n",
    "                dec_input = en_ids[:, :-1]\n",
    "                target = en_ids[:, 1:].contiguous().view(-1)\n",
    "\n",
    "                outputs = model(ja_ids, dec_input)\n",
    "                outputs = outputs.view(-1, outputs.size(-1))\n",
    "\n",
    "                loss = criterion(outputs, target)\n",
    "                val_loss += loss.item()\n",
    "\n",
    "                out_ids = greedy_decode(model, ja_ids[0:1], en_tokenizer, device=device)\n",
    "                pred = en_tokenizer.decode(out_ids)\n",
    "                ref = en_tokenizer.decode(en_ids[0].cpu().tolist())\n",
    "                preds.append(pred.split())\n",
    "                refs.append([ref.split()])\n",
    "\n",
    "        avg_val_loss = val_loss / len(val_loader)\n",
    "        val_ppl = torch.exp(torch.tensor(avg_val_loss))\n",
    "        print(f\"Epoch {epoch} | Val Loss: {avg_val_loss:.4f} | Val PPL: {val_ppl:.4f}\")\n",
    "\n",
    "        smoothing = SmoothingFunction().method1\n",
    "        bleu_scores = [sentence_bleu(r, p, smoothing_function=smoothing) for p, r in zip(preds, refs)]\n",
    "        bleu = sum(bleu_scores) / len(bleu_scores)\n",
    "        print(f\"Validation BLEU: {bleu:.4f}\")\n",
    "\n",
    "        print(\"\\n A comparison between sample predictions and references:\")\n",
    "        for i in range(min(3, len(preds))):\n",
    "            print(f\"PRED {i+1}: {' '.join(preds[i])}\")\n",
    "            print(f\"REF  {i+1}: {' '.join(refs[i][0])}\")\n",
    "            print(\"—\" * 60)\n",
    "\n",
    "        if epoch % SAVE_EPOCH == 0:\n",
    "            save_path = os.path.join(CHECKPOINT_DIR, f\"epoch_{epoch}.pth\")\n",
    "            torch.save({\n",
    "                \"epoch\": epoch,\n",
    "                \"model_state\": model.state_dict(),\n",
    "                \"optim_state\": optimizer.state_dict(),\n",
    "                \"loss\": avg_loss,\n",
    "            }, save_path)\n",
    "            print(f\"Saved checkpoint: {save_path}\")"
   ]
  },
  {
   "cell_type": "code",
   "execution_count": 31,
   "id": "49f8f22f-86e3-42c6-a646-48793ce2fe98",
   "metadata": {},
   "outputs": [
    {
     "data": {
      "application/vnd.jupyter.widget-view+json": {
       "model_id": "89a946dae63f4925b0ffef0ffc05aaff",
       "version_major": 2,
       "version_minor": 0
      },
      "text/plain": [
       "EPOCH: 1/100:   0%|          | 0/536 [00:00<?, ?it/s]"
      ]
     },
     "metadata": {},
     "output_type": "display_data"
    },
    {
     "name": "stdout",
     "output_type": "stream",
     "text": [
      "Epoch 1 | Train Loss: 16.5277 | PPL: 15061879.0000\n",
      "Epoch 1 | Val Loss: 9.5867 | Val PPL: 14570.4248\n",
      "Validation BLEU: 0.0000\n",
      "\n",
      " A comparison between sample predictions and references:\n",
      "PRED 1: i don't want to be.\n",
      "REF  1: there's no mistake about it.\n",
      "————————————————————————————————————————————————————————————\n",
      "PRED 2: i don't want to be a little.\n",
      "REF  2: it seems less crowded during the week.\n",
      "————————————————————————————————————————————————————————————\n"
     ]
    },
    {
     "data": {
      "application/vnd.jupyter.widget-view+json": {
       "model_id": "d8ed1cc71dea4f8c888549a3b055c9e5",
       "version_major": 2,
       "version_minor": 0
      },
      "text/plain": [
       "EPOCH: 2/100:   0%|          | 0/536 [00:00<?, ?it/s]"
      ]
     },
     "metadata": {},
     "output_type": "display_data"
    },
    {
     "name": "stdout",
     "output_type": "stream",
     "text": [
      "Epoch 2 | Train Loss: 8.7622 | PPL: 6387.8657\n",
      "Epoch 2 | Val Loss: 6.3673 | Val PPL: 582.4880\n",
      "Validation BLEU: 0.0011\n",
      "\n",
      " A comparison between sample predictions and references:\n",
      "PRED 1: tom is a a a a a job job job job job job job job job job job job job job job job job job job job job job job job job job job job job job job job job job job job job job job job job job job job job job job job job job job job job job job job job job job job job job job job job job job job job job job job job\n",
      "REF  1: tom likes country music.\n",
      "————————————————————————————————————————————————————————————\n",
      "PRED 2: are you going to see you?\n",
      "REF  2: may i come again?\n",
      "————————————————————————————————————————————————————————————\n"
     ]
    },
    {
     "data": {
      "application/vnd.jupyter.widget-view+json": {
       "model_id": "386ce21a2d6849a89ea6155a038f15ad",
       "version_major": 2,
       "version_minor": 0
      },
      "text/plain": [
       "EPOCH: 3/100:   0%|          | 0/536 [00:00<?, ?it/s]"
      ]
     },
     "metadata": {},
     "output_type": "display_data"
    },
    {
     "name": "stdout",
     "output_type": "stream",
     "text": [
      "Epoch 3 | Train Loss: 6.6779 | PPL: 794.6091\n",
      "Epoch 3 | Val Loss: 5.1143 | Val PPL: 166.3812\n",
      "Validation BLEU: 0.0387\n",
      "\n",
      " A comparison between sample predictions and references:\n",
      "PRED 1: there is no one of the table.\n",
      "REF  1: there is a doll in the box.\n",
      "————————————————————————————————————————————————————————————\n",
      "PRED 2: there is no one in 1 ⁇ ⁇ ⁇ ⁇ ⁇ ⁇ ⁇ ⁇ ⁇ ⁇ ⁇ ⁇ ⁇ ⁇ ⁇ ⁇ ⁇ ⁇ ⁇ ⁇ ⁇ ⁇ ⁇ ⁇ ⁇ ⁇ ⁇ ⁇ ⁇ ⁇ ⁇ ⁇ ⁇ ⁇ ⁇ ⁇ ⁇ ⁇ ⁇ ⁇ .\n",
      "REF  2: children who are sixteen years old or younger may not enter the theater.\n",
      "————————————————————————————————————————————————————————————\n"
     ]
    },
    {
     "data": {
      "application/vnd.jupyter.widget-view+json": {
       "model_id": "dfce00ed9f9b471da0b4bc816b849c03",
       "version_major": 2,
       "version_minor": 0
      },
      "text/plain": [
       "EPOCH: 4/100:   0%|          | 0/536 [00:00<?, ?it/s]"
      ]
     },
     "metadata": {},
     "output_type": "display_data"
    },
    {
     "name": "stdout",
     "output_type": "stream",
     "text": [
      "Epoch 4 | Train Loss: 5.4849 | PPL: 241.0336\n",
      "Epoch 4 | Val Loss: 4.4838 | Val PPL: 88.5719\n",
      "Validation BLEU: 0.0512\n",
      "\n",
      " A comparison between sample predictions and references:\n",
      "PRED 1: thank you yesterday yesterday yesterday.\n",
      "REF  1: thanks for yesterday.\n",
      "————————————————————————————————————————————————————————————\n",
      "PRED 2: i study study night.\n",
      "REF  2: i was up all night studying.\n",
      "————————————————————————————————————————————————————————————\n"
     ]
    },
    {
     "data": {
      "application/vnd.jupyter.widget-view+json": {
       "model_id": "3f8ab7efc55d40a88097e516ba24854c",
       "version_major": 2,
       "version_minor": 0
      },
      "text/plain": [
       "EPOCH: 5/100:   0%|          | 0/536 [00:00<?, ?it/s]"
      ]
     },
     "metadata": {},
     "output_type": "display_data"
    },
    {
     "name": "stdout",
     "output_type": "stream",
     "text": [
      "Epoch 5 | Train Loss: 4.7986 | PPL: 121.3433\n",
      "Epoch 5 | Val Loss: 4.5425 | Val PPL: 93.9241\n",
      "Validation BLEU: 0.1790\n",
      "\n",
      " A comparison between sample predictions and references:\n",
      "PRED 1: french is a french.\n",
      "REF  1: french is useful.\n",
      "————————————————————————————————————————————————————————————\n",
      "PRED 2: i think that's true.\n",
      "REF  2: i think it's true.\n",
      "————————————————————————————————————————————————————————————\n"
     ]
    },
    {
     "data": {
      "application/vnd.jupyter.widget-view+json": {
       "model_id": "9fb2106ae9fc41aaad0228c90c4a4cb6",
       "version_major": 2,
       "version_minor": 0
      },
      "text/plain": [
       "EPOCH: 6/100:   0%|          | 0/536 [00:00<?, ?it/s]"
      ]
     },
     "metadata": {},
     "output_type": "display_data"
    },
    {
     "name": "stdout",
     "output_type": "stream",
     "text": [
      "Epoch 6 | Train Loss: 4.2924 | PPL: 73.1420\n",
      "Epoch 6 | Val Loss: 3.8311 | Val PPL: 46.1128\n",
      "Validation BLEU: 0.0331\n",
      "\n",
      " A comparison between sample predictions and references:\n",
      "PRED 1: tom is a bad bad bad bad bad bad bad bad bad city.\n",
      "REF  1: tom isn't good with basic arithmetic.\n",
      "————————————————————————————————————————————————————————————\n",
      "PRED 2: he is not not a little of his parents.\n",
      "REF  2: there isn't any hope of his success.\n",
      "————————————————————————————————————————————————————————————\n"
     ]
    },
    {
     "data": {
      "application/vnd.jupyter.widget-view+json": {
       "model_id": "7ab99e6882e34c9a9a14caf117b6b2f3",
       "version_major": 2,
       "version_minor": 0
      },
      "text/plain": [
       "EPOCH: 7/100:   0%|          | 0/536 [00:00<?, ?it/s]"
      ]
     },
     "metadata": {},
     "output_type": "display_data"
    },
    {
     "name": "stdout",
     "output_type": "stream",
     "text": [
      "Epoch 7 | Train Loss: 3.8583 | PPL: 47.3840\n",
      "Epoch 7 | Val Loss: 3.6691 | Val PPL: 39.2154\n",
      "Validation BLEU: 0.0546\n",
      "\n",
      " A comparison between sample predictions and references:\n",
      "PRED 1: i think it's a here.\n",
      "REF  1: i think that we'd better leave early.\n",
      "————————————————————————————————————————————————————————————\n",
      "PRED 2: both of them are both of them.\n",
      "REF  2: would the two of you quit bickering?\n",
      "————————————————————————————————————————————————————————————\n"
     ]
    },
    {
     "data": {
      "application/vnd.jupyter.widget-view+json": {
       "model_id": "5320579bd8784ea0819fd7edbb9d4ded",
       "version_major": 2,
       "version_minor": 0
      },
      "text/plain": [
       "EPOCH: 8/100:   0%|          | 0/536 [00:00<?, ?it/s]"
      ]
     },
     "metadata": {},
     "output_type": "display_data"
    },
    {
     "name": "stdout",
     "output_type": "stream",
     "text": [
      "Epoch 8 | Train Loss: 3.5628 | PPL: 35.2603\n",
      "Epoch 8 | Val Loss: 3.1929 | Val PPL: 24.3595\n",
      "Validation BLEU: 0.0807\n",
      "\n",
      " A comparison between sample predictions and references:\n",
      "PRED 1: i was home.\n",
      "REF  1: the house was in flames.\n",
      "————————————————————————————————————————————————————————————\n",
      "PRED 2: i haven't seen college.\n",
      "REF  2: i haven't gone to college yet.\n",
      "————————————————————————————————————————————————————————————\n"
     ]
    },
    {
     "data": {
      "application/vnd.jupyter.widget-view+json": {
       "model_id": "2cf659d1c3c84da19f8d10d2eb4ea891",
       "version_major": 2,
       "version_minor": 0
      },
      "text/plain": [
       "EPOCH: 9/100:   0%|          | 0/536 [00:00<?, ?it/s]"
      ]
     },
     "metadata": {},
     "output_type": "display_data"
    },
    {
     "name": "stdout",
     "output_type": "stream",
     "text": [
      "Epoch 9 | Train Loss: 3.2660 | PPL: 26.2070\n",
      "Epoch 9 | Val Loss: 3.2440 | Val PPL: 25.6356\n",
      "Validation BLEU: 0.0698\n",
      "\n",
      " A comparison between sample predictions and references:\n",
      "PRED 1: i forgot i forgot to homework.\n",
      "REF  1: i forgot we had homework.\n",
      "————————————————————————————————————————————————————————————\n",
      "PRED 2: tom is bad at eight.\n",
      "REF  2: tom isn't good with basic arithmetic.\n",
      "————————————————————————————————————————————————————————————\n"
     ]
    },
    {
     "data": {
      "application/vnd.jupyter.widget-view+json": {
       "model_id": "b6d653cdb5ee44af95b72aa967bf06b4",
       "version_major": 2,
       "version_minor": 0
      },
      "text/plain": [
       "EPOCH: 10/100:   0%|          | 0/536 [00:00<?, ?it/s]"
      ]
     },
     "metadata": {},
     "output_type": "display_data"
    },
    {
     "name": "stdout",
     "output_type": "stream",
     "text": [
      "Epoch 10 | Train Loss: 3.0142 | PPL: 20.3730\n",
      "Epoch 10 | Val Loss: 3.1770 | Val PPL: 23.9738\n",
      "Validation BLEU: 0.0000\n",
      "\n",
      " A comparison between sample predictions and references:\n",
      "PRED 1: i was 10 by train.\n",
      "REF  1: the train will come in at platform ten.\n",
      "————————————————————————————————————————————————————————————\n",
      "PRED 2: i need more.\n",
      "REF  2: try harder.\n",
      "————————————————————————————————————————————————————————————\n",
      "Saved checkpoint: ./checkpoints\\epoch_10.pth\n"
     ]
    },
    {
     "data": {
      "application/vnd.jupyter.widget-view+json": {
       "model_id": "79d1161c8f4c4367aed34cb67ac945b9",
       "version_major": 2,
       "version_minor": 0
      },
      "text/plain": [
       "EPOCH: 11/100:   0%|          | 0/536 [00:00<?, ?it/s]"
      ]
     },
     "metadata": {},
     "output_type": "display_data"
    },
    {
     "name": "stdout",
     "output_type": "stream",
     "text": [
      "Epoch 11 | Train Loss: 2.8211 | PPL: 16.7956\n",
      "Epoch 11 | Val Loss: 2.9900 | Val PPL: 19.8865\n",
      "Validation BLEU: 0.5107\n",
      "\n",
      " A comparison between sample predictions and references:\n",
      "PRED 1: why are you laughing?\n",
      "REF  1: why are you laughing?\n",
      "————————————————————————————————————————————————————————————\n",
      "PRED 2: i'm very busy.\n",
      "REF  2: i'm, as you know, a very busy person.\n",
      "————————————————————————————————————————————————————————————\n"
     ]
    },
    {
     "data": {
      "application/vnd.jupyter.widget-view+json": {
       "model_id": "5dc9fe43c071453597dffffb13149cb5",
       "version_major": 2,
       "version_minor": 0
      },
      "text/plain": [
       "EPOCH: 12/100:   0%|          | 0/536 [00:00<?, ?it/s]"
      ]
     },
     "metadata": {},
     "output_type": "display_data"
    },
    {
     "name": "stdout",
     "output_type": "stream",
     "text": [
      "Epoch 12 | Train Loss: 2.6177 | PPL: 13.7042\n",
      "Epoch 12 | Val Loss: 2.7758 | Val PPL: 16.0513\n",
      "Validation BLEU: 0.0629\n",
      "\n",
      " A comparison between sample predictions and references:\n",
      "PRED 1: i tree in laundry.\n",
      "REF  1: bring the washing in.\n",
      "————————————————————————————————————————————————————————————\n",
      "PRED 2: this juice is very good.\n",
      "REF  2: this steak is very juicy.\n",
      "————————————————————————————————————————————————————————————\n"
     ]
    },
    {
     "data": {
      "application/vnd.jupyter.widget-view+json": {
       "model_id": "6b3daf9a371c45f48f5f75052e92208b",
       "version_major": 2,
       "version_minor": 0
      },
      "text/plain": [
       "EPOCH: 13/100:   0%|          | 0/536 [00:00<?, ?it/s]"
      ]
     },
     "metadata": {},
     "output_type": "display_data"
    },
    {
     "name": "stdout",
     "output_type": "stream",
     "text": [
      "Epoch 13 | Train Loss: 2.4637 | PPL: 11.7483\n",
      "Epoch 13 | Val Loss: 2.7347 | Val PPL: 15.4051\n",
      "Validation BLEU: 0.0638\n",
      "\n",
      " A comparison between sample predictions and references:\n",
      "PRED 1: i have a lot of things to do.\n",
      "REF  1: i have something to give you.\n",
      "————————————————————————————————————————————————————————————\n",
      "PRED 2: the game won't team.\n",
      "REF  2: our team won the game.\n",
      "————————————————————————————————————————————————————————————\n"
     ]
    },
    {
     "data": {
      "application/vnd.jupyter.widget-view+json": {
       "model_id": "ecbe77220cdf48678477d997d3824d65",
       "version_major": 2,
       "version_minor": 0
      },
      "text/plain": [
       "EPOCH: 14/100:   0%|          | 0/536 [00:00<?, ?it/s]"
      ]
     },
     "metadata": {},
     "output_type": "display_data"
    },
    {
     "name": "stdout",
     "output_type": "stream",
     "text": [
      "Epoch 14 | Train Loss: 2.3125 | PPL: 10.0992\n",
      "Epoch 14 | Val Loss: 2.6977 | Val PPL: 14.8455\n",
      "Validation BLEU: 0.0335\n",
      "\n",
      " A comparison between sample predictions and references:\n",
      "PRED 1: tom took off his seat.\n",
      "REF  1: tom was away from his desk.\n",
      "————————————————————————————————————————————————————————————\n",
      "PRED 2: i've been working here for a few years ago.\n",
      "REF  2: it was just ⁇ years ago that i visited new zealand for the first time.\n",
      "————————————————————————————————————————————————————————————\n"
     ]
    },
    {
     "data": {
      "application/vnd.jupyter.widget-view+json": {
       "model_id": "7e7bbd87ee4141cf8c54bb30dc5f54c2",
       "version_major": 2,
       "version_minor": 0
      },
      "text/plain": [
       "EPOCH: 15/100:   0%|          | 0/536 [00:00<?, ?it/s]"
      ]
     },
     "metadata": {},
     "output_type": "display_data"
    },
    {
     "name": "stdout",
     "output_type": "stream",
     "text": [
      "Epoch 15 | Train Loss: 2.1693 | PPL: 8.7522\n",
      "Epoch 15 | Val Loss: 2.6098 | Val PPL: 13.5964\n",
      "Validation BLEU: 0.0803\n",
      "\n",
      " A comparison between sample predictions and references:\n",
      "PRED 1: have you had breakfast yet?\n",
      "REF  1: have you eaten breakfast yet?\n",
      "————————————————————————————————————————————————————————————\n",
      "PRED 2: what's the article article article article for me?\n",
      "REF  2: don't read my diary.\n",
      "————————————————————————————————————————————————————————————\n"
     ]
    },
    {
     "data": {
      "application/vnd.jupyter.widget-view+json": {
       "model_id": "eb119c1fb6a34630892e9580a42ee22e",
       "version_major": 2,
       "version_minor": 0
      },
      "text/plain": [
       "EPOCH: 16/100:   0%|          | 0/536 [00:00<?, ?it/s]"
      ]
     },
     "metadata": {},
     "output_type": "display_data"
    },
    {
     "name": "stdout",
     "output_type": "stream",
     "text": [
      "Epoch 16 | Train Loss: 2.0428 | PPL: 7.7124\n",
      "Epoch 16 | Val Loss: 2.5835 | Val PPL: 13.2432\n",
      "Validation BLEU: 0.0326\n",
      "\n",
      " A comparison between sample predictions and references:\n",
      "PRED 1: she's me a liar she's me.\n",
      "REF  1: she accused me of being a liar.\n",
      "————————————————————————————————————————————————————————————\n",
      "PRED 2: you're my family, will you?\n",
      "REF  2: i am sending you a picture of my family.\n",
      "————————————————————————————————————————————————————————————\n"
     ]
    },
    {
     "data": {
      "application/vnd.jupyter.widget-view+json": {
       "model_id": "eb086321f91746d8a438b6ae1fb6fa97",
       "version_major": 2,
       "version_minor": 0
      },
      "text/plain": [
       "EPOCH: 17/100:   0%|          | 0/536 [00:00<?, ?it/s]"
      ]
     },
     "metadata": {},
     "output_type": "display_data"
    },
    {
     "name": "stdout",
     "output_type": "stream",
     "text": [
      "Epoch 17 | Train Loss: 1.9346 | PPL: 6.9216\n",
      "Epoch 17 | Val Loss: 2.6312 | Val PPL: 13.8898\n",
      "Validation BLEU: 0.0248\n",
      "\n",
      " A comparison between sample predictions and references:\n",
      "PRED 1: when the people do the right, we'll be able to spend the right someday.\n",
      "REF  1: what you spend time doing in your childhood affects the rest of your life.\n",
      "————————————————————————————————————————————————————————————\n",
      "PRED 2: help me, i'd rather stay very happy.\n",
      "REF  2: i'd be very grateful if you could help me.\n",
      "————————————————————————————————————————————————————————————\n"
     ]
    },
    {
     "data": {
      "application/vnd.jupyter.widget-view+json": {
       "model_id": "37cd527c3d074ac3bdccf968859fdf4f",
       "version_major": 2,
       "version_minor": 0
      },
      "text/plain": [
       "EPOCH: 18/100:   0%|          | 0/536 [00:00<?, ?it/s]"
      ]
     },
     "metadata": {},
     "output_type": "display_data"
    },
    {
     "name": "stdout",
     "output_type": "stream",
     "text": [
      "Epoch 18 | Train Loss: 1.8217 | PPL: 6.1827\n",
      "Epoch 18 | Val Loss: 2.5196 | Val PPL: 12.4240\n",
      "Validation BLEU: 0.0942\n",
      "\n",
      " A comparison between sample predictions and references:\n",
      "PRED 1: i had a reading novels novels.\n",
      "REF  1: i was absorbed in reading a novel.\n",
      "————————————————————————————————————————————————————————————\n",
      "PRED 2: i thought i might know where tom went mary was.\n",
      "REF  2: i thought tom might know where mary lives.\n",
      "————————————————————————————————————————————————————————————\n"
     ]
    },
    {
     "data": {
      "application/vnd.jupyter.widget-view+json": {
       "model_id": "6d1a8dec24da4a1e9c89a172c21f3b62",
       "version_major": 2,
       "version_minor": 0
      },
      "text/plain": [
       "EPOCH: 19/100:   0%|          | 0/536 [00:00<?, ?it/s]"
      ]
     },
     "metadata": {},
     "output_type": "display_data"
    },
    {
     "name": "stdout",
     "output_type": "stream",
     "text": [
      "Epoch 19 | Train Loss: 1.7139 | PPL: 5.5504\n",
      "Epoch 19 | Val Loss: 2.4691 | Val PPL: 11.8120\n",
      "Validation BLEU: 0.0369\n",
      "\n",
      " A comparison between sample predictions and references:\n",
      "PRED 1: we finally finally finally finally got my real.\n",
      "REF  1: my wish has finally come true.\n",
      "————————————————————————————————————————————————————————————\n",
      "PRED 2: please feel free to eat yourself.\n",
      "REF  2: please have some cookies.\n",
      "————————————————————————————————————————————————————————————\n"
     ]
    },
    {
     "data": {
      "application/vnd.jupyter.widget-view+json": {
       "model_id": "4823ef2b425142989f4e742858552b0d",
       "version_major": 2,
       "version_minor": 0
      },
      "text/plain": [
       "EPOCH: 20/100:   0%|          | 0/536 [00:00<?, ?it/s]"
      ]
     },
     "metadata": {},
     "output_type": "display_data"
    },
    {
     "name": "stdout",
     "output_type": "stream",
     "text": [
      "Epoch 20 | Train Loss: 1.6072 | PPL: 4.9888\n",
      "Epoch 20 | Val Loss: 2.4702 | Val PPL: 11.8247\n",
      "Validation BLEU: 0.3380\n",
      "\n",
      " A comparison between sample predictions and references:\n",
      "PRED 1: thanks for yesterday.\n",
      "REF  1: thanks for yesterday.\n",
      "————————————————————————————————————————————————————————————\n",
      "PRED 2: have you already had breakfast?\n",
      "REF  2: have you eaten breakfast yet?\n",
      "————————————————————————————————————————————————————————————\n",
      "Saved checkpoint: ./checkpoints\\epoch_20.pth\n"
     ]
    },
    {
     "data": {
      "application/vnd.jupyter.widget-view+json": {
       "model_id": "168e6e2d7a5a41939a6dc6aecba9da6c",
       "version_major": 2,
       "version_minor": 0
      },
      "text/plain": [
       "EPOCH: 21/100:   0%|          | 0/536 [00:00<?, ?it/s]"
      ]
     },
     "metadata": {},
     "output_type": "display_data"
    },
    {
     "name": "stdout",
     "output_type": "stream",
     "text": [
      "Epoch 21 | Train Loss: 1.5212 | PPL: 4.5778\n",
      "Epoch 21 | Val Loss: 2.3997 | Val PPL: 11.0194\n",
      "Validation BLEU: 0.5176\n",
      "\n",
      " A comparison between sample predictions and references:\n",
      "PRED 1: our turn is next.\n",
      "REF  1: our turn is next.\n",
      "————————————————————————————————————————————————————————————\n",
      "PRED 2: where do you spend your summer vacation?\n",
      "REF  2: where are you going to spend the summer holidays?\n",
      "————————————————————————————————————————————————————————————\n"
     ]
    },
    {
     "data": {
      "application/vnd.jupyter.widget-view+json": {
       "model_id": "33507c59c7254052b36e43adaf1da4ac",
       "version_major": 2,
       "version_minor": 0
      },
      "text/plain": [
       "EPOCH: 22/100:   0%|          | 0/536 [00:00<?, ?it/s]"
      ]
     },
     "metadata": {},
     "output_type": "display_data"
    },
    {
     "name": "stdout",
     "output_type": "stream",
     "text": [
      "Epoch 22 | Train Loss: 1.4368 | PPL: 4.2074\n",
      "Epoch 22 | Val Loss: 2.4527 | Val PPL: 11.6193\n",
      "Validation BLEU: 0.5052\n",
      "\n",
      " A comparison between sample predictions and references:\n",
      "PRED 1: when i spend the right time, i've seen my right spend spend spend spend the people when i've seen a right time.\n",
      "REF  1: what you spend time doing in your childhood affects the rest of your life.\n",
      "————————————————————————————————————————————————————————————\n",
      "PRED 2: the hotel burned down.\n",
      "REF  2: the hotel burned down.\n",
      "————————————————————————————————————————————————————————————\n"
     ]
    },
    {
     "data": {
      "application/vnd.jupyter.widget-view+json": {
       "model_id": "c919150f47864a3499fb8202c1cf592e",
       "version_major": 2,
       "version_minor": 0
      },
      "text/plain": [
       "EPOCH: 23/100:   0%|          | 0/536 [00:00<?, ?it/s]"
      ]
     },
     "metadata": {},
     "output_type": "display_data"
    },
    {
     "name": "stdout",
     "output_type": "stream",
     "text": [
      "Epoch 23 | Train Loss: 1.3520 | PPL: 3.8652\n",
      "Epoch 23 | Val Loss: 2.4671 | Val PPL: 11.7886\n",
      "Validation BLEU: 0.3605\n",
      "\n",
      " A comparison between sample predictions and references:\n",
      "PRED 1: we went for a walk.\n",
      "REF  1: we went for a stroll.\n",
      "————————————————————————————————————————————————————————————\n",
      "PRED 2: i will take thery off.\n",
      "REF  2: i'll take back what i said.\n",
      "————————————————————————————————————————————————————————————\n"
     ]
    },
    {
     "data": {
      "application/vnd.jupyter.widget-view+json": {
       "model_id": "43532c19428e4619826896fc6162f640",
       "version_major": 2,
       "version_minor": 0
      },
      "text/plain": [
       "EPOCH: 24/100:   0%|          | 0/536 [00:00<?, ?it/s]"
      ]
     },
     "metadata": {},
     "output_type": "display_data"
    },
    {
     "name": "stdout",
     "output_type": "stream",
     "text": [
      "Epoch 24 | Train Loss: 1.2738 | PPL: 3.5743\n",
      "Epoch 24 | Val Loss: 2.3126 | Val PPL: 10.1010\n",
      "Validation BLEU: 0.0607\n",
      "\n",
      " A comparison between sample predictions and references:\n",
      "PRED 1: calm down.\n",
      "REF  1: please relax.\n",
      "————————————————————————————————————————————————————————————\n",
      "PRED 2: his wife is a hold of his wife.\n",
      "REF  2: that man is skinny, but his wife is fat.\n",
      "————————————————————————————————————————————————————————————\n"
     ]
    },
    {
     "data": {
      "application/vnd.jupyter.widget-view+json": {
       "model_id": "3df5314eff6e4b5486860c011a9136ee",
       "version_major": 2,
       "version_minor": 0
      },
      "text/plain": [
       "EPOCH: 25/100:   0%|          | 0/536 [00:00<?, ?it/s]"
      ]
     },
     "metadata": {},
     "output_type": "display_data"
    },
    {
     "name": "stdout",
     "output_type": "stream",
     "text": [
      "Epoch 25 | Train Loss: 1.1971 | PPL: 3.3105\n",
      "Epoch 25 | Val Loss: 2.3662 | Val PPL: 10.6570\n",
      "Validation BLEU: 0.7541\n",
      "\n",
      " A comparison between sample predictions and references:\n",
      "PRED 1: tom isn't watching tv at all.\n",
      "REF  1: tom isn't watching tv now.\n",
      "————————————————————————————————————————————————————————————\n",
      "PRED 2: may i come again?\n",
      "REF  2: may i come again?\n",
      "————————————————————————————————————————————————————————————\n"
     ]
    },
    {
     "data": {
      "application/vnd.jupyter.widget-view+json": {
       "model_id": "ecf2a094278146138a5c8090b24440e1",
       "version_major": 2,
       "version_minor": 0
      },
      "text/plain": [
       "EPOCH: 26/100:   0%|          | 0/536 [00:00<?, ?it/s]"
      ]
     },
     "metadata": {},
     "output_type": "display_data"
    },
    {
     "name": "stdout",
     "output_type": "stream",
     "text": [
      "Epoch 26 | Train Loss: 1.1286 | PPL: 3.0912\n",
      "Epoch 26 | Val Loss: 2.3413 | Val PPL: 10.3948\n",
      "Validation BLEU: 0.5432\n",
      "\n",
      " A comparison between sample predictions and references:\n",
      "PRED 1: bring the laundry in the laundry.\n",
      "REF  1: bring the washing in.\n",
      "————————————————————————————————————————————————————————————\n",
      "PRED 2: how many brothers do you have?\n",
      "REF  2: how many brothers do you have?\n",
      "————————————————————————————————————————————————————————————\n"
     ]
    },
    {
     "data": {
      "application/vnd.jupyter.widget-view+json": {
       "model_id": "80b4b793293a4856b3a6ba2f0758bee3",
       "version_major": 2,
       "version_minor": 0
      },
      "text/plain": [
       "EPOCH: 27/100:   0%|          | 0/536 [00:00<?, ?it/s]"
      ]
     },
     "metadata": {},
     "output_type": "display_data"
    },
    {
     "name": "stdout",
     "output_type": "stream",
     "text": [
      "Epoch 27 | Train Loss: 1.0621 | PPL: 2.8925\n",
      "Epoch 27 | Val Loss: 2.3605 | Val PPL: 10.5965\n",
      "Validation BLEU: 0.1684\n",
      "\n",
      " A comparison between sample predictions and references:\n",
      "PRED 1: there is a in the box.\n",
      "REF  1: there is a doll in the box.\n",
      "————————————————————————————————————————————————————————————\n",
      "PRED 2: i cut my hair cut as a haircut as i get some transfer.\n",
      "REF  2: i tried to cut my bangs myself, but i cut off too much.\n",
      "————————————————————————————————————————————————————————————\n"
     ]
    },
    {
     "data": {
      "application/vnd.jupyter.widget-view+json": {
       "model_id": "7706641008c247c097ddddf6bbe65193",
       "version_major": 2,
       "version_minor": 0
      },
      "text/plain": [
       "EPOCH: 28/100:   0%|          | 0/536 [00:00<?, ?it/s]"
      ]
     },
     "metadata": {},
     "output_type": "display_data"
    },
    {
     "name": "stdout",
     "output_type": "stream",
     "text": [
      "Epoch 28 | Train Loss: 1.0051 | PPL: 2.7322\n",
      "Epoch 28 | Val Loss: 2.4029 | Val PPL: 11.0557\n",
      "Validation BLEU: 0.0721\n",
      "\n",
      " A comparison between sample predictions and references:\n",
      "PRED 1: i'll give you ai-up.\n",
      "REF  1: i have something to give you.\n",
      "————————————————————————————————————————————————————————————\n",
      "PRED 2: put on your uniform.\n",
      "REF  2: put your uniform on.\n",
      "————————————————————————————————————————————————————————————\n"
     ]
    },
    {
     "data": {
      "application/vnd.jupyter.widget-view+json": {
       "model_id": "8cb7fb78f57545eaa2b94501f47d6931",
       "version_major": 2,
       "version_minor": 0
      },
      "text/plain": [
       "EPOCH: 29/100:   0%|          | 0/536 [00:00<?, ?it/s]"
      ]
     },
     "metadata": {},
     "output_type": "display_data"
    },
    {
     "name": "stdout",
     "output_type": "stream",
     "text": [
      "Epoch 29 | Train Loss: 0.9446 | PPL: 2.5718\n",
      "Epoch 29 | Val Loss: 2.3281 | Val PPL: 10.2586\n",
      "Validation BLEU: 0.6429\n",
      "\n",
      " A comparison between sample predictions and references:\n",
      "PRED 1: you can't live without water.\n",
      "REF  1: you couldn't live without water.\n",
      "————————————————————————————————————————————————————————————\n",
      "PRED 2: our team won the game.\n",
      "REF  2: our team won the game.\n",
      "————————————————————————————————————————————————————————————\n"
     ]
    },
    {
     "data": {
      "application/vnd.jupyter.widget-view+json": {
       "model_id": "d5910021b584442ab5bacd55b8909971",
       "version_major": 2,
       "version_minor": 0
      },
      "text/plain": [
       "EPOCH: 30/100:   0%|          | 0/536 [00:00<?, ?it/s]"
      ]
     },
     "metadata": {},
     "output_type": "display_data"
    },
    {
     "name": "stdout",
     "output_type": "stream",
     "text": [
      "Epoch 30 | Train Loss: 0.8921 | PPL: 2.4403\n",
      "Epoch 30 | Val Loss: 2.4195 | Val PPL: 11.2406\n",
      "Validation BLEU: 0.1123\n",
      "\n",
      " A comparison between sample predictions and references:\n",
      "PRED 1: the qu invited us to the thr.\n",
      "REF  1: the queen was gracious enough to invite us.\n",
      "————————————————————————————————————————————————————————————\n",
      "PRED 2: tom committed suicide.\n",
      "REF  2: tom has committed suicide.\n",
      "————————————————————————————————————————————————————————————\n",
      "Saved checkpoint: ./checkpoints\\epoch_30.pth\n"
     ]
    },
    {
     "data": {
      "application/vnd.jupyter.widget-view+json": {
       "model_id": "ef183fc1b60b4d82bf4146a41316570d",
       "version_major": 2,
       "version_minor": 0
      },
      "text/plain": [
       "EPOCH: 31/100:   0%|          | 0/536 [00:00<?, ?it/s]"
      ]
     },
     "metadata": {},
     "output_type": "display_data"
    },
    {
     "name": "stdout",
     "output_type": "stream",
     "text": [
      "Epoch 31 | Train Loss: 0.8374 | PPL: 2.3104\n",
      "Epoch 31 | Val Loss: 2.5398 | Val PPL: 12.6772\n",
      "Validation BLEU: 0.1446\n",
      "\n",
      " A comparison between sample predictions and references:\n",
      "PRED 1: he didn't show up after all.\n",
      "REF  1: he didn't turn up after all.\n",
      "————————————————————————————————————————————————————————————\n",
      "PRED 2: if you'd help me, i'd very happy.\n",
      "REF  2: i'd be very grateful if you could help me.\n",
      "————————————————————————————————————————————————————————————\n"
     ]
    },
    {
     "data": {
      "application/vnd.jupyter.widget-view+json": {
       "model_id": "0f5d84df62514a6abdd2d852f1e8682c",
       "version_major": 2,
       "version_minor": 0
      },
      "text/plain": [
       "EPOCH: 32/100:   0%|          | 0/536 [00:00<?, ?it/s]"
      ]
     },
     "metadata": {},
     "output_type": "display_data"
    },
    {
     "name": "stdout",
     "output_type": "stream",
     "text": [
      "Epoch 32 | Train Loss: 0.7894 | PPL: 2.2021\n",
      "Epoch 32 | Val Loss: 2.3948 | Val PPL: 10.9660\n",
      "Validation BLEU: 0.6028\n",
      "\n",
      " A comparison between sample predictions and references:\n",
      "PRED 1: where are you going?\n",
      "REF  1: where are you going?\n",
      "————————————————————————————————————————————————————————————\n",
      "PRED 2: could you help me do my homework?\n",
      "REF  2: will you help me with my homework?\n",
      "————————————————————————————————————————————————————————————\n"
     ]
    },
    {
     "data": {
      "application/vnd.jupyter.widget-view+json": {
       "model_id": "652c98eee2834c1fb09b75f94e9681d2",
       "version_major": 2,
       "version_minor": 0
      },
      "text/plain": [
       "EPOCH: 33/100:   0%|          | 0/536 [00:00<?, ?it/s]"
      ]
     },
     "metadata": {},
     "output_type": "display_data"
    },
    {
     "name": "stdout",
     "output_type": "stream",
     "text": [
      "Epoch 33 | Train Loss: 0.7420 | PPL: 2.1001\n",
      "Epoch 33 | Val Loss: 2.5611 | Val PPL: 12.9496\n",
      "Validation BLEU: 0.5000\n",
      "\n",
      " A comparison between sample predictions and references:\n",
      "PRED 1: what a article!\n",
      "REF  1: don't read my diary.\n",
      "————————————————————————————————————————————————————————————\n",
      "PRED 2: how many brothers do you have?\n",
      "REF  2: how many brothers do you have?\n",
      "————————————————————————————————————————————————————————————\n"
     ]
    },
    {
     "data": {
      "application/vnd.jupyter.widget-view+json": {
       "model_id": "a938d9c1761440babe6ae0758a95f176",
       "version_major": 2,
       "version_minor": 0
      },
      "text/plain": [
       "EPOCH: 34/100:   0%|          | 0/536 [00:00<?, ?it/s]"
      ]
     },
     "metadata": {},
     "output_type": "display_data"
    },
    {
     "name": "stdout",
     "output_type": "stream",
     "text": [
      "Epoch 34 | Train Loss: 0.7003 | PPL: 2.0143\n",
      "Epoch 34 | Val Loss: 2.3393 | Val PPL: 10.3741\n",
      "Validation BLEU: 1.0000\n",
      "\n",
      " A comparison between sample predictions and references:\n",
      "PRED 1: i thought tom might know where mary lives.\n",
      "REF  1: i thought tom might know where mary lives.\n",
      "————————————————————————————————————————————————————————————\n",
      "PRED 2: tom is making a paper airplane.\n",
      "REF  2: tom is making a paper airplane.\n",
      "————————————————————————————————————————————————————————————\n"
     ]
    },
    {
     "data": {
      "application/vnd.jupyter.widget-view+json": {
       "model_id": "123234deee614e30bed0684a13616d28",
       "version_major": 2,
       "version_minor": 0
      },
      "text/plain": [
       "EPOCH: 35/100:   0%|          | 0/536 [00:00<?, ?it/s]"
      ]
     },
     "metadata": {},
     "output_type": "display_data"
    },
    {
     "name": "stdout",
     "output_type": "stream",
     "text": [
      "Epoch 35 | Train Loss: 0.6642 | PPL: 1.9430\n",
      "Epoch 35 | Val Loss: 2.4863 | Val PPL: 12.0164\n",
      "Validation BLEU: 0.5000\n",
      "\n",
      " A comparison between sample predictions and references:\n",
      "PRED 1: our team won the game.\n",
      "REF  1: our team won the game.\n",
      "————————————————————————————————————————————————————————————\n",
      "PRED 2: you should've big child.\n",
      "REF  2: i'm sure the children are getting big.\n",
      "————————————————————————————————————————————————————————————\n"
     ]
    },
    {
     "data": {
      "application/vnd.jupyter.widget-view+json": {
       "model_id": "88844515ce36489eb1cc2e64fd6c7ff1",
       "version_major": 2,
       "version_minor": 0
      },
      "text/plain": [
       "EPOCH: 36/100:   0%|          | 0/536 [00:00<?, ?it/s]"
      ]
     },
     "metadata": {},
     "output_type": "display_data"
    },
    {
     "name": "stdout",
     "output_type": "stream",
     "text": [
      "Epoch 36 | Train Loss: 0.6252 | PPL: 1.8686\n",
      "Epoch 36 | Val Loss: 2.4692 | Val PPL: 11.8132\n",
      "Validation BLEU: 0.0182\n",
      "\n",
      " A comparison between sample predictions and references:\n",
      "PRED 1: you've cut my hair cut out once in the front of the bar.\n",
      "REF  1: i tried to cut my bangs myself, but i cut off too much.\n",
      "————————————————————————————————————————————————————————————\n",
      "PRED 2: i've run short of money.\n",
      "REF  2: our money ran out.\n",
      "————————————————————————————————————————————————————————————\n"
     ]
    },
    {
     "data": {
      "application/vnd.jupyter.widget-view+json": {
       "model_id": "d4caeae5e0ba4da29326ca302f28fb1f",
       "version_major": 2,
       "version_minor": 0
      },
      "text/plain": [
       "EPOCH: 37/100:   0%|          | 0/536 [00:00<?, ?it/s]"
      ]
     },
     "metadata": {},
     "output_type": "display_data"
    },
    {
     "name": "stdout",
     "output_type": "stream",
     "text": [
      "Epoch 37 | Train Loss: 0.5881 | PPL: 1.8006\n",
      "Epoch 37 | Val Loss: 2.4857 | Val PPL: 12.0091\n",
      "Validation BLEU: 0.2601\n",
      "\n",
      " A comparison between sample predictions and references:\n",
      "PRED 1: tom isn't poor.\n",
      "REF  1: tom is poor.\n",
      "————————————————————————————————————————————————————————————\n",
      "PRED 2: will you come to my party?\n",
      "REF  2: would you like to come to my party?\n",
      "————————————————————————————————————————————————————————————\n"
     ]
    },
    {
     "data": {
      "application/vnd.jupyter.widget-view+json": {
       "model_id": "a8f6483681024451b551762b2602eca1",
       "version_major": 2,
       "version_minor": 0
      },
      "text/plain": [
       "EPOCH: 38/100:   0%|          | 0/536 [00:00<?, ?it/s]"
      ]
     },
     "metadata": {},
     "output_type": "display_data"
    },
    {
     "name": "stdout",
     "output_type": "stream",
     "text": [
      "Epoch 38 | Train Loss: 0.5602 | PPL: 1.7509\n",
      "Epoch 38 | Val Loss: 2.4118 | Val PPL: 11.1542\n",
      "Validation BLEU: 0.1306\n",
      "\n",
      " A comparison between sample predictions and references:\n",
      "PRED 1: finally, she began my heart.\n",
      "REF  1: my wish has finally come true.\n",
      "————————————————————————————————————————————————————————————\n",
      "PRED 2: bring the laundry in the laundry.\n",
      "REF  2: bring in the laundry.\n",
      "————————————————————————————————————————————————————————————\n"
     ]
    },
    {
     "data": {
      "application/vnd.jupyter.widget-view+json": {
       "model_id": "a1a4b2d9a9f14bcfbfa6206e29e84bc0",
       "version_major": 2,
       "version_minor": 0
      },
      "text/plain": [
       "EPOCH: 39/100:   0%|          | 0/536 [00:00<?, ?it/s]"
      ]
     },
     "metadata": {},
     "output_type": "display_data"
    },
    {
     "name": "stdout",
     "output_type": "stream",
     "text": [
      "Epoch 39 | Train Loss: 0.5306 | PPL: 1.7000\n",
      "Epoch 39 | Val Loss: 2.4235 | Val PPL: 11.2856\n",
      "Validation BLEU: 0.0101\n",
      "\n",
      " A comparison between sample predictions and references:\n",
      "PRED 1: tom wasclclcled.\n",
      "REF  1: tom was away from his desk.\n",
      "————————————————————————————————————————————————————————————\n",
      "PRED 2: we will get the tag par ev evac arguing.\n",
      "REF  2: give him an inch and he'll take a yard.\n",
      "————————————————————————————————————————————————————————————\n"
     ]
    },
    {
     "data": {
      "application/vnd.jupyter.widget-view+json": {
       "model_id": "6536522efbe4467d819807423a66a810",
       "version_major": 2,
       "version_minor": 0
      },
      "text/plain": [
       "EPOCH: 40/100:   0%|          | 0/536 [00:00<?, ?it/s]"
      ]
     },
     "metadata": {},
     "output_type": "display_data"
    },
    {
     "name": "stdout",
     "output_type": "stream",
     "text": [
      "Epoch 40 | Train Loss: 0.5050 | PPL: 1.6570\n",
      "Epoch 40 | Val Loss: 2.4444 | Val PPL: 11.5232\n",
      "Validation BLEU: 0.1428\n",
      "\n",
      " A comparison between sample predictions and references:\n",
      "PRED 1: the lake was frozen to be freezing.\n",
      "REF  1: the lake was frozen.\n",
      "————————————————————————————————————————————————————————————\n",
      "PRED 2: tom is three years old now.\n",
      "REF  2: tom is now three years old.\n",
      "————————————————————————————————————————————————————————————\n",
      "Saved checkpoint: ./checkpoints\\epoch_40.pth\n"
     ]
    },
    {
     "data": {
      "application/vnd.jupyter.widget-view+json": {
       "model_id": "dbe1654565e349e280c16e405e675587",
       "version_major": 2,
       "version_minor": 0
      },
      "text/plain": [
       "EPOCH: 41/100:   0%|          | 0/536 [00:00<?, ?it/s]"
      ]
     },
     "metadata": {},
     "output_type": "display_data"
    },
    {
     "name": "stdout",
     "output_type": "stream",
     "text": [
      "Epoch 41 | Train Loss: 0.4842 | PPL: 1.6228\n",
      "Epoch 41 | Val Loss: 2.5890 | Val PPL: 13.3166\n",
      "Validation BLEU: 0.5676\n",
      "\n",
      " A comparison between sample predictions and references:\n",
      "PRED 1: our team won the game.\n",
      "REF  1: our team won the game.\n",
      "————————————————————————————————————————————————————————————\n",
      "PRED 2: what's your secret?\n",
      "REF  2: what's the secret?\n",
      "————————————————————————————————————————————————————————————\n"
     ]
    },
    {
     "data": {
      "application/vnd.jupyter.widget-view+json": {
       "model_id": "7f3f79ce6156470abfcded49b931cf16",
       "version_major": 2,
       "version_minor": 0
      },
      "text/plain": [
       "EPOCH: 42/100:   0%|          | 0/536 [00:00<?, ?it/s]"
      ]
     },
     "metadata": {},
     "output_type": "display_data"
    },
    {
     "name": "stdout",
     "output_type": "stream",
     "text": [
      "Epoch 42 | Train Loss: 0.4599 | PPL: 1.5839\n",
      "Epoch 42 | Val Loss: 2.4819 | Val PPL: 11.9645\n",
      "Validation BLEU: 0.0781\n",
      "\n",
      " A comparison between sample predictions and references:\n",
      "PRED 1: there are a lot ofiated in the box.\n",
      "REF  1: there is a doll in the box.\n",
      "————————————————————————————————————————————————————————————\n",
      "PRED 2: you can do anything.\n",
      "REF  2: anything is ok with me.\n",
      "————————————————————————————————————————————————————————————\n"
     ]
    },
    {
     "data": {
      "application/vnd.jupyter.widget-view+json": {
       "model_id": "02898e05d5da436ba78015f677938a37",
       "version_major": 2,
       "version_minor": 0
      },
      "text/plain": [
       "EPOCH: 43/100:   0%|          | 0/536 [00:00<?, ?it/s]"
      ]
     },
     "metadata": {},
     "output_type": "display_data"
    },
    {
     "name": "stdout",
     "output_type": "stream",
     "text": [
      "Epoch 43 | Train Loss: 0.4397 | PPL: 1.5522\n",
      "Epoch 43 | Val Loss: 2.5504 | Val PPL: 12.8126\n",
      "Validation BLEU: 0.0370\n",
      "\n",
      " A comparison between sample predictions and references:\n",
      "PRED 1: i'd really gentle my arm, so i wouldn't have the whole body.\n",
      "REF  1: i have a very sore arm where you hit me.\n",
      "————————————————————————————————————————————————————————————\n",
      "PRED 2: she got up with her eggs.\n",
      "REF  2: she ran away with the eggs.\n",
      "————————————————————————————————————————————————————————————\n"
     ]
    },
    {
     "data": {
      "application/vnd.jupyter.widget-view+json": {
       "model_id": "c40b373615cd4c9ba1d6c5769d01372d",
       "version_major": 2,
       "version_minor": 0
      },
      "text/plain": [
       "EPOCH: 44/100:   0%|          | 0/536 [00:00<?, ?it/s]"
      ]
     },
     "metadata": {},
     "output_type": "display_data"
    },
    {
     "name": "stdout",
     "output_type": "stream",
     "text": [
      "Epoch 44 | Train Loss: 0.4234 | PPL: 1.5271\n",
      "Epoch 44 | Val Loss: 2.3696 | Val PPL: 10.6928\n",
      "Validation BLEU: 0.1949\n",
      "\n",
      " A comparison between sample predictions and references:\n",
      "PRED 1: don't underestimate me.\n",
      "REF  1: you shouldn't underestimate me.\n",
      "————————————————————————————————————————————————————————————\n",
      "PRED 2: i can't speak french, too.\n",
      "REF  2: i can't speak french or english.\n",
      "————————————————————————————————————————————————————————————\n"
     ]
    },
    {
     "data": {
      "application/vnd.jupyter.widget-view+json": {
       "model_id": "5958954fb8b04bb88fe071350958c386",
       "version_major": 2,
       "version_minor": 0
      },
      "text/plain": [
       "EPOCH: 45/100:   0%|          | 0/536 [00:00<?, ?it/s]"
      ]
     },
     "metadata": {},
     "output_type": "display_data"
    },
    {
     "name": "stdout",
     "output_type": "stream",
     "text": [
      "Epoch 45 | Train Loss: 0.4068 | PPL: 1.5019\n",
      "Epoch 45 | Val Loss: 2.6322 | Val PPL: 13.9040\n",
      "Validation BLEU: 0.1581\n",
      "\n",
      " A comparison between sample predictions and references:\n",
      "PRED 1: she's dieting.\n",
      "REF  1: she's dieting.\n",
      "————————————————————————————————————————————————————————————\n",
      "PRED 2: you'll be a large man for you.\n",
      "REF  2: you always try to blame somebody else.\n",
      "————————————————————————————————————————————————————————————\n"
     ]
    },
    {
     "data": {
      "application/vnd.jupyter.widget-view+json": {
       "model_id": "903e85f3b3fe43638b40abb213b6ed61",
       "version_major": 2,
       "version_minor": 0
      },
      "text/plain": [
       "EPOCH: 46/100:   0%|          | 0/536 [00:00<?, ?it/s]"
      ]
     },
     "metadata": {},
     "output_type": "display_data"
    },
    {
     "name": "stdout",
     "output_type": "stream",
     "text": [
      "Epoch 46 | Train Loss: 0.3902 | PPL: 1.4772\n",
      "Epoch 46 | Val Loss: 2.6526 | Val PPL: 14.1910\n",
      "Validation BLEU: 0.7686\n",
      "\n",
      " A comparison between sample predictions and references:\n",
      "PRED 1: our team won the game.\n",
      "REF  1: our team won the game.\n",
      "————————————————————————————————————————————————————————————\n",
      "PRED 2: hurry up or you'll be late.\n",
      "REF  2: hurry up, or you'll be late.\n",
      "————————————————————————————————————————————————————————————\n"
     ]
    },
    {
     "data": {
      "application/vnd.jupyter.widget-view+json": {
       "model_id": "09b64b52f01e4e2597a535d833b2ce4d",
       "version_major": 2,
       "version_minor": 0
      },
      "text/plain": [
       "EPOCH: 47/100:   0%|          | 0/536 [00:00<?, ?it/s]"
      ]
     },
     "metadata": {},
     "output_type": "display_data"
    },
    {
     "name": "stdout",
     "output_type": "stream",
     "text": [
      "Epoch 47 | Train Loss: 0.3737 | PPL: 1.4532\n",
      "Epoch 47 | Val Loss: 2.4674 | Val PPL: 11.7914\n",
      "Validation BLEU: 0.5165\n",
      "\n",
      " A comparison between sample predictions and references:\n",
      "PRED 1: the quot us invited us to the king.\n",
      "REF  1: the queen was gracious enough to invite us.\n",
      "————————————————————————————————————————————————————————————\n",
      "PRED 2: i wanted to play tag.\n",
      "REF  2: i wanted to play tag.\n",
      "————————————————————————————————————————————————————————————\n"
     ]
    },
    {
     "data": {
      "application/vnd.jupyter.widget-view+json": {
       "model_id": "67b30e348af54f3a8f80c44515dd5735",
       "version_major": 2,
       "version_minor": 0
      },
      "text/plain": [
       "EPOCH: 48/100:   0%|          | 0/536 [00:00<?, ?it/s]"
      ]
     },
     "metadata": {},
     "output_type": "display_data"
    },
    {
     "name": "stdout",
     "output_type": "stream",
     "text": [
      "Epoch 48 | Train Loss: 0.3599 | PPL: 1.4332\n",
      "Epoch 48 | Val Loss: 2.5883 | Val PPL: 13.3065\n",
      "Validation BLEU: 0.0401\n",
      "\n",
      " A comparison between sample predictions and references:\n",
      "PRED 1: i'll pay the day before yesterday.\n",
      "REF  1: give him an inch and he'll take a yard.\n",
      "————————————————————————————————————————————————————————————\n",
      "PRED 2: this book is written.\n",
      "REF  2: this book could be useful to you.\n",
      "————————————————————————————————————————————————————————————\n"
     ]
    },
    {
     "data": {
      "application/vnd.jupyter.widget-view+json": {
       "model_id": "c783185e1f854beb846e0bd6f7ff887f",
       "version_major": 2,
       "version_minor": 0
      },
      "text/plain": [
       "EPOCH: 49/100:   0%|          | 0/536 [00:00<?, ?it/s]"
      ]
     },
     "metadata": {},
     "output_type": "display_data"
    },
    {
     "name": "stdout",
     "output_type": "stream",
     "text": [
      "Epoch 49 | Train Loss: 0.3500 | PPL: 1.4191\n",
      "Epoch 49 | Val Loss: 2.5468 | Val PPL: 12.7664\n",
      "Validation BLEU: 0.1946\n",
      "\n",
      " A comparison between sample predictions and references:\n",
      "PRED 1: how many siblings do you have?\n",
      "REF  1: how many brothers do you have?\n",
      "————————————————————————————————————————————————————————————\n",
      "PRED 2: we speaks french.\n",
      "REF  2: we speak french.\n",
      "————————————————————————————————————————————————————————————\n"
     ]
    },
    {
     "data": {
      "application/vnd.jupyter.widget-view+json": {
       "model_id": "eefc6d260b434d45b2c2c26ae09144f1",
       "version_major": 2,
       "version_minor": 0
      },
      "text/plain": [
       "EPOCH: 50/100:   0%|          | 0/536 [00:00<?, ?it/s]"
      ]
     },
     "metadata": {},
     "output_type": "display_data"
    },
    {
     "name": "stdout",
     "output_type": "stream",
     "text": [
      "Epoch 50 | Train Loss: 0.3357 | PPL: 1.3989\n",
      "Epoch 50 | Val Loss: 2.6132 | Val PPL: 13.6426\n",
      "Validation BLEU: 0.2375\n",
      "\n",
      " A comparison between sample predictions and references:\n",
      "PRED 1: he didn't say when he'll come back.\n",
      "REF  1: he didn't specify when he would return.\n",
      "————————————————————————————————————————————————————————————\n",
      "PRED 2: this coffee tastes good.\n",
      "REF  2: this coffee tastes bitter.\n",
      "————————————————————————————————————————————————————————————\n",
      "Saved checkpoint: ./checkpoints\\epoch_50.pth\n"
     ]
    },
    {
     "data": {
      "application/vnd.jupyter.widget-view+json": {
       "model_id": "8b27a87a52a3420fb0f65af0ff1789ec",
       "version_major": 2,
       "version_minor": 0
      },
      "text/plain": [
       "EPOCH: 51/100:   0%|          | 0/536 [00:00<?, ?it/s]"
      ]
     },
     "metadata": {},
     "output_type": "display_data"
    },
    {
     "name": "stdout",
     "output_type": "stream",
     "text": [
      "Epoch 51 | Train Loss: 0.3252 | PPL: 1.3842\n",
      "Epoch 51 | Val Loss: 2.5622 | Val PPL: 12.9639\n",
      "Validation BLEU: 0.5817\n",
      "\n",
      " A comparison between sample predictions and references:\n",
      "PRED 1: she ran away when she was away.\n",
      "REF  1: she ran away with the eggs.\n",
      "————————————————————————————————————————————————————————————\n",
      "PRED 2: she accused me of being a liar.\n",
      "REF  2: she accused me of being a liar.\n",
      "————————————————————————————————————————————————————————————\n"
     ]
    },
    {
     "data": {
      "application/vnd.jupyter.widget-view+json": {
       "model_id": "c635f59bfdf9498987ee44469c0bb595",
       "version_major": 2,
       "version_minor": 0
      },
      "text/plain": [
       "EPOCH: 52/100:   0%|          | 0/536 [00:00<?, ?it/s]"
      ]
     },
     "metadata": {},
     "output_type": "display_data"
    },
    {
     "name": "stdout",
     "output_type": "stream",
     "text": [
      "Epoch 52 | Train Loss: 0.3161 | PPL: 1.3718\n",
      "Epoch 52 | Val Loss: 2.6035 | Val PPL: 13.5113\n",
      "Validation BLEU: 0.1716\n",
      "\n",
      " A comparison between sample predictions and references:\n",
      "PRED 1: i'm interested in doing that.\n",
      "REF  1: i'm interested in that, too.\n",
      "————————————————————————————————————————————————————————————\n",
      "PRED 2: he didn't know when he'll be back.\n",
      "REF  2: he didn't specify when he would return.\n",
      "————————————————————————————————————————————————————————————\n"
     ]
    },
    {
     "data": {
      "application/vnd.jupyter.widget-view+json": {
       "model_id": "a5d8a984a7054df0b690f03675627535",
       "version_major": 2,
       "version_minor": 0
      },
      "text/plain": [
       "EPOCH: 53/100:   0%|          | 0/536 [00:00<?, ?it/s]"
      ]
     },
     "metadata": {},
     "output_type": "display_data"
    },
    {
     "name": "stdout",
     "output_type": "stream",
     "text": [
      "Epoch 53 | Train Loss: 0.3060 | PPL: 1.3580\n",
      "Epoch 53 | Val Loss: 2.6012 | Val PPL: 13.4797\n",
      "Validation BLEU: 0.0394\n",
      "\n",
      " A comparison between sample predictions and references:\n",
      "PRED 1: he's studying on the farmer.\n",
      "REF  1: he is studying agriculture.\n",
      "————————————————————————————————————————————————————————————\n",
      "PRED 2: more and more think i could think he loves more.\n",
      "REF  2: the more i think of it, the less i like it.\n",
      "————————————————————————————————————————————————————————————\n"
     ]
    },
    {
     "data": {
      "application/vnd.jupyter.widget-view+json": {
       "model_id": "4d988ba9838c4fc9a89a6af67d082e68",
       "version_major": 2,
       "version_minor": 0
      },
      "text/plain": [
       "EPOCH: 54/100:   0%|          | 0/536 [00:00<?, ?it/s]"
      ]
     },
     "metadata": {},
     "output_type": "display_data"
    },
    {
     "name": "stdout",
     "output_type": "stream",
     "text": [
      "Epoch 54 | Train Loss: 0.2969 | PPL: 1.3456\n",
      "Epoch 54 | Val Loss: 2.7002 | Val PPL: 14.8828\n",
      "Validation BLEU: 0.5919\n",
      "\n",
      " A comparison between sample predictions and references:\n",
      "PRED 1: there are someiated in the box.\n",
      "REF  1: there is a doll in the box.\n",
      "————————————————————————————————————————————————————————————\n",
      "PRED 2: i thought you wanted tom to marry you.\n",
      "REF  2: i thought you wanted tom to marry you.\n",
      "————————————————————————————————————————————————————————————\n"
     ]
    },
    {
     "data": {
      "application/vnd.jupyter.widget-view+json": {
       "model_id": "257ddc027f664bf98b9e2a7688972978",
       "version_major": 2,
       "version_minor": 0
      },
      "text/plain": [
       "EPOCH: 55/100:   0%|          | 0/536 [00:00<?, ?it/s]"
      ]
     },
     "metadata": {},
     "output_type": "display_data"
    },
    {
     "name": "stdout",
     "output_type": "stream",
     "text": [
      "Epoch 55 | Train Loss: 0.2902 | PPL: 1.3367\n",
      "Epoch 55 | Val Loss: 2.6362 | Val PPL: 13.9603\n",
      "Validation BLEU: 0.0466\n",
      "\n",
      " A comparison between sample predictions and references:\n",
      "PRED 1: calm down.\n",
      "REF  1: please relax.\n",
      "————————————————————————————————————————————————————————————\n",
      "PRED 2: when the old man became very young, he wasoo visited me.\n",
      "REF  2: the old man often looks back on his youth.\n",
      "————————————————————————————————————————————————————————————\n"
     ]
    },
    {
     "data": {
      "application/vnd.jupyter.widget-view+json": {
       "model_id": "787de6aa652d4cf981eff9d7cd46efaf",
       "version_major": 2,
       "version_minor": 0
      },
      "text/plain": [
       "EPOCH: 56/100:   0%|          | 0/536 [00:00<?, ?it/s]"
      ]
     },
     "metadata": {},
     "output_type": "display_data"
    },
    {
     "name": "stdout",
     "output_type": "stream",
     "text": [
      "Epoch 56 | Train Loss: 0.2824 | PPL: 1.3264\n",
      "Epoch 56 | Val Loss: 2.7425 | Val PPL: 15.5261\n",
      "Validation BLEU: 0.1270\n",
      "\n",
      " A comparison between sample predictions and references:\n",
      "PRED 1: it's a long time to make it's going to rain.\n",
      "REF  1: rice is grown in rainy regions.\n",
      "————————————————————————————————————————————————————————————\n",
      "PRED 2: i'll take back everything i said.\n",
      "REF  2: i'll take back what i said.\n",
      "————————————————————————————————————————————————————————————\n"
     ]
    },
    {
     "data": {
      "application/vnd.jupyter.widget-view+json": {
       "model_id": "e70b64735cdf4c32a6335292c1328eb7",
       "version_major": 2,
       "version_minor": 0
      },
      "text/plain": [
       "EPOCH: 57/100:   0%|          | 0/536 [00:00<?, ?it/s]"
      ]
     },
     "metadata": {},
     "output_type": "display_data"
    },
    {
     "name": "stdout",
     "output_type": "stream",
     "text": [
      "Epoch 57 | Train Loss: 0.2757 | PPL: 1.3175\n",
      "Epoch 57 | Val Loss: 2.6260 | Val PPL: 13.8185\n",
      "Validation BLEU: 0.1064\n",
      "\n",
      " A comparison between sample predictions and references:\n",
      "PRED 1: this house is my aunt's.\n",
      "REF  1: this house belongs to my uncle.\n",
      "————————————————————————————————————————————————————————————\n",
      "PRED 2: more and more than i think it, the more i hate less i think.\n",
      "REF  2: the more i think of it, the less i like it.\n",
      "————————————————————————————————————————————————————————————\n"
     ]
    },
    {
     "data": {
      "application/vnd.jupyter.widget-view+json": {
       "model_id": "fb68f52b3b7a43d6a19f6447b38900db",
       "version_major": 2,
       "version_minor": 0
      },
      "text/plain": [
       "EPOCH: 58/100:   0%|          | 0/536 [00:00<?, ?it/s]"
      ]
     },
     "metadata": {},
     "output_type": "display_data"
    },
    {
     "name": "stdout",
     "output_type": "stream",
     "text": [
      "Epoch 58 | Train Loss: 0.2671 | PPL: 1.3062\n",
      "Epoch 58 | Val Loss: 2.6965 | Val PPL: 14.8271\n",
      "Validation BLEU: 0.6330\n",
      "\n",
      " A comparison between sample predictions and references:\n",
      "PRED 1: the girl was kind enough to show me the way to the museum.\n",
      "REF  1: the girl was kind enough to show me the way to the museum.\n",
      "————————————————————————————————————————————————————————————\n",
      "PRED 2: one can't live without water.\n",
      "REF  2: you couldn't live without water.\n",
      "————————————————————————————————————————————————————————————\n"
     ]
    },
    {
     "data": {
      "application/vnd.jupyter.widget-view+json": {
       "model_id": "dd9cecdedb5e4953b03c3ee86f5aa804",
       "version_major": 2,
       "version_minor": 0
      },
      "text/plain": [
       "EPOCH: 59/100:   0%|          | 0/536 [00:00<?, ?it/s]"
      ]
     },
     "metadata": {},
     "output_type": "display_data"
    },
    {
     "name": "stdout",
     "output_type": "stream",
     "text": [
      "Epoch 59 | Train Loss: 0.2613 | PPL: 1.2987\n",
      "Epoch 59 | Val Loss: 2.5941 | Val PPL: 13.3847\n",
      "Validation BLEU: 0.0325\n",
      "\n",
      " A comparison between sample predictions and references:\n",
      "PRED 1: did you enjoy it?\n",
      "REF  1: was it interesting?\n",
      "————————————————————————————————————————————————————————————\n",
      "PRED 2: i think we should leave early this quickly.\n",
      "REF  2: i think that we'd better leave early.\n",
      "————————————————————————————————————————————————————————————\n"
     ]
    },
    {
     "data": {
      "application/vnd.jupyter.widget-view+json": {
       "model_id": "36c33e4da3f940b2b03457549859273f",
       "version_major": 2,
       "version_minor": 0
      },
      "text/plain": [
       "EPOCH: 60/100:   0%|          | 0/536 [00:00<?, ?it/s]"
      ]
     },
     "metadata": {},
     "output_type": "display_data"
    },
    {
     "name": "stdout",
     "output_type": "stream",
     "text": [
      "Epoch 60 | Train Loss: 0.2551 | PPL: 1.2906\n",
      "Epoch 60 | Val Loss: 2.6994 | Val PPL: 14.8704\n",
      "Validation BLEU: 0.7812\n",
      "\n",
      " A comparison between sample predictions and references:\n",
      "PRED 1: she has been busy since yesterday.\n",
      "REF  1: she has been busy since yesterday.\n",
      "————————————————————————————————————————————————————————————\n",
      "PRED 2: today is saturday.\n",
      "REF  2: today is saturday.\n",
      "————————————————————————————————————————————————————————————\n",
      "Saved checkpoint: ./checkpoints\\epoch_60.pth\n"
     ]
    },
    {
     "data": {
      "application/vnd.jupyter.widget-view+json": {
       "model_id": "bf40151cd68c402fb5ec7f18a3c73743",
       "version_major": 2,
       "version_minor": 0
      },
      "text/plain": [
       "EPOCH: 61/100:   0%|          | 0/536 [00:00<?, ?it/s]"
      ]
     },
     "metadata": {},
     "output_type": "display_data"
    },
    {
     "name": "stdout",
     "output_type": "stream",
     "text": [
      "Epoch 61 | Train Loss: 0.2502 | PPL: 1.2843\n",
      "Epoch 61 | Val Loss: 2.5965 | Val PPL: 13.4163\n",
      "Validation BLEU: 0.2937\n",
      "\n",
      " A comparison between sample predictions and references:\n",
      "PRED 1: tom's illness resulted from eating too much.\n",
      "REF  1: the reason tom got sick was because he overate.\n",
      "————————————————————————————————————————————————————————————\n",
      "PRED 2: he was absent from school because he was sick.\n",
      "REF  2: he was absent from school because of illness.\n",
      "————————————————————————————————————————————————————————————\n"
     ]
    },
    {
     "data": {
      "application/vnd.jupyter.widget-view+json": {
       "model_id": "33a0d0a72d704965924b728d095ce33c",
       "version_major": 2,
       "version_minor": 0
      },
      "text/plain": [
       "EPOCH: 62/100:   0%|          | 0/536 [00:00<?, ?it/s]"
      ]
     },
     "metadata": {},
     "output_type": "display_data"
    },
    {
     "name": "stdout",
     "output_type": "stream",
     "text": [
      "Epoch 62 | Train Loss: 0.2452 | PPL: 1.2779\n",
      "Epoch 62 | Val Loss: 2.5491 | Val PPL: 12.7958\n",
      "Validation BLEU: 0.3033\n",
      "\n",
      " A comparison between sample predictions and references:\n",
      "PRED 1: today is saturday.\n",
      "REF  1: today is saturday.\n",
      "————————————————————————————————————————————————————————————\n",
      "PRED 2: this is just over an hour.\n",
      "REF  2: i've been laughing at that for over an hour now.\n",
      "————————————————————————————————————————————————————————————\n"
     ]
    },
    {
     "data": {
      "application/vnd.jupyter.widget-view+json": {
       "model_id": "3cc4fb5b074e40e3baf2551c115cb48d",
       "version_major": 2,
       "version_minor": 0
      },
      "text/plain": [
       "EPOCH: 63/100:   0%|          | 0/536 [00:00<?, ?it/s]"
      ]
     },
     "metadata": {},
     "output_type": "display_data"
    },
    {
     "name": "stdout",
     "output_type": "stream",
     "text": [
      "Epoch 63 | Train Loss: 0.2384 | PPL: 1.2693\n",
      "Epoch 63 | Val Loss: 2.7330 | Val PPL: 15.3789\n",
      "Validation BLEU: 0.1009\n",
      "\n",
      " A comparison between sample predictions and references:\n",
      "PRED 1: i studied all night long.\n",
      "REF  1: i was up all night studying.\n",
      "————————————————————————————————————————————————————————————\n",
      "PRED 2: he didn't know when he was back.\n",
      "REF  2: he didn't specify when he would return.\n",
      "————————————————————————————————————————————————————————————\n"
     ]
    },
    {
     "data": {
      "application/vnd.jupyter.widget-view+json": {
       "model_id": "35b0a7e9bbe848b286103328b1e89ae2",
       "version_major": 2,
       "version_minor": 0
      },
      "text/plain": [
       "EPOCH: 64/100:   0%|          | 0/536 [00:00<?, ?it/s]"
      ]
     },
     "metadata": {},
     "output_type": "display_data"
    },
    {
     "name": "stdout",
     "output_type": "stream",
     "text": [
      "Epoch 64 | Train Loss: 0.2334 | PPL: 1.2629\n",
      "Epoch 64 | Val Loss: 2.6341 | Val PPL: 13.9308\n",
      "Validation BLEU: 0.0909\n",
      "\n",
      " A comparison between sample predictions and references:\n",
      "PRED 1: i'm sorry, but i have a pain in my arm.\n",
      "REF  1: i have a very sore arm where you hit me.\n",
      "————————————————————————————————————————————————————————————\n",
      "PRED 2: it seems that the train is broken.\n",
      "REF  2: the train seems to be late.\n",
      "————————————————————————————————————————————————————————————\n"
     ]
    },
    {
     "data": {
      "application/vnd.jupyter.widget-view+json": {
       "model_id": "1911317f142c4b0480c49ddcd2275c86",
       "version_major": 2,
       "version_minor": 0
      },
      "text/plain": [
       "EPOCH: 65/100:   0%|          | 0/536 [00:00<?, ?it/s]"
      ]
     },
     "metadata": {},
     "output_type": "display_data"
    },
    {
     "name": "stdout",
     "output_type": "stream",
     "text": [
      "Epoch 65 | Train Loss: 0.2294 | PPL: 1.2578\n",
      "Epoch 65 | Val Loss: 2.6389 | Val PPL: 13.9978\n",
      "Validation BLEU: 0.0214\n",
      "\n",
      " A comparison between sample predictions and references:\n",
      "PRED 1: i've run short of money.\n",
      "REF  1: our money ran out.\n",
      "————————————————————————————————————————————————————————————\n",
      "PRED 2: it seems that the crowded is not for you are very crowded.\n",
      "REF  2: it seems less crowded during the week.\n",
      "————————————————————————————————————————————————————————————\n"
     ]
    },
    {
     "data": {
      "application/vnd.jupyter.widget-view+json": {
       "model_id": "716995bf85f743c29cbf96fbebf3c84f",
       "version_major": 2,
       "version_minor": 0
      },
      "text/plain": [
       "EPOCH: 66/100:   0%|          | 0/536 [00:00<?, ?it/s]"
      ]
     },
     "metadata": {},
     "output_type": "display_data"
    },
    {
     "name": "stdout",
     "output_type": "stream",
     "text": [
      "Epoch 66 | Train Loss: 0.2250 | PPL: 1.2523\n",
      "Epoch 66 | Val Loss: 2.6347 | Val PPL: 13.9388\n",
      "Validation BLEU: 0.0173\n",
      "\n",
      " A comparison between sample predictions and references:\n",
      "PRED 1: the big boy has grown up.\n",
      "REF  1: i'm sure the children are getting big.\n",
      "————————————————————————————————————————————————————————————\n",
      "PRED 2: i try to pay the candy by one day.\n",
      "REF  2: give him an inch and he'll take a yard.\n",
      "————————————————————————————————————————————————————————————\n"
     ]
    },
    {
     "data": {
      "application/vnd.jupyter.widget-view+json": {
       "model_id": "9b601797974343e9bedccee2f6918332",
       "version_major": 2,
       "version_minor": 0
      },
      "text/plain": [
       "EPOCH: 67/100:   0%|          | 0/536 [00:00<?, ?it/s]"
      ]
     },
     "metadata": {},
     "output_type": "display_data"
    },
    {
     "name": "stdout",
     "output_type": "stream",
     "text": [
      "Epoch 67 | Train Loss: 0.2206 | PPL: 1.2468\n",
      "Epoch 67 | Val Loss: 2.6344 | Val PPL: 13.9343\n",
      "Validation BLEU: 0.0669\n",
      "\n",
      " A comparison between sample predictions and references:\n",
      "PRED 1: fallen rocks blocked the road.\n",
      "REF  1: the road was blocked by fallen rocks.\n",
      "————————————————————————————————————————————————————————————\n",
      "PRED 2: his story is really not mine.\n",
      "REF  2: his story must be true.\n",
      "————————————————————————————————————————————————————————————\n"
     ]
    },
    {
     "data": {
      "application/vnd.jupyter.widget-view+json": {
       "model_id": "06d85ff95b12430bbb3bc5e57ea18039",
       "version_major": 2,
       "version_minor": 0
      },
      "text/plain": [
       "EPOCH: 68/100:   0%|          | 0/536 [00:00<?, ?it/s]"
      ]
     },
     "metadata": {},
     "output_type": "display_data"
    },
    {
     "name": "stdout",
     "output_type": "stream",
     "text": [
      "Epoch 68 | Train Loss: 0.2173 | PPL: 1.2427\n",
      "Epoch 68 | Val Loss: 2.7711 | Val PPL: 15.9755\n",
      "Validation BLEU: 0.0736\n",
      "\n",
      " A comparison between sample predictions and references:\n",
      "PRED 1: i went home and was at work.\n",
      "REF  1: having finished my work, i went home.\n",
      "————————————————————————————————————————————————————————————\n",
      "PRED 2: i think i should leave early here.\n",
      "REF  2: i think that we'd better leave early.\n",
      "————————————————————————————————————————————————————————————\n"
     ]
    },
    {
     "data": {
      "application/vnd.jupyter.widget-view+json": {
       "model_id": "5698c75c3a8440688f6ecd165fd76a01",
       "version_major": 2,
       "version_minor": 0
      },
      "text/plain": [
       "EPOCH: 69/100:   0%|          | 0/536 [00:00<?, ?it/s]"
      ]
     },
     "metadata": {},
     "output_type": "display_data"
    },
    {
     "name": "stdout",
     "output_type": "stream",
     "text": [
      "Epoch 69 | Train Loss: 0.2148 | PPL: 1.2397\n",
      "Epoch 69 | Val Loss: 2.6992 | Val PPL: 14.8684\n",
      "Validation BLEU: 0.3344\n",
      "\n",
      " A comparison between sample predictions and references:\n",
      "PRED 1: i'm going to the party while i'll have a web page.\n",
      "REF  1: for further information, see page 1 ⁇ .\n",
      "————————————————————————————————————————————————————————————\n",
      "PRED 2: what made her do that.\n",
      "REF  2: what made her do that?\n",
      "————————————————————————————————————————————————————————————\n"
     ]
    },
    {
     "data": {
      "application/vnd.jupyter.widget-view+json": {
       "model_id": "c62765b01ea24451bb8679e0d693dbda",
       "version_major": 2,
       "version_minor": 0
      },
      "text/plain": [
       "EPOCH: 70/100:   0%|          | 0/536 [00:00<?, ?it/s]"
      ]
     },
     "metadata": {},
     "output_type": "display_data"
    },
    {
     "name": "stdout",
     "output_type": "stream",
     "text": [
      "Epoch 70 | Train Loss: 0.2112 | PPL: 1.2352\n",
      "Epoch 70 | Val Loss: 2.5724 | Val PPL: 13.0968\n",
      "Validation BLEU: 0.0953\n",
      "\n",
      " A comparison between sample predictions and references:\n",
      "PRED 1: don't smoke here.\n",
      "REF  1: smoking is not permitted here.\n",
      "————————————————————————————————————————————————————————————\n",
      "PRED 2: it's fine with me.\n",
      "REF  2: anything is ok with me.\n",
      "————————————————————————————————————————————————————————————\n",
      "Saved checkpoint: ./checkpoints\\epoch_70.pth\n"
     ]
    },
    {
     "data": {
      "application/vnd.jupyter.widget-view+json": {
       "model_id": "62d47bc4076b4d6d8a5ca5144e546c25",
       "version_major": 2,
       "version_minor": 0
      },
      "text/plain": [
       "EPOCH: 71/100:   0%|          | 0/536 [00:00<?, ?it/s]"
      ]
     },
     "metadata": {},
     "output_type": "display_data"
    },
    {
     "name": "stdout",
     "output_type": "stream",
     "text": [
      "Epoch 71 | Train Loss: 0.2059 | PPL: 1.2286\n",
      "Epoch 71 | Val Loss: 2.7098 | Val PPL: 15.0262\n",
      "Validation BLEU: 0.4115\n",
      "\n",
      " A comparison between sample predictions and references:\n",
      "PRED 1: you can't live without water.\n",
      "REF  1: you couldn't live without water.\n",
      "————————————————————————————————————————————————————————————\n",
      "PRED 2: stay calm and do your best.\n",
      "REF  2: stay calm, and do your best.\n",
      "————————————————————————————————————————————————————————————\n"
     ]
    },
    {
     "data": {
      "application/vnd.jupyter.widget-view+json": {
       "model_id": "c9501def80ea4d6e8b0af969861db8bf",
       "version_major": 2,
       "version_minor": 0
      },
      "text/plain": [
       "EPOCH: 72/100:   0%|          | 0/536 [00:00<?, ?it/s]"
      ]
     },
     "metadata": {},
     "output_type": "display_data"
    },
    {
     "name": "stdout",
     "output_type": "stream",
     "text": [
      "Epoch 72 | Train Loss: 0.2032 | PPL: 1.2254\n",
      "Epoch 72 | Val Loss: 2.6959 | Val PPL: 14.8194\n",
      "Validation BLEU: 0.6270\n",
      "\n",
      " A comparison between sample predictions and references:\n",
      "PRED 1: where did you buy this car?\n",
      "REF  1: where did you buy this car?\n",
      "————————————————————————————————————————————————————————————\n",
      "PRED 2: he didn't show up after all.\n",
      "REF  2: he didn't turn up after all.\n",
      "————————————————————————————————————————————————————————————\n"
     ]
    },
    {
     "data": {
      "application/vnd.jupyter.widget-view+json": {
       "model_id": "75269caca4f043f18b6d3c2f1a2c0e8a",
       "version_major": 2,
       "version_minor": 0
      },
      "text/plain": [
       "EPOCH: 73/100:   0%|          | 0/536 [00:00<?, ?it/s]"
      ]
     },
     "metadata": {},
     "output_type": "display_data"
    },
    {
     "name": "stdout",
     "output_type": "stream",
     "text": [
      "Epoch 73 | Train Loss: 0.2011 | PPL: 1.2227\n",
      "Epoch 73 | Val Loss: 2.7966 | Val PPL: 16.3886\n",
      "Validation BLEU: 0.2930\n",
      "\n",
      " A comparison between sample predictions and references:\n",
      "PRED 1: stay calm and do your best.\n",
      "REF  1: stay calm, and do your best.\n",
      "————————————————————————————————————————————————————————————\n",
      "PRED 2: give me a politician.\n",
      "REF  2: i have something to give you.\n",
      "————————————————————————————————————————————————————————————\n"
     ]
    },
    {
     "data": {
      "application/vnd.jupyter.widget-view+json": {
       "model_id": "9592b668d1cb4d75822988b79b4c1bd0",
       "version_major": 2,
       "version_minor": 0
      },
      "text/plain": [
       "EPOCH: 74/100:   0%|          | 0/536 [00:00<?, ?it/s]"
      ]
     },
     "metadata": {},
     "output_type": "display_data"
    },
    {
     "name": "stdout",
     "output_type": "stream",
     "text": [
      "Epoch 74 | Train Loss: 0.1977 | PPL: 1.2186\n",
      "Epoch 74 | Val Loss: 2.6973 | Val PPL: 14.8396\n",
      "Validation BLEU: 0.3693\n",
      "\n",
      " A comparison between sample predictions and references:\n",
      "PRED 1: he wasn't able to press his music.\n",
      "REF  1: because some urgent business came up, he wasn't able to go to the concert.\n",
      "————————————————————————————————————————————————————————————\n",
      "PRED 2: he was absent from school because he was sick.\n",
      "REF  2: he was absent from school because of illness.\n",
      "————————————————————————————————————————————————————————————\n"
     ]
    },
    {
     "data": {
      "application/vnd.jupyter.widget-view+json": {
       "model_id": "7c9f8d4a611c408eb594d1e1cf510bee",
       "version_major": 2,
       "version_minor": 0
      },
      "text/plain": [
       "EPOCH: 75/100:   0%|          | 0/536 [00:00<?, ?it/s]"
      ]
     },
     "metadata": {},
     "output_type": "display_data"
    },
    {
     "name": "stdout",
     "output_type": "stream",
     "text": [
      "Epoch 75 | Train Loss: 0.1946 | PPL: 1.2149\n",
      "Epoch 75 | Val Loss: 2.7321 | Val PPL: 15.3647\n",
      "Validation BLEU: 0.0204\n",
      "\n",
      " A comparison between sample predictions and references:\n",
      "PRED 1: i'm still insects.\n",
      "REF  1: there are insects everywhere.\n",
      "————————————————————————————————————————————————————————————\n",
      "PRED 2: he's studying family of a farmer.\n",
      "REF  2: he is studying agriculture.\n",
      "————————————————————————————————————————————————————————————\n"
     ]
    },
    {
     "data": {
      "application/vnd.jupyter.widget-view+json": {
       "model_id": "b9f7ec377c1046afb786305e86d6da2d",
       "version_major": 2,
       "version_minor": 0
      },
      "text/plain": [
       "EPOCH: 76/100:   0%|          | 0/536 [00:00<?, ?it/s]"
      ]
     },
     "metadata": {},
     "output_type": "display_data"
    },
    {
     "name": "stdout",
     "output_type": "stream",
     "text": [
      "Epoch 76 | Train Loss: 0.1901 | PPL: 1.2094\n",
      "Epoch 76 | Val Loss: 2.7079 | Val PPL: 14.9982\n",
      "Validation BLEU: 0.2891\n",
      "\n",
      " A comparison between sample predictions and references:\n",
      "PRED 1: stay calm and do your best.\n",
      "REF  1: stay calm, and do your best.\n",
      "————————————————————————————————————————————————————————————\n",
      "PRED 2: tom is bad at multaf sleep.\n",
      "REF  2: tom isn't good with basic arithmetic.\n",
      "————————————————————————————————————————————————————————————\n"
     ]
    },
    {
     "data": {
      "application/vnd.jupyter.widget-view+json": {
       "model_id": "8129b8fe67ab4d39b4062980eb7e4e5f",
       "version_major": 2,
       "version_minor": 0
      },
      "text/plain": [
       "EPOCH: 77/100:   0%|          | 0/536 [00:00<?, ?it/s]"
      ]
     },
     "metadata": {},
     "output_type": "display_data"
    },
    {
     "name": "stdout",
     "output_type": "stream",
     "text": [
      "Epoch 77 | Train Loss: 0.1870 | PPL: 1.2056\n",
      "Epoch 77 | Val Loss: 2.6368 | Val PPL: 13.9690\n",
      "Validation BLEU: 0.4784\n",
      "\n",
      " A comparison between sample predictions and references:\n",
      "PRED 1: today is saturday.\n",
      "REF  1: today is saturday.\n",
      "————————————————————————————————————————————————————————————\n",
      "PRED 2: he is more patient than his brother.\n",
      "REF  2: his brother is more patient than he is.\n",
      "————————————————————————————————————————————————————————————\n"
     ]
    },
    {
     "data": {
      "application/vnd.jupyter.widget-view+json": {
       "model_id": "3f4dd5da9e884b0f9827d7322cf038e8",
       "version_major": 2,
       "version_minor": 0
      },
      "text/plain": [
       "EPOCH: 78/100:   0%|          | 0/536 [00:00<?, ?it/s]"
      ]
     },
     "metadata": {},
     "output_type": "display_data"
    },
    {
     "name": "stdout",
     "output_type": "stream",
     "text": [
      "Epoch 78 | Train Loss: 0.1857 | PPL: 1.2041\n",
      "Epoch 78 | Val Loss: 2.7042 | Val PPL: 14.9418\n",
      "Validation BLEU: 0.7151\n",
      "\n",
      " A comparison between sample predictions and references:\n",
      "PRED 1: do you have a cell phone, tom?\n",
      "REF  1: do you have a cell phone, tom?\n",
      "————————————————————————————————————————————————————————————\n",
      "PRED 2: do you think that would help?\n",
      "REF  2: do you think that will be useful?\n",
      "————————————————————————————————————————————————————————————\n"
     ]
    },
    {
     "data": {
      "application/vnd.jupyter.widget-view+json": {
       "model_id": "bda38a4b8b3248039b9eb1cd1354393a",
       "version_major": 2,
       "version_minor": 0
      },
      "text/plain": [
       "EPOCH: 79/100:   0%|          | 0/536 [00:00<?, ?it/s]"
      ]
     },
     "metadata": {},
     "output_type": "display_data"
    },
    {
     "name": "stdout",
     "output_type": "stream",
     "text": [
      "Epoch 79 | Train Loss: 0.1825 | PPL: 1.2003\n",
      "Epoch 79 | Val Loss: 2.6584 | Val PPL: 14.2738\n",
      "Validation BLEU: 0.0714\n",
      "\n",
      " A comparison between sample predictions and references:\n",
      "PRED 1: you should go by train.\n",
      "REF  1: it would be better if you went by train.\n",
      "————————————————————————————————————————————————————————————\n",
      "PRED 2: tom bought a lot of bread.\n",
      "REF  2: tom bought rolls.\n",
      "————————————————————————————————————————————————————————————\n"
     ]
    },
    {
     "data": {
      "application/vnd.jupyter.widget-view+json": {
       "model_id": "10d6fc5dd65e4bdeaa91d658f69e678b",
       "version_major": 2,
       "version_minor": 0
      },
      "text/plain": [
       "EPOCH: 80/100:   0%|          | 0/536 [00:00<?, ?it/s]"
      ]
     },
     "metadata": {},
     "output_type": "display_data"
    },
    {
     "name": "stdout",
     "output_type": "stream",
     "text": [
      "Epoch 80 | Train Loss: 0.1803 | PPL: 1.1975\n",
      "Epoch 80 | Val Loss: 2.7174 | Val PPL: 15.1410\n",
      "Validation BLEU: 0.3190\n",
      "\n",
      " A comparison between sample predictions and references:\n",
      "PRED 1: i was impolite.\n",
      "REF  1: i was rude.\n",
      "————————————————————————————————————————————————————————————\n",
      "PRED 2: he is my life.\n",
      "REF  2: he is my classmate.\n",
      "————————————————————————————————————————————————————————————\n",
      "Saved checkpoint: ./checkpoints\\epoch_80.pth\n"
     ]
    },
    {
     "data": {
      "application/vnd.jupyter.widget-view+json": {
       "model_id": "2e4596ed14f74fd6a6f6175cb4a4eace",
       "version_major": 2,
       "version_minor": 0
      },
      "text/plain": [
       "EPOCH: 81/100:   0%|          | 0/536 [00:00<?, ?it/s]"
      ]
     },
     "metadata": {},
     "output_type": "display_data"
    },
    {
     "name": "stdout",
     "output_type": "stream",
     "text": [
      "Epoch 81 | Train Loss: 0.1773 | PPL: 1.1940\n",
      "Epoch 81 | Val Loss: 2.7123 | Val PPL: 15.0640\n",
      "Validation BLEU: 0.6988\n",
      "\n",
      " A comparison between sample predictions and references:\n",
      "PRED 1: i was absorbed in reading a novel.\n",
      "REF  1: i was absorbed in reading a novel.\n",
      "————————————————————————————————————————————————————————————\n",
      "PRED 2: tom is a zebra.\n",
      "REF  2: tom is a magician.\n",
      "————————————————————————————————————————————————————————————\n"
     ]
    },
    {
     "data": {
      "application/vnd.jupyter.widget-view+json": {
       "model_id": "9aca7a2c7616433ba5709c739e9ec799",
       "version_major": 2,
       "version_minor": 0
      },
      "text/plain": [
       "EPOCH: 82/100:   0%|          | 0/536 [00:00<?, ?it/s]"
      ]
     },
     "metadata": {},
     "output_type": "display_data"
    },
    {
     "name": "stdout",
     "output_type": "stream",
     "text": [
      "Epoch 82 | Train Loss: 0.1752 | PPL: 1.1915\n",
      "Epoch 82 | Val Loss: 2.7533 | Val PPL: 15.6946\n",
      "Validation BLEU: 0.1582\n",
      "\n",
      " A comparison between sample predictions and references:\n",
      "PRED 1: it's really cool here.\n",
      "REF  1: it's nice and cool here.\n",
      "————————————————————————————————————————————————————————————\n",
      "PRED 2: where is the cafeteria?\n",
      "REF  2: where's the cafeteria?\n",
      "————————————————————————————————————————————————————————————\n"
     ]
    },
    {
     "data": {
      "application/vnd.jupyter.widget-view+json": {
       "model_id": "a4793d4d78d14efebdc13fc609c78d24",
       "version_major": 2,
       "version_minor": 0
      },
      "text/plain": [
       "EPOCH: 83/100:   0%|          | 0/536 [00:00<?, ?it/s]"
      ]
     },
     "metadata": {},
     "output_type": "display_data"
    },
    {
     "name": "stdout",
     "output_type": "stream",
     "text": [
      "Epoch 83 | Train Loss: 0.1740 | PPL: 1.1900\n",
      "Epoch 83 | Val Loss: 2.8191 | Val PPL: 16.7624\n",
      "Validation BLEU: 0.9046\n",
      "\n",
      " A comparison between sample predictions and references:\n",
      "PRED 1: she has been busy since yesterday.\n",
      "REF  1: she has been busy since yesterday.\n",
      "————————————————————————————————————————————————————————————\n",
      "PRED 2: do you wash your hands before eating?\n",
      "REF  2: do you wash your hands before meals?\n",
      "————————————————————————————————————————————————————————————\n"
     ]
    },
    {
     "data": {
      "application/vnd.jupyter.widget-view+json": {
       "model_id": "045b4f4906194951b42b6ae9046961c9",
       "version_major": 2,
       "version_minor": 0
      },
      "text/plain": [
       "EPOCH: 84/100:   0%|          | 0/536 [00:00<?, ?it/s]"
      ]
     },
     "metadata": {},
     "output_type": "display_data"
    },
    {
     "name": "stdout",
     "output_type": "stream",
     "text": [
      "Epoch 84 | Train Loss: 0.1711 | PPL: 1.1866\n",
      "Epoch 84 | Val Loss: 2.6745 | Val PPL: 14.5050\n",
      "Validation BLEU: 0.0841\n",
      "\n",
      " A comparison between sample predictions and references:\n",
      "PRED 1: the weather is good today.\n",
      "REF  1: it's nice today.\n",
      "————————————————————————————————————————————————————————————\n",
      "PRED 2: we've been laughed for over an hour.\n",
      "REF  2: i've been laughing at that for over an hour now.\n",
      "————————————————————————————————————————————————————————————\n"
     ]
    },
    {
     "data": {
      "application/vnd.jupyter.widget-view+json": {
       "model_id": "2e6c84f9d7d8405bab4792ea929aba3f",
       "version_major": 2,
       "version_minor": 0
      },
      "text/plain": [
       "EPOCH: 85/100:   0%|          | 0/536 [00:00<?, ?it/s]"
      ]
     },
     "metadata": {},
     "output_type": "display_data"
    },
    {
     "name": "stdout",
     "output_type": "stream",
     "text": [
      "Epoch 85 | Train Loss: 0.1694 | PPL: 1.1846\n",
      "Epoch 85 | Val Loss: 2.7582 | Val PPL: 15.7717\n",
      "Validation BLEU: 0.0695\n",
      "\n",
      " A comparison between sample predictions and references:\n",
      "PRED 1: what's that strange noise?\n",
      "REF  1: i wonder what that strange sound is.\n",
      "————————————————————————————————————————————————————————————\n",
      "PRED 2: i went home and went home last train.\n",
      "REF  2: having finished my work, i went home.\n",
      "————————————————————————————————————————————————————————————\n"
     ]
    },
    {
     "data": {
      "application/vnd.jupyter.widget-view+json": {
       "model_id": "6d007c977b1c4ef2ac249c5617bc3515",
       "version_major": 2,
       "version_minor": 0
      },
      "text/plain": [
       "EPOCH: 86/100:   0%|          | 0/536 [00:00<?, ?it/s]"
      ]
     },
     "metadata": {},
     "output_type": "display_data"
    },
    {
     "name": "stdout",
     "output_type": "stream",
     "text": [
      "Epoch 86 | Train Loss: 0.1688 | PPL: 1.1839\n",
      "Epoch 86 | Val Loss: 2.7812 | Val PPL: 16.1376\n",
      "Validation BLEU: 0.5131\n",
      "\n",
      " A comparison between sample predictions and references:\n",
      "PRED 1: could you help me with my homework?\n",
      "REF  1: will you help me with my homework?\n",
      "————————————————————————————————————————————————————————————\n",
      "PRED 2: i like both dogs and cats.\n",
      "REF  2: i like both cats and dogs.\n",
      "————————————————————————————————————————————————————————————\n"
     ]
    },
    {
     "data": {
      "application/vnd.jupyter.widget-view+json": {
       "model_id": "0d0d23f81b464e6bb01438c917c52ade",
       "version_major": 2,
       "version_minor": 0
      },
      "text/plain": [
       "EPOCH: 87/100:   0%|          | 0/536 [00:00<?, ?it/s]"
      ]
     },
     "metadata": {},
     "output_type": "display_data"
    },
    {
     "name": "stdout",
     "output_type": "stream",
     "text": [
      "Epoch 87 | Train Loss: 0.1656 | PPL: 1.1801\n",
      "Epoch 87 | Val Loss: 2.7523 | Val PPL: 15.6794\n",
      "Validation BLEU: 0.5290\n",
      "\n",
      " A comparison between sample predictions and references:\n",
      "PRED 1: tom took his seat.\n",
      "REF  1: tom was away from his desk.\n",
      "————————————————————————————————————————————————————————————\n",
      "PRED 2: bring in the laundry.\n",
      "REF  2: bring in the laundry.\n",
      "————————————————————————————————————————————————————————————\n"
     ]
    },
    {
     "data": {
      "application/vnd.jupyter.widget-view+json": {
       "model_id": "ca94be6102d94014b0467183eeae4f97",
       "version_major": 2,
       "version_minor": 0
      },
      "text/plain": [
       "EPOCH: 88/100:   0%|          | 0/536 [00:00<?, ?it/s]"
      ]
     },
     "metadata": {},
     "output_type": "display_data"
    },
    {
     "name": "stdout",
     "output_type": "stream",
     "text": [
      "Epoch 88 | Train Loss: 0.1635 | PPL: 1.1776\n",
      "Epoch 88 | Val Loss: 2.5551 | Val PPL: 12.8726\n",
      "Validation BLEU: 0.6988\n",
      "\n",
      " A comparison between sample predictions and references:\n",
      "PRED 1: generally speaking, the climate of japan is mild.\n",
      "REF  1: generally speaking, the climate of japan is mild.\n",
      "————————————————————————————————————————————————————————————\n",
      "PRED 2: the house was silent.\n",
      "REF  2: the house was quiet.\n",
      "————————————————————————————————————————————————————————————\n"
     ]
    },
    {
     "data": {
      "application/vnd.jupyter.widget-view+json": {
       "model_id": "ffc924bc6e474d049e9b9d366a3cdd37",
       "version_major": 2,
       "version_minor": 0
      },
      "text/plain": [
       "EPOCH: 89/100:   0%|          | 0/536 [00:00<?, ?it/s]"
      ]
     },
     "metadata": {},
     "output_type": "display_data"
    },
    {
     "name": "stdout",
     "output_type": "stream",
     "text": [
      "Epoch 89 | Train Loss: 0.1621 | PPL: 1.1760\n",
      "Epoch 89 | Val Loss: 2.8213 | Val PPL: 16.7994\n",
      "Validation BLEU: 0.5253\n",
      "\n",
      " A comparison between sample predictions and references:\n",
      "PRED 1: this desk is broken.\n",
      "REF  1: this desk is broken.\n",
      "————————————————————————————————————————————————————————————\n",
      "PRED 2: i don't know why he did not work.\n",
      "REF  2: i have no idea why he quit his job suddenly.\n",
      "————————————————————————————————————————————————————————————\n"
     ]
    },
    {
     "data": {
      "application/vnd.jupyter.widget-view+json": {
       "model_id": "2edef9b9861d4bef8c789bb1091ebc60",
       "version_major": 2,
       "version_minor": 0
      },
      "text/plain": [
       "EPOCH: 90/100:   0%|          | 0/536 [00:00<?, ?it/s]"
      ]
     },
     "metadata": {},
     "output_type": "display_data"
    },
    {
     "name": "stdout",
     "output_type": "stream",
     "text": [
      "Epoch 90 | Train Loss: 0.1607 | PPL: 1.1743\n",
      "Epoch 90 | Val Loss: 2.7768 | Val PPL: 16.0674\n",
      "Validation BLEU: 0.1671\n",
      "\n",
      " A comparison between sample predictions and references:\n",
      "PRED 1: he doesn't eat anything except fruit.\n",
      "REF  1: he eats nothing but fruit.\n",
      "————————————————————————————————————————————————————————————\n",
      "PRED 2: you can't live without water.\n",
      "REF  2: you couldn't live without water.\n",
      "————————————————————————————————————————————————————————————\n",
      "Saved checkpoint: ./checkpoints\\epoch_90.pth\n"
     ]
    },
    {
     "data": {
      "application/vnd.jupyter.widget-view+json": {
       "model_id": "22cffcef261a4bf7b2ce3c156fd180e1",
       "version_major": 2,
       "version_minor": 0
      },
      "text/plain": [
       "EPOCH: 91/100:   0%|          | 0/536 [00:00<?, ?it/s]"
      ]
     },
     "metadata": {},
     "output_type": "display_data"
    },
    {
     "name": "stdout",
     "output_type": "stream",
     "text": [
      "Epoch 91 | Train Loss: 0.1580 | PPL: 1.1711\n",
      "Epoch 91 | Val Loss: 2.7992 | Val PPL: 16.4320\n",
      "Validation BLEU: 0.3190\n",
      "\n",
      " A comparison between sample predictions and references:\n",
      "PRED 1: i was impolite.\n",
      "REF  1: i was rude.\n",
      "————————————————————————————————————————————————————————————\n",
      "PRED 2: he is my life.\n",
      "REF  2: he is my classmate.\n",
      "————————————————————————————————————————————————————————————\n"
     ]
    },
    {
     "data": {
      "application/vnd.jupyter.widget-view+json": {
       "model_id": "62c41fd62f604b27a2c8a4dffd174bb9",
       "version_major": 2,
       "version_minor": 0
      },
      "text/plain": [
       "EPOCH: 92/100:   0%|          | 0/536 [00:00<?, ?it/s]"
      ]
     },
     "metadata": {},
     "output_type": "display_data"
    },
    {
     "name": "stdout",
     "output_type": "stream",
     "text": [
      "Epoch 92 | Train Loss: 0.1571 | PPL: 1.1701\n",
      "Epoch 92 | Val Loss: 2.8666 | Val PPL: 17.5779\n",
      "Validation BLEU: 0.7143\n",
      "\n",
      " A comparison between sample predictions and references:\n",
      "PRED 1: let's conserve our limited water resources.\n",
      "REF  1: let's conserve our limited water supply.\n",
      "————————————————————————————————————————————————————————————\n",
      "PRED 2: we went for a walk.\n",
      "REF  2: we went for a stroll.\n",
      "————————————————————————————————————————————————————————————\n"
     ]
    },
    {
     "data": {
      "application/vnd.jupyter.widget-view+json": {
       "model_id": "c53dce42d4014e87a1698e822caec418",
       "version_major": 2,
       "version_minor": 0
      },
      "text/plain": [
       "EPOCH: 93/100:   0%|          | 0/536 [00:00<?, ?it/s]"
      ]
     },
     "metadata": {},
     "output_type": "display_data"
    },
    {
     "name": "stdout",
     "output_type": "stream",
     "text": [
      "Epoch 93 | Train Loss: 0.1553 | PPL: 1.1680\n",
      "Epoch 93 | Val Loss: 2.9018 | Val PPL: 18.2067\n",
      "Validation BLEU: 0.1828\n",
      "\n",
      " A comparison between sample predictions and references:\n",
      "PRED 1: why me, may i take my advice?\n",
      "REF  1: how come you aren't taking me?\n",
      "————————————————————————————————————————————————————————————\n",
      "PRED 2: he makes frequent visits to japan on business.\n",
      "REF  2: he often goes to japan on business.\n",
      "————————————————————————————————————————————————————————————\n"
     ]
    },
    {
     "data": {
      "application/vnd.jupyter.widget-view+json": {
       "model_id": "8622d813e049432bb6b54d3885936aa9",
       "version_major": 2,
       "version_minor": 0
      },
      "text/plain": [
       "EPOCH: 94/100:   0%|          | 0/536 [00:00<?, ?it/s]"
      ]
     },
     "metadata": {},
     "output_type": "display_data"
    },
    {
     "name": "stdout",
     "output_type": "stream",
     "text": [
      "Epoch 94 | Train Loss: 0.1534 | PPL: 1.1657\n",
      "Epoch 94 | Val Loss: 2.8232 | Val PPL: 16.8307\n",
      "Validation BLEU: 0.5221\n",
      "\n",
      " A comparison between sample predictions and references:\n",
      "PRED 1: she helped her mother help, but not speak to her mother.\n",
      "REF  1: she assisted her mother in caring for the baby.\n",
      "————————————————————————————————————————————————————————————\n",
      "PRED 2: i think it is a mere coincidence.\n",
      "REF  2: i think it is a mere coincidence.\n",
      "————————————————————————————————————————————————————————————\n"
     ]
    },
    {
     "data": {
      "application/vnd.jupyter.widget-view+json": {
       "model_id": "0425dffcf33844fca37d2511f11a4afe",
       "version_major": 2,
       "version_minor": 0
      },
      "text/plain": [
       "EPOCH: 95/100:   0%|          | 0/536 [00:00<?, ?it/s]"
      ]
     },
     "metadata": {},
     "output_type": "display_data"
    },
    {
     "name": "stdout",
     "output_type": "stream",
     "text": [
      "Epoch 95 | Train Loss: 0.1522 | PPL: 1.1644\n",
      "Epoch 95 | Val Loss: 2.8248 | Val PPL: 16.8584\n",
      "Validation BLEU: 0.0269\n",
      "\n",
      " A comparison between sample predictions and references:\n",
      "PRED 1: calm down.\n",
      "REF  1: please relax.\n",
      "————————————————————————————————————————————————————————————\n",
      "PRED 2: i was on my house.\n",
      "REF  2: the house was in flames.\n",
      "————————————————————————————————————————————————————————————\n"
     ]
    },
    {
     "data": {
      "application/vnd.jupyter.widget-view+json": {
       "model_id": "35c07fc06d8c480a9db72f6aa9f21d7d",
       "version_major": 2,
       "version_minor": 0
      },
      "text/plain": [
       "EPOCH: 96/100:   0%|          | 0/536 [00:00<?, ?it/s]"
      ]
     },
     "metadata": {},
     "output_type": "display_data"
    },
    {
     "name": "stdout",
     "output_type": "stream",
     "text": [
      "Epoch 96 | Train Loss: 0.1508 | PPL: 1.1628\n",
      "Epoch 96 | Val Loss: 2.8380 | Val PPL: 17.0823\n",
      "Validation BLEU: 0.0849\n",
      "\n",
      " A comparison between sample predictions and references:\n",
      "PRED 1: he didn't know for sure when he'll come back.\n",
      "REF  1: he didn't specify when he would return.\n",
      "————————————————————————————————————————————————————————————\n",
      "PRED 2: what are you laughing at?\n",
      "REF  2: why are you laughing?\n",
      "————————————————————————————————————————————————————————————\n"
     ]
    },
    {
     "data": {
      "application/vnd.jupyter.widget-view+json": {
       "model_id": "587e2280a59f4e57aa3ceb93607fbdff",
       "version_major": 2,
       "version_minor": 0
      },
      "text/plain": [
       "EPOCH: 97/100:   0%|          | 0/536 [00:00<?, ?it/s]"
      ]
     },
     "metadata": {},
     "output_type": "display_data"
    },
    {
     "name": "stdout",
     "output_type": "stream",
     "text": [
      "Epoch 97 | Train Loss: 0.1487 | PPL: 1.1603\n",
      "Epoch 97 | Val Loss: 2.9787 | Val PPL: 19.6618\n",
      "Validation BLEU: 0.0907\n",
      "\n",
      " A comparison between sample predictions and references:\n",
      "PRED 1: can i talk with you for a moment?\n",
      "REF  1: may i speak to you a minute?\n",
      "————————————————————————————————————————————————————————————\n",
      "PRED 2: the train will arrive on time.\n",
      "REF  2: the train will come in at platform ten.\n",
      "————————————————————————————————————————————————————————————\n"
     ]
    },
    {
     "data": {
      "application/vnd.jupyter.widget-view+json": {
       "model_id": "3f1493127fe8473ba8ec3381b642aa32",
       "version_major": 2,
       "version_minor": 0
      },
      "text/plain": [
       "EPOCH: 98/100:   0%|          | 0/536 [00:00<?, ?it/s]"
      ]
     },
     "metadata": {},
     "output_type": "display_data"
    },
    {
     "name": "stdout",
     "output_type": "stream",
     "text": [
      "Epoch 98 | Train Loss: 0.1490 | PPL: 1.1607\n",
      "Epoch 98 | Val Loss: 2.7270 | Val PPL: 15.2865\n",
      "Validation BLEU: 0.0893\n",
      "\n",
      " A comparison between sample predictions and references:\n",
      "PRED 1: that noise's what he's so strange.\n",
      "REF  1: i wonder what that strange sound is.\n",
      "————————————————————————————————————————————————————————————\n",
      "PRED 2: tom is a man of the professional kit.\n",
      "REF  2: tom is a real man.\n",
      "————————————————————————————————————————————————————————————\n"
     ]
    },
    {
     "data": {
      "application/vnd.jupyter.widget-view+json": {
       "model_id": "368754c9709e479badea695dc07b8fb0",
       "version_major": 2,
       "version_minor": 0
      },
      "text/plain": [
       "EPOCH: 99/100:   0%|          | 0/536 [00:00<?, ?it/s]"
      ]
     },
     "metadata": {},
     "output_type": "display_data"
    },
    {
     "name": "stdout",
     "output_type": "stream",
     "text": [
      "Epoch 99 | Train Loss: 0.1480 | PPL: 1.1596\n",
      "Epoch 99 | Val Loss: 2.8920 | Val PPL: 18.0290\n",
      "Validation BLEU: 0.5568\n",
      "\n",
      " A comparison between sample predictions and references:\n",
      "PRED 1: his story isn't really boring.\n",
      "REF  1: his story must be true.\n",
      "————————————————————————————————————————————————————————————\n",
      "PRED 2: our team won the game.\n",
      "REF  2: our team won the game.\n",
      "————————————————————————————————————————————————————————————\n"
     ]
    },
    {
     "data": {
      "application/vnd.jupyter.widget-view+json": {
       "model_id": "3111137a16fa460c84a19cf7a92e0ff2",
       "version_major": 2,
       "version_minor": 0
      },
      "text/plain": [
       "EPOCH: 100/100:   0%|          | 0/536 [00:00<?, ?it/s]"
      ]
     },
     "metadata": {},
     "output_type": "display_data"
    },
    {
     "name": "stdout",
     "output_type": "stream",
     "text": [
      "Epoch 100 | Train Loss: 0.1459 | PPL: 1.1571\n",
      "Epoch 100 | Val Loss: 2.8688 | Val PPL: 17.6162\n",
      "Validation BLEU: 0.6270\n",
      "\n",
      " A comparison between sample predictions and references:\n",
      "PRED 1: i haven't been to college yet.\n",
      "REF  1: i haven't gone to college yet.\n",
      "————————————————————————————————————————————————————————————\n",
      "PRED 2: she has been busy since yesterday.\n",
      "REF  2: she has been busy since yesterday.\n",
      "————————————————————————————————————————————————————————————\n",
      "Saved checkpoint: ./checkpoints\\epoch_100.pth\n"
     ]
    }
   ],
   "source": [
    "train_model(model, train_loader, val_loader, ja_tokenizer, en_tokenizer, \n",
    "                device, N_EPOCHS=N_EPOCHS, lr=LR, SAVE_EPOCH=SAVE_EPOCH, CHECKPOINT_DIR=CHECKPOINT_DIR)"
   ]
  },
  {
   "cell_type": "code",
   "execution_count": 32,
   "id": "0939978d-0675-4985-b72e-622c30214b2f",
   "metadata": {},
   "outputs": [],
   "source": [
    "torch.save(model.state_dict(), 'outputs/model_state.pth')"
   ]
  },
  {
   "cell_type": "code",
   "execution_count": 33,
   "id": "f561df1e-d50e-41ec-b6f5-4381e402eda9",
   "metadata": {},
   "outputs": [],
   "source": [
    "torch.save(model, 'outputs/ja_en_transformer_translator_model.pth')"
   ]
  },
  {
   "cell_type": "code",
   "execution_count": 37,
   "id": "7481f8b8-e618-467c-987f-b63167010179",
   "metadata": {},
   "outputs": [
    {
     "data": {
      "text/plain": [
       "Transformer(\n",
       "  (ja_embedding): Embedding(8000, 512, padding_idx=0)\n",
       "  (en_embedding): Embedding(8000, 512, padding_idx=0)\n",
       "  (positional_encoder): PositionalEncoder(\n",
       "    (dropout): Dropout(p=0.1, inplace=False)\n",
       "  )\n",
       "  (dropout): Dropout(p=0.1, inplace=False)\n",
       "  (encoder): Encoder(\n",
       "    (layers): ModuleList(\n",
       "      (0-5): 6 x EncoderBlock(\n",
       "        (attention): MultiHeadAttention(\n",
       "          (w_q): Linear(in_features=512, out_features=512, bias=True)\n",
       "          (w_k): Linear(in_features=512, out_features=512, bias=True)\n",
       "          (w_v): Linear(in_features=512, out_features=512, bias=True)\n",
       "          (out): Linear(in_features=512, out_features=512, bias=True)\n",
       "          (dropout): Dropout(p=0.1, inplace=False)\n",
       "        )\n",
       "        (dropout1): Dropout(p=0.1, inplace=False)\n",
       "        (norm1): LayerNorm((512,), eps=1e-05, elementwise_affine=True)\n",
       "        (feedforward): Sequential(\n",
       "          (0): Linear(in_features=512, out_features=2048, bias=True)\n",
       "          (1): ReLU()\n",
       "          (2): Dropout(p=0.1, inplace=False)\n",
       "          (3): Linear(in_features=2048, out_features=512, bias=True)\n",
       "        )\n",
       "        (dropout2): Dropout(p=0.1, inplace=False)\n",
       "        (norm2): LayerNorm((512,), eps=1e-05, elementwise_affine=True)\n",
       "      )\n",
       "    )\n",
       "  )\n",
       "  (decoder): Decoder(\n",
       "    (layers): ModuleList(\n",
       "      (0-5): 6 x DecoderBlock(\n",
       "        (masked_attention): MultiHeadAttention(\n",
       "          (w_q): Linear(in_features=512, out_features=512, bias=True)\n",
       "          (w_k): Linear(in_features=512, out_features=512, bias=True)\n",
       "          (w_v): Linear(in_features=512, out_features=512, bias=True)\n",
       "          (out): Linear(in_features=512, out_features=512, bias=True)\n",
       "          (dropout): Dropout(p=0.1, inplace=False)\n",
       "        )\n",
       "        (dropout1): Dropout(p=0.1, inplace=False)\n",
       "        (norm1): LayerNorm((512,), eps=1e-05, elementwise_affine=True)\n",
       "        (attention): MultiHeadAttention(\n",
       "          (w_q): Linear(in_features=512, out_features=512, bias=True)\n",
       "          (w_k): Linear(in_features=512, out_features=512, bias=True)\n",
       "          (w_v): Linear(in_features=512, out_features=512, bias=True)\n",
       "          (out): Linear(in_features=512, out_features=512, bias=True)\n",
       "          (dropout): Dropout(p=0.1, inplace=False)\n",
       "        )\n",
       "        (dropout2): Dropout(p=0.1, inplace=False)\n",
       "        (norm2): LayerNorm((512,), eps=1e-05, elementwise_affine=True)\n",
       "        (feedforward): Sequential(\n",
       "          (0): Linear(in_features=512, out_features=2048, bias=True)\n",
       "          (1): ReLU()\n",
       "          (2): Linear(in_features=2048, out_features=512, bias=True)\n",
       "        )\n",
       "        (dropout3): Dropout(p=0.1, inplace=False)\n",
       "        (norm3): LayerNorm((512,), eps=1e-05, elementwise_affine=True)\n",
       "      )\n",
       "    )\n",
       "  )\n",
       "  (out_proj): Linear(in_features=512, out_features=8000, bias=False)\n",
       ")"
      ]
     },
     "execution_count": 37,
     "metadata": {},
     "output_type": "execute_result"
    }
   ],
   "source": [
    "model.load_state_dict(torch.load(\"outputs/model_state.pth\", map_location=device))\n",
    "model.eval()"
   ]
  },
  {
   "cell_type": "code",
   "execution_count": 37,
   "id": "142a00bd-d8df-4b59-8e42-72f1eb105db6",
   "metadata": {},
   "outputs": [],
   "source": [
    "checkpoint = torch.load(\"checkpoints/epoch_50.pth\", map_location=device)\n",
    "model.load_state_dict(checkpoint[\"model_state\"])\n",
    "optimizer.load_state_dict(checkpoint[\"optimizer_state\"])\n",
    "epoch = checkpoint[\"epoch\"]\n",
    "train_loss = checkpoint[\"loss\"]"
   ]
  },
  {
   "cell_type": "code",
   "execution_count": 15,
   "id": "31cdbce9-407d-40d2-b028-864427ca2597",
   "metadata": {},
   "outputs": [
    {
     "ename": "NameError",
     "evalue": "name 'val_loader' is not defined",
     "output_type": "error",
     "traceback": [
      "\u001b[31m---------------------------------------------------------------------------\u001b[39m",
      "\u001b[31mNameError\u001b[39m                                 Traceback (most recent call last)",
      "\u001b[36mCell\u001b[39m\u001b[36m \u001b[39m\u001b[32mIn[15]\u001b[39m\u001b[32m, line 5\u001b[39m\n\u001b[32m      3\u001b[39m n = \u001b[32m0\u001b[39m\n\u001b[32m      4\u001b[39m \u001b[38;5;28;01mwith\u001b[39;00m torch.no_grad():\n\u001b[32m----> \u001b[39m\u001b[32m5\u001b[39m     \u001b[38;5;28;01mfor\u001b[39;00m ja_ids, en_ids \u001b[38;5;129;01min\u001b[39;00m \u001b[43mval_loader\u001b[49m:\n\u001b[32m      6\u001b[39m         ja_ids = ja_ids.to(device)\n\u001b[32m      7\u001b[39m         en_ids = en_ids.to(device)\n",
      "\u001b[31mNameError\u001b[39m: name 'val_loader' is not defined"
     ]
    }
   ],
   "source": [
    "model.eval()\n",
    "val_loss = 0.0\n",
    "n = 0\n",
    "with torch.no_grad():\n",
    "    for ja_ids, en_ids in val_loader:\n",
    "        ja_ids = ja_ids.to(device)\n",
    "        en_ids = en_ids.to(device)\n",
    "        dec_input = en_ids[:, :-1]\n",
    "        target = en_ids[:, 1:].contiguous().view(-1)\n",
    "        outputs = model(ja_ids, dec_input)\n",
    "        outputs = outputs.view(-1, outputs.size(-1))\n",
    "        loss = criterion(outputs, target)\n",
    "        val_loss += loss.item() * ja_ids.size(0)\n",
    "        n += ja_ids.size(0)\n",
    "\n",
    "val_loss /= n\n",
    "val_ppl = math.exp(val_loss)\n",
    "print(f\"Validation Loss: {val_loss:.4f} | Perplexity: {val_ppl:.2f}\")"
   ]
  },
  {
   "cell_type": "code",
   "execution_count": 51,
   "id": "7e72275b-1702-4f3d-b6f9-748dd9a92fa6",
   "metadata": {},
   "outputs": [],
   "source": [
    "def evaluate_samples(model, val_loader, tokenizer, device, num_samples=10):\n",
    "    model.eval()\n",
    "    shown = 0\n",
    "\n",
    "    with torch.no_grad():\n",
    "        for ja_ids, en_ids in val_loader:\n",
    "            ja_ids = ja_ids.to(device)\n",
    "            en_ids = en_ids.to(device)\n",
    "\n",
    "            # Loop over batch sentences\n",
    "            for j in range(ja_ids.size(0)):\n",
    "                src = ja_ids[j].unsqueeze(0)   # [1, seq_len]\n",
    "                ref = en_ids[j].tolist()\n",
    "\n",
    "                # Decode prediction\n",
    "                pred_ids = greedy_decode(model, src, tokenizer, max_len=80, device=device)\n",
    "                pred_sentence = tokenizer.decode(pred_ids)\n",
    "\n",
    "                # Decode reference\n",
    "                ref_sentence = tokenizer.decode(\n",
    "                    [t for t in ref if t not in [tokenizer.pad_id(), tokenizer.bos_id(), tokenizer.eos_id()]]\n",
    "                )\n",
    "\n",
    "                print(\"SRC:\", src[0][:20].tolist(), \"...\")  # print first 20 tokens as a check\n",
    "                print(\"PRED:\", pred_sentence)\n",
    "                print(\"REF: \", ref_sentence)\n",
    "                print(\"—\" * 80)\n",
    "\n",
    "                shown += 1\n",
    "                if shown >= num_samples:\n",
    "                    return"
   ]
  },
  {
   "cell_type": "code",
   "execution_count": 52,
   "id": "60153631-20e3-4b5b-b48a-b925c4a8abe8",
   "metadata": {},
   "outputs": [
    {
     "name": "stdout",
     "output_type": "stream",
     "text": [
      "SRC: [1, 27, 1363, 135, 963, 5982, 2, 0, 0, 0, 0, 0, 0, 0, 0, 0, 0, 0, 0, 0] ...\n",
      "PRED: i'm going to go.\n",
      "REF:  have a good look at this picture.\n",
      "————————————————————————————————————————————————————————————————————————————————\n",
      "SRC: [1, 2166, 6886, 273, 6005, 6421, 6037, 2082, 5982, 2, 0, 0, 0, 0, 0, 0, 0, 0, 0, 0] ...\n",
      "PRED: i'm going to go.\n",
      "REF:  don't get involved with that guy.\n",
      "————————————————————————————————————————————————————————————————————————————————\n",
      "SRC: [1, 528, 5993, 3565, 1515, 403, 6005, 538, 285, 3754, 88, 5982, 2, 0, 0, 0, 0, 0, 0, 0] ...\n",
      "PRED: i'm going to go.\n",
      "REF:  either you or i have to go there.\n",
      "————————————————————————————————————————————————————————————————————————————————\n",
      "SRC: [1, 2870, 6082, 6999, 5986, 2257, 606, 6012, 2, 0, 0, 0, 0, 0, 0, 0, 0, 0, 0, 0] ...\n",
      "PRED: i'm going to go.\n",
      "REF:  have you ever had food poisoning?\n",
      "————————————————————————————————————————————————————————————————————————————————\n",
      "SRC: [1, 23, 2971, 609, 3968, 5982, 2, 0, 0, 0, 0, 0, 0, 0, 0, 0, 0, 0, 0, 0] ...\n",
      "PRED: i'm going to go.\n",
      "REF:  he eats nothing other than fruit.\n",
      "————————————————————————————————————————————————————————————————————————————————\n",
      "SRC: [1, 23, 6750, 5986, 6486, 6152, 5994, 6253, 6972, 10, 5982, 2, 0, 0, 0, 0, 0, 0, 0, 0] ...\n",
      "PRED: i'm going to go.\n",
      "REF:  he calculated the speed of light.\n",
      "————————————————————————————————————————————————————————————————————————————————\n",
      "SRC: [1, 1547, 6003, 5986, 3, 4, 604, 19, 213, 6012, 2, 0, 0, 0, 0, 0, 0, 0, 0, 0] ...\n",
      "PRED: i'm going to go.\n",
      "REF:  have you ever seen a baby pigeon?\n",
      "————————————————————————————————————————————————————————————————————————————————\n",
      "SRC: [1, 2271, 5986, 1739, 6595, 5199, 5973, 6039, 5982, 2, 0, 0, 0, 0, 0, 0, 0, 0, 0, 0] ...\n",
      "PRED: i'm going to go.\n",
      "REF:  don't forget to flush the toilet.\n",
      "————————————————————————————————————————————————————————————————————————————————\n",
      "SRC: [1, 722, 26, 2433, 6036, 6235, 106, 5982, 2, 0, 0, 0, 0, 0, 0, 0, 0, 0, 0, 0] ...\n",
      "PRED: i'm going to go.\n",
      "REF:  fifty people can ride on the bus.\n",
      "————————————————————————————————————————————————————————————————————————————————\n",
      "SRC: [1, 1959, 935, 4, 6005, 62, 1025, 6012, 2, 0, 0, 0, 0, 0, 0, 0, 0, 0, 0, 0] ...\n",
      "PRED: i'm going to go.\n",
      "REF:  have you finished your lunch yet?\n",
      "————————————————————————————————————————————————————————————————————————————————\n"
     ]
    }
   ],
   "source": [
    "evaluate_samples(model, val_loader, en_tokenizer, device, num_samples=10)"
   ]
  },
  {
   "cell_type": "code",
   "execution_count": 14,
   "id": "73172114-f2da-4593-a431-f3c271bdcc9b",
   "metadata": {},
   "outputs": [
    {
     "name": "stdout",
     "output_type": "stream",
     "text": [
      "Epoch 1, Loss: 267.5431\n",
      "Epoch 2, Loss: 46.9154\n",
      "Epoch 3, Loss: 31.8220\n",
      "Epoch 4, Loss: 29.3930\n",
      "Epoch 5, Loss: 28.4512\n",
      "Epoch 6, Loss: 25.8560\n",
      "Epoch 7, Loss: 26.2965\n",
      "Epoch 8, Loss: 27.1346\n",
      "Epoch 9, Loss: 24.2319\n",
      "Epoch 10, Loss: 23.7523\n",
      "SRC: 私は学生です\n",
      "REF: I am a student.\n",
      "PRED: [[1, 46, 15, 17, 99, 21, 16, 17, 32, 99, 10, 15, 46, 10, 10, 46, 46, 46, 16, 11, 46]]\n",
      "---\n",
      "SRC: 彼は先生です\n",
      "REF: He is a teacher.\n",
      "PRED: [[1, 97, 10, 46, 5, 32, 98, 32, 32, 7, 97, 10, 17, 46, 46, 5, 46, 32, 5, 46, 5]]\n",
      "---\n",
      "SRC: 猫が好きです\n",
      "REF: I like cats.\n",
      "PRED: [[1, 5, 46, 7, 46, 15, 97, 9, 46, 15, 32, 97, 32, 46, 32, 11, 15, 15, 46, 46, 97]]\n",
      "---\n",
      "SRC: 犬が好きです\n",
      "REF: I like dogs.\n",
      "PRED: [[1, 46, 15, 46, 11, 46, 16, 15, 5, 15, 12, 1, 10, 46, 32, 8, 8, 15, 15, 97, 46]]\n",
      "---\n",
      "SRC: 彼女は学生です\n",
      "REF: She is a student.\n",
      "PRED: [[1, 1, 15, 10, 46, 8, 99, 16, 15, 16, 97, 4, 99, 17, 46, 15, 15, 16, 1, 5, 46]]\n",
      "---\n"
     ]
    }
   ],
   "source": [
    "import torch\n",
    "import torch.nn as nn\n",
    "import torch.optim as optim\n",
    "from torch.utils.data import DataLoader, Dataset\n",
    "\n",
    "# -----------------\n",
    "# 1. Tiny dummy dataset (10 pairs)\n",
    "# -----------------\n",
    "tiny_data = [\n",
    "    (\"私は学生です\", \"I am a student.\"),\n",
    "    (\"彼は先生です\", \"He is a teacher.\"),\n",
    "    (\"猫が好きです\", \"I like cats.\"),\n",
    "    (\"犬が好きです\", \"I like dogs.\"),\n",
    "    (\"彼女は学生です\", \"She is a student.\"),\n",
    "    (\"私は日本人です\", \"I am Japanese.\"),\n",
    "    (\"これはペンです\", \"This is a pen.\"),\n",
    "    (\"あれは本です\", \"That is a book.\"),\n",
    "    (\"ありがとう\", \"Thank you.\"),\n",
    "    (\"さようなら\", \"Goodbye.\"),\n",
    "]\n",
    "\n",
    "# Replace with your tokenizer / vocab\n",
    "src_tokenizer = lambda x: [ord(c) % 100 for c in x]   # dummy encoder\n",
    "tgt_tokenizer = lambda x: [ord(c) % 100 for c in x]\n",
    "\n",
    "class TinyDataset(Dataset):\n",
    "    def __init__(self, pairs):\n",
    "        self.pairs = pairs\n",
    "    def __len__(self): return len(self.pairs)\n",
    "    def __getitem__(self, idx):\n",
    "        ja, en = self.pairs[idx]\n",
    "        return torch.tensor(src_tokenizer(ja)), torch.tensor(tgt_tokenizer(en))\n",
    "\n",
    "def collate(batch):\n",
    "    srcs, tgts = zip(*batch)\n",
    "    srcs = nn.utils.rnn.pad_sequence(srcs, batch_first=True, padding_value=0)\n",
    "    tgts = nn.utils.rnn.pad_sequence(tgts, batch_first=True, padding_value=0)\n",
    "    return srcs, tgts\n",
    "\n",
    "train_loader = DataLoader(TinyDataset(tiny_data), batch_size=2, shuffle=True, collate_fn=collate)\n",
    "\n",
    "# -----------------\n",
    "# 2. Model (your Transformer here)\n",
    "# -----------------\n",
    "# Assume you already have Seq2SeqTransformer(enc, dec)\n",
    "model = Transformer(d_model=D_MODEL,\n",
    "                    ja_vocab_size=JA_VOCAB_SIZE,\n",
    "                    en_vocab_size=EN_VOCAB_SIZE,\n",
    "                    max_seq_len=MAX_SEQ_LEN, \n",
    "                    n_heads=N_HEADS,\n",
    "                    dropout=DROPOUT,\n",
    "                   n_layers=N_LAYERS)\n",
    "\n",
    "criterion = nn.CrossEntropyLoss(ignore_index=0)\n",
    "optimizer = optim.Adam(model.parameters(), lr=1e-3)\n",
    "\n",
    "# -----------------\n",
    "# 3. Training loop\n",
    "# -----------------\n",
    "for epoch in range(10):\n",
    "    total_loss = 0\n",
    "    for src, tgt in train_loader:\n",
    "        optimizer.zero_grad()\n",
    "        # teacher forcing: input = tgt[:, :-1], target = tgt[:, 1:]\n",
    "        out = model(src, tgt[:, :-1])\n",
    "        out = out.reshape(-1, out.size(-1))\n",
    "        loss = criterion(out, tgt[:, 1:].reshape(-1))\n",
    "        loss.backward()\n",
    "        optimizer.step()\n",
    "        total_loss += loss.item()\n",
    "    print(f\"Epoch {epoch+1}, Loss: {total_loss:.4f}\")\n",
    "\n",
    "# -----------------\n",
    "# 4. Test decoding\n",
    "# -----------------\n",
    "def greedy_decode(model, src, max_len=20):\n",
    "    src = src.unsqueeze(0)\n",
    "    tgt = torch.tensor([[1]])  # BOS token id\n",
    "    for _ in range(max_len):\n",
    "        out = model(src, tgt)\n",
    "        next_word = out[0, -1].argmax().unsqueeze(0).unsqueeze(0)\n",
    "        tgt = torch.cat([tgt, next_word], dim=1)\n",
    "        if next_word.item() == 2:  # EOS token id\n",
    "            break\n",
    "    return tgt\n",
    "\n",
    "with torch.no_grad():\n",
    "    for ja, en in tiny_data[:5]:\n",
    "        src = torch.tensor(src_tokenizer(ja))\n",
    "        pred = greedy_decode(model, src)\n",
    "        print(\"SRC:\", ja)\n",
    "        print(\"REF:\", en)\n",
    "        print(\"PRED:\", pred.tolist())\n",
    "        print(\"---\")"
   ]
  },
  {
   "cell_type": "code",
   "execution_count": null,
   "id": "84509798-4cdb-41b4-88ed-bbd26ff7a3d1",
   "metadata": {},
   "outputs": [],
   "source": []
  }
 ],
 "metadata": {
  "kernelspec": {
   "display_name": "Python 3 (ipykernel)",
   "language": "python",
   "name": "python3"
  },
  "language_info": {
   "codemirror_mode": {
    "name": "ipython",
    "version": 3
   },
   "file_extension": ".py",
   "mimetype": "text/x-python",
   "name": "python",
   "nbconvert_exporter": "python",
   "pygments_lexer": "ipython3",
   "version": "3.12.6"
  }
 },
 "nbformat": 4,
 "nbformat_minor": 5
}
